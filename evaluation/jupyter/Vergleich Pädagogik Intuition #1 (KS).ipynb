{
 "cells": [
  {
   "cell_type": "code",
   "execution_count": 1,
   "metadata": {},
   "outputs": [],
   "source": [
    "// Eingabewerte\n",
    "var input = {\n",
    "    \"CB\": [4.88, 2.88, 7.8],\n",
    "    \"FJ\": [6.11, 4.1, 6],\n",
    "    \"Bär 0 rot\": [3, 2, 9],\n",
    "    \"Wal 42 blau\": [5, 3, 6],\n",
    "    \"Kaninchen 22 blau\": [6.5, 3, 7.5],\n",
    "    \"Zebra 3 grün\": [4, 5, 6],\n",
    "    \"Giraffe 00 lila\": [3, 5, 8],\n",
    "    \"Elefant 21 orange\": [7.5, 3.5, 4],\n",
    "    \"Hirsch 07 rot\": [2, 4, 5],\n",
    "    \"Blauwal 17 neonocker\": [3, 1, 4],\n",
    "    \"Katze 42 blau\": [4, 1, 6],\n",
    "    \"Axolotl 27 rot\": [4, 8, 8],\n",
    "    \"Galapagosschildkröte 17 gelb\": [4, 6, 7.5],\n",
    "    \"Löwe 15 gelb\": [1, 2, 5],\n",
    "    \"Hans Zimmer 20\": [2, 5, 5],\n",
    "    \"Löwe 7 orange\": [8, 6, 7],\n",
    "    \"Gepard 13 blau\": [4, 5, 6],\n",
    "    \"Otter 11 blau\": [3, 1, 6],\n",
    "    \"Koala 666 schwarz\": [6, 6, 8]    \n",
    "}"
   ]
  },
  {
   "cell_type": "code",
   "execution_count": 4,
   "metadata": {},
   "outputs": [
    {
     "name": "stdout",
     "output_type": "stream",
     "text": [
      "-51.60569732519181\n"
     ]
    }
   ],
   "source": [
    "// Calculate fitness\n",
    "var chromosome = {\n",
    "    seq: [4, 1, 1, 4, 2, 2, 3, 2, 2, 1, 3, 3, 3, 2, 3, 1, 4, 4, 1]\n",
    "}\n",
    "\n",
    "// Lade Fitness Funktion\n",
    "var fitnessMod = require('../../src/genetic-algorithm/fitness');\n",
    "\n",
    "// Setze context\n",
    "fitnessMod.context({data: input, groups: 4});\n",
    "\n",
    "// Berechne Fitness score\n",
    "var score = fitnessMod.score(chromosome);\n",
    "\n",
    "console.log(score);"
   ]
  },
  {
   "cell_type": "code",
   "execution_count": 8,
   "metadata": {},
   "outputs": [],
   "source": [
    "var selection = {\n",
    "    combination: chromosome.seq\n",
    "};"
   ]
  },
  {
   "cell_type": "code",
   "execution_count": 9,
   "metadata": {},
   "outputs": [
    {
     "data": {
      "text/html": [
       "\n",
       "\t<div class=\"plotly-plot\">\n",
       "\t\t<div id=\"notebook-plot-1582144195274\"></div>\n",
       "\t\t<script>\n",
       "\t\tfunction plot1582144195274(){\n",
       "\t\t\tPlotly.plot('notebook-plot-1582144195274',[{\"name\":\"Gruppe 0\",\"x\":[6.11,3,3,8,6],\"y\":[0,0,0,0,0],\"mode\":\"markers\",\"marker\":{\"size\":40,\"opacity\":0.4},\"type\":\"scatter\"},{\"name\":\"Gruppe 1\",\"x\":[6.5,4,7.5,2,1],\"y\":[1,1,1,1,1],\"mode\":\"markers\",\"marker\":{\"size\":40,\"opacity\":0.4},\"type\":\"scatter\"},{\"name\":\"Gruppe 2\",\"x\":[3,4,4,4,2],\"y\":[2,2,2,2,2],\"mode\":\"markers\",\"marker\":{\"size\":40,\"opacity\":0.4},\"type\":\"scatter\"},{\"name\":\"Gruppe 3\",\"x\":[4.88,5,4,3],\"y\":[3,3,3,3],\"mode\":\"markers\",\"marker\":{\"size\":40,\"opacity\":0.4},\"type\":\"scatter\"}], {\"title\":\"Selbsteinschätzung Projekterfahrung\",\"xaxis\":{\"range\":[0,10]}});\n",
       "\t\t}if(window.Plotly){plot1582144195274();}else if(!window.require){\n",
       "\t\t\tvar head = document.head || document.getElementsByTagName('head')[0];\n",
       "\t\t\tvar s = document.createElement('script');\n",
       "\t\t\ts.src = 'https://cdn.plot.ly/plotly-latest.min.js';\n",
       "\t\t\ts.type = 'text/javascript';\n",
       "\t\t\ts.async = false;\n",
       "\t\t\ts.onreadystatechange = s.onload = plot1582144195274;\n",
       "\t\t\thead.appendChild(s);\n",
       "\t\t}else{\n",
       "\t\t\trequire(['https://cdn.plot.ly/plotly-latest.min.js'], function(Plotly){\n",
       "\t\t\t\twindow.Plotly = Plotly;\n",
       "\t\t\t\tplot1582144195274();\n",
       "\t\t\t});\n",
       "\t\t}\n",
       "\t\t</script>\n",
       "\t\t</div>\n",
       "\t"
      ]
     },
     "execution_count": 9,
     "metadata": {},
     "output_type": "execute_result"
    }
   ],
   "source": [
    "// Benutze dstools für die Darstellung mit plotly.js\n",
    "var ds = require('dstools');\n",
    "\n",
    "// \n",
    "var data = [];\n",
    "\n",
    "// Wir gruppieren die Mitglieder in Gruppen\n",
    "var groupMembers = {};\n",
    "selection.combination.forEach((group, idx) => {\n",
    "    if(!groupMembers[group]) {\n",
    "        groupMembers[group] = [];\n",
    "    }\n",
    "    \n",
    "    groupMembers[group].push(Object.values(input)[idx][0]); // Wir nehmen die Werte des ersten Merkmals\n",
    "});\n",
    "\n",
    "// Für jede Gruppe ein eigenes Daten-trace \n",
    "Object.values(groupMembers).forEach((group, idx) => {\n",
    "  \n",
    "    data.push({\n",
    "        name: 'Gruppe '+ idx,\n",
    "        x: group, \n",
    "        y: group.map((el) => { return idx; }),\n",
    "        mode: 'markers',\n",
    "        marker: {\n",
    "            size: 40,\n",
    "            opacity: 0.4\n",
    "        },\n",
    "        type: 'scatter'\n",
    "    });    \n",
    "})\n",
    "\n",
    "// \n",
    "ds.Collection().plotly(data, {title: 'Selbsteinschätzung Projekterfahrung', xaxis: {range: [0, 10]}}).show();"
   ]
  },
  {
   "cell_type": "code",
   "execution_count": 10,
   "metadata": {},
   "outputs": [
    {
     "data": {
      "text/html": [
       "\n",
       "\t<div class=\"plotly-plot\">\n",
       "\t\t<div id=\"notebook-plot-1582144232691\"></div>\n",
       "\t\t<script>\n",
       "\t\tfunction plot1582144232691(){\n",
       "\t\t\tPlotly.plot('notebook-plot-1582144232691',[{\"name\":\"Gruppe 0\",\"x\":[4.1,2,1,6,6],\"y\":[0,0,0,0,0],\"mode\":\"markers\",\"marker\":{\"size\":40,\"opacity\":0.4},\"type\":\"scatter\"},{\"name\":\"Gruppe 1\",\"x\":[3,5,3.5,4,2],\"y\":[1,1,1,1,1],\"mode\":\"markers\",\"marker\":{\"size\":40,\"opacity\":0.4},\"type\":\"scatter\"},{\"name\":\"Gruppe 2\",\"x\":[5,1,8,6,5],\"y\":[2,2,2,2,2],\"mode\":\"markers\",\"marker\":{\"size\":40,\"opacity\":0.4},\"type\":\"scatter\"},{\"name\":\"Gruppe 3\",\"x\":[2.88,3,5,1],\"y\":[3,3,3,3],\"mode\":\"markers\",\"marker\":{\"size\":40,\"opacity\":0.4},\"type\":\"scatter\"}], {\"title\":\"Selbsteinschätzung Konzeption\",\"xaxis\":{\"range\":[0,10]}});\n",
       "\t\t}if(window.Plotly){plot1582144232691();}else if(!window.require){\n",
       "\t\t\tvar head = document.head || document.getElementsByTagName('head')[0];\n",
       "\t\t\tvar s = document.createElement('script');\n",
       "\t\t\ts.src = 'https://cdn.plot.ly/plotly-latest.min.js';\n",
       "\t\t\ts.type = 'text/javascript';\n",
       "\t\t\ts.async = false;\n",
       "\t\t\ts.onreadystatechange = s.onload = plot1582144232691;\n",
       "\t\t\thead.appendChild(s);\n",
       "\t\t}else{\n",
       "\t\t\trequire(['https://cdn.plot.ly/plotly-latest.min.js'], function(Plotly){\n",
       "\t\t\t\twindow.Plotly = Plotly;\n",
       "\t\t\t\tplot1582144232691();\n",
       "\t\t\t});\n",
       "\t\t}\n",
       "\t\t</script>\n",
       "\t\t</div>\n",
       "\t"
      ]
     },
     "execution_count": 10,
     "metadata": {},
     "output_type": "execute_result"
    }
   ],
   "source": [
    "// Benutze dstools für die Darstellung mit plotly.js\n",
    "var ds = require('dstools');\n",
    "\n",
    "// \n",
    "var data = [];\n",
    "\n",
    "// Wir gruppieren die Mitglieder in Gruppen\n",
    "var groupMembers = {};\n",
    "selection.combination.forEach((group, idx) => {\n",
    "    if(!groupMembers[group]) {\n",
    "        groupMembers[group] = [];\n",
    "    }\n",
    "    \n",
    "    groupMembers[group].push(Object.values(input)[idx][1]); // Wir nehmen die Werte des ersten Merkmals\n",
    "});\n",
    "\n",
    "// Für jede Gruppe ein eigenes Daten-trace \n",
    "Object.values(groupMembers).forEach((group, idx) => {\n",
    "  \n",
    "    data.push({\n",
    "        name: 'Gruppe '+ idx,\n",
    "        x: group, \n",
    "        y: group.map((el) => { return idx; }),\n",
    "        mode: 'markers',\n",
    "        marker: {\n",
    "            size: 40,\n",
    "            opacity: 0.4\n",
    "        },\n",
    "        type: 'scatter'\n",
    "    });    \n",
    "})\n",
    "\n",
    "// \n",
    "ds.Collection().plotly(data, {title: 'Selbsteinschätzung Konzeption', xaxis: {range: [0, 10]}}).show();"
   ]
  },
  {
   "cell_type": "code",
   "execution_count": 11,
   "metadata": {},
   "outputs": [
    {
     "data": {
      "text/html": [
       "\n",
       "\t<div class=\"plotly-plot\">\n",
       "\t\t<div id=\"notebook-plot-1582144246076\"></div>\n",
       "\t\t<script>\n",
       "\t\tfunction plot1582144246076(){\n",
       "\t\t\tPlotly.plot('notebook-plot-1582144246076',[{\"name\":\"Gruppe 0\",\"x\":[6,9,4,7,8],\"y\":[0,0,0,0,0],\"mode\":\"markers\",\"marker\":{\"size\":40,\"opacity\":0.4},\"type\":\"scatter\"},{\"name\":\"Gruppe 1\",\"x\":[7.5,6,4,5,5],\"y\":[1,1,1,1,1],\"mode\":\"markers\",\"marker\":{\"size\":40,\"opacity\":0.4},\"type\":\"scatter\"},{\"name\":\"Gruppe 2\",\"x\":[8,6,8,7.5,5],\"y\":[2,2,2,2,2],\"mode\":\"markers\",\"marker\":{\"size\":40,\"opacity\":0.4},\"type\":\"scatter\"},{\"name\":\"Gruppe 3\",\"x\":[7.8,6,6,6],\"y\":[3,3,3,3],\"mode\":\"markers\",\"marker\":{\"size\":40,\"opacity\":0.4},\"type\":\"scatter\"}], {\"title\":\"Selbsteinschätzung Programmierung\",\"xaxis\":{\"range\":[0,10]}});\n",
       "\t\t}if(window.Plotly){plot1582144246076();}else if(!window.require){\n",
       "\t\t\tvar head = document.head || document.getElementsByTagName('head')[0];\n",
       "\t\t\tvar s = document.createElement('script');\n",
       "\t\t\ts.src = 'https://cdn.plot.ly/plotly-latest.min.js';\n",
       "\t\t\ts.type = 'text/javascript';\n",
       "\t\t\ts.async = false;\n",
       "\t\t\ts.onreadystatechange = s.onload = plot1582144246076;\n",
       "\t\t\thead.appendChild(s);\n",
       "\t\t}else{\n",
       "\t\t\trequire(['https://cdn.plot.ly/plotly-latest.min.js'], function(Plotly){\n",
       "\t\t\t\twindow.Plotly = Plotly;\n",
       "\t\t\t\tplot1582144246076();\n",
       "\t\t\t});\n",
       "\t\t}\n",
       "\t\t</script>\n",
       "\t\t</div>\n",
       "\t"
      ]
     },
     "execution_count": 11,
     "metadata": {},
     "output_type": "execute_result"
    }
   ],
   "source": [
    "// Benutze dstools für die Darstellung mit plotly.js\n",
    "var ds = require('dstools');\n",
    "\n",
    "// \n",
    "var data = [];\n",
    "\n",
    "// Wir gruppieren die Mitglieder in Gruppen\n",
    "var groupMembers = {};\n",
    "selection.combination.forEach((group, idx) => {\n",
    "    if(!groupMembers[group]) {\n",
    "        groupMembers[group] = [];\n",
    "    }\n",
    "    \n",
    "    groupMembers[group].push(Object.values(input)[idx][2]); // Wir nehmen die Werte des ersten Merkmals\n",
    "});\n",
    "\n",
    "// Für jede Gruppe ein eigenes Daten-trace \n",
    "Object.values(groupMembers).forEach((group, idx) => {\n",
    "  \n",
    "    data.push({\n",
    "        name: 'Gruppe '+ idx,\n",
    "        x: group, \n",
    "        y: group.map((el) => { return idx; }),\n",
    "        mode: 'markers',\n",
    "        marker: {\n",
    "            size: 40,\n",
    "            opacity: 0.4\n",
    "        },\n",
    "        type: 'scatter'\n",
    "    });    \n",
    "})\n",
    "\n",
    "// \n",
    "ds.Collection().plotly(data, {title: 'Selbsteinschätzung Programmierung', xaxis: {range: [0, 10]}}).show();"
   ]
  },
  {
   "cell_type": "code",
   "execution_count": null,
   "metadata": {},
   "outputs": [],
   "source": []
  }
 ],
 "metadata": {
  "kernelspec": {
   "display_name": "Javascript (Node.js)",
   "language": "javascript",
   "name": "javascript"
  },
  "language_info": {
   "file_extension": ".js",
   "mimetype": "application/javascript",
   "name": "javascript",
   "version": "13.0.0"
  }
 },
 "nbformat": 4,
 "nbformat_minor": 2
}
