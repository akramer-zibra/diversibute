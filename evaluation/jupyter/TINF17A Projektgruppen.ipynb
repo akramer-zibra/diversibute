{
 "cells": [
  {
   "cell_type": "markdown",
   "metadata": {},
   "source": [
    "# Projektgruppen für TINF17A"
   ]
  },
  {
   "cell_type": "code",
   "execution_count": 1,
   "metadata": {},
   "outputs": [],
   "source": [
    "// Eingabewerte\n",
    "var input = {\n",
    "    \"A\": [1.6, 0, 2.4],\n",
    "    \"B\": [8.6, 1.3, 6.2],\n",
    "    \"C\": [6.6, 1.2, 2.3],\n",
    "    \"D\": [6.6, 3.6, 0],\n",
    "    \"E\": [8.7, 4.1, 8.3],\n",
    "    \"F\": [1.2, 4.1, 1.4],\n",
    "    \"G\": [0, 1.2, 1.5],\n",
    "    \"H\": [2.7, 3.6, 5],\n",
    "    \"I\": [1.6, 7.8, 5.8],\n",
    "    \"J\": [1.2, 3.7, 0],\n",
    "    \"K\": [7.9, 0, 1.6],\n",
    "    \"L\": [9, 2.9, 0],\n",
    "    \"M\": [3.2, 7.4, 5.5],\n",
    "    \"N\": [7.3, 1.2, 8.7],\n",
    "    \"O\": [1.4, 7.8, 7.7],\n",
    "    \"P\": [1.5, 1, 1.2],\n",
    "    \"Q\": [8.1, 0, 2.6],\n",
    "    \"R\": [9.2, 0, 0],\n",
    "    \"S\": [6.4, 1.3, 0]\n",
    "}"
   ]
  },
  {
   "cell_type": "markdown",
   "metadata": {},
   "source": [
    "## Berechnung"
   ]
  },
  {
   "cell_type": "code",
   "execution_count": 2,
   "metadata": {},
   "outputs": [
    {
     "name": "stdout",
     "output_type": "stream",
     "text": [
      "{\n",
      "  settings: {\n",
      "    populationStartSize: 38,\n",
      "    populationMaxSize: 57,\n",
      "    evolutions: 500,\n",
      "    elitism: 1,\n",
      "    bunches: 1,\n",
      "    interceptor: undefined,\n",
      "    results: 15\n",
      "  },\n",
      "  elements: [\n",
      "    { combination: [Array], score: 53.82179914972393 },\n",
      "    { combination: [Array], score: 53.70820384013125 },\n",
      "    { combination: [Array], score: 52.84545644193625 },\n",
      "    { combination: [Array], score: 52.64446302667852 },\n",
      "    { combination: [Array], score: 51.039900618650066 },\n",
      "    { combination: [Array], score: 49.424391806339486 },\n",
      "    { combination: [Array], score: 48.4784441495091 },\n",
      "    { combination: [Array], score: 47.91790160863005 },\n",
      "    { combination: [Array], score: 46.3676286401167 },\n",
      "    { combination: [Array], score: 44.90406343621113 },\n",
      "    { combination: [Array], score: 44.87716029369374 },\n",
      "    { combination: [Array], score: 41.497288651045494 },\n",
      "    { combination: [Array], score: 41.37834984972216 },\n",
      "    { combination: [Array], score: 39.106545427981786 },\n",
      "    { combination: [Array], score: 32.967169062780854 }\n",
      "  ]\n",
      "}\n",
      "[ 53.82179914972393 ]\n"
     ]
    }
   ],
   "source": [
    "// Berechnungsmodul\n",
    "var diversibute = require('../index');\n",
    "\n",
    "// Konfiguration\n",
    "var groups = 4;\n",
    "var runs = 1;\n",
    "\n",
    "// Initialisiere Variablen\n",
    "var tasks = [];\n",
    "var scores = [];\n",
    "var results = {};\n",
    "\n",
    "var settings = {\n",
    "    populationStartSize: Object.keys(input).length * 2,\n",
    "    populationMaxSize: Object.keys(input).length * 3,\n",
    "    evolutions: 500,\n",
    "    results: 15\n",
    "}\n",
    "\n",
    "// Wir lassen den Algorithmus x mal rechnen\n",
    "for(let run = 0; run < runs; run++) {\n",
    "    tasks.push(diversibute.genetic(input, groups, settings).then(result => {\n",
    "        \n",
    "        console.log(result);\n",
    "        \n",
    "        // Collect result and score\n",
    "        results[run] = result.elements;\n",
    "        return scores.push(result.elements[0].score);\n",
    "    }));\n",
    "}\n",
    "\n",
    "var highscores = [];\n",
    "var winnerScore;\n",
    "\n",
    "// We must wait until all calculations are done\n",
    "Promise.all(tasks).then(values => {\n",
    "    \n",
    "    // Sort scores numerically\n",
    "    scores.sort((a, b) => {return parseInt(b) - parseInt(a);});\n",
    "    \n",
    "    console.log(scores);\n",
    "});"
   ]
  },
  {
   "cell_type": "code",
   "execution_count": null,
   "metadata": {},
   "outputs": [],
   "source": [
    "var winner = results[\"0\"];\n",
    "console.log(winner);"
   ]
  },
  {
   "cell_type": "code",
   "execution_count": null,
   "metadata": {},
   "outputs": [],
   "source": [
    "var second = results[scores[1]];\n",
    "console.log(winner);"
   ]
  },
  {
   "cell_type": "code",
   "execution_count": null,
   "metadata": {},
   "outputs": [],
   "source": [
    "var next = results[scores[13]];\n",
    "console.log(winner);"
   ]
  },
  {
   "cell_type": "markdown",
   "metadata": {},
   "source": [
    "## Ergebnis darstellen"
   ]
  },
  {
   "cell_type": "code",
   "execution_count": null,
   "metadata": {},
   "outputs": [],
   "source": [
    "// Benutze dstools für die Darstellung mit plotly.js\n",
    "var ds = require('dstools');\n",
    "\n",
    "// Gruppen als traces darstellen\n",
    "var traces = [];\n",
    "for(let i = 0; i < groups; i++) {\n",
    "    traces.push({x: [], y: [], z: [],\n",
    "        mode: 'markers',\n",
    "        marker: {\n",
    "            size: 12,\n",
    "            line: {\n",
    "                color: 'rgba(217, 217, 217, 0.14)',\n",
    "                width: 0.5\n",
    "            },\n",
    "            opacity: 0.8\n",
    "        },\n",
    "        type: 'scatter3d'\n",
    "    });\n",
    "}\n",
    "\n",
    "// Loop input data and build group traces\n",
    "Object.keys(input).forEach((member, index) => {\n",
    "    \n",
    "    // Retrieve member group \n",
    "    var group = winner.combination[index];\n",
    "    \n",
    "    traces[group-1].x.push(input[member][0]);\n",
    "    traces[group-1].y.push(input[member][1]);\n",
    "    traces[group-1].z.push(input[member][2]);    \n",
    "});\n",
    "\n",
    "// Print 3D Model with group traces and colors\n",
    "ds.Collection().plotly(traces,{margin: {l: 0, r: 0, b: 0, t: 0 }}).show();"
   ]
  },
  {
   "cell_type": "code",
   "execution_count": null,
   "metadata": {},
   "outputs": [],
   "source": []
  }
 ],
 "metadata": {
  "kernelspec": {
   "display_name": "Javascript (Node.js)",
   "language": "javascript",
   "name": "javascript"
  },
  "language_info": {
   "file_extension": ".js",
   "mimetype": "application/javascript",
   "name": "javascript",
   "version": "13.0.0"
  }
 },
 "nbformat": 4,
 "nbformat_minor": 2
}
