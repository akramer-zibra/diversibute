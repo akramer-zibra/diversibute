{
 "cells": [
  {
   "cell_type": "markdown",
   "metadata": {},
   "source": [
    "# Projektgruppen für TINF17A"
   ]
  },
  {
   "cell_type": "code",
   "execution_count": 1,
   "metadata": {},
   "outputs": [],
   "source": [
    "// Eingabewerte\n",
    "var input = {\n",
    "    \"A\": [1.6, 0, 2.4],\n",
    "    \"B\": [8.6, 1.3, 6.2],\n",
    "    \"C\": [6.6, 1.2, 2.3],\n",
    "    \"D\": [6.6, 3.6, 0],\n",
    "    \"E\": [8.7, 4.1, 8.3],\n",
    "    \"F\": [1.2, 4.1, 1.4],\n",
    "    \"G\": [0, 1.2, 1.5],\n",
    "    \"H\": [2.7, 3.6, 5],\n",
    "    \"I\": [1.6, 7.8, 5.8],\n",
    "    \"J\": [1.2, 3.7, 0],\n",
    "    \"K\": [7.9, 0, 1.6],\n",
    "    \"L\": [9, 2.9, 0],\n",
    "    \"M\": [3.2, 7.4, 5.5],\n",
    "    \"N\": [7.3, 1.2, 8.7],\n",
    "    \"O\": [1.4, 7.8, 7.7],\n",
    "    \"P\": [1.5, 1, 1.2],\n",
    "    \"Q\": [8.1, 0, 2.6],\n",
    "    \"R\": [9.2, 0, 0],\n",
    "    \"S\": [6.4, 1.3, 0]\n",
    "}"
   ]
  },
  {
   "cell_type": "markdown",
   "metadata": {},
   "source": [
    "## Berechnung"
   ]
  },
  {
   "cell_type": "code",
   "execution_count": 3,
   "metadata": {},
   "outputs": [
    {
     "name": "stdout",
     "output_type": "stream",
     "text": [
      "{\n",
      "  settings: {\n",
      "    populationStartSize: 38,\n",
      "    populationMaxSize: 57,\n",
      "    evolutions: 500,\n",
      "    elitism: 1,\n",
      "    bunches: 1,\n",
      "    interceptor: undefined,\n",
      "    results: 15\n",
      "  },\n",
      "  elements: [\n",
      "    { combination: [Array], score: 53.07550060845149 },\n",
      "    { combination: [Array], score: 49.88134426682585 },\n",
      "    { combination: [Array], score: 49.56531252390596 },\n",
      "    { combination: [Array], score: 48.387761544560696 },\n",
      "    { combination: [Array], score: 46.78948845652508 },\n",
      "    { combination: [Array], score: 45.45934885106365 },\n",
      "    { combination: [Array], score: 45.062242469937964 },\n",
      "    { combination: [Array], score: 43.888023845646636 },\n",
      "    { combination: [Array], score: 43.62184333559036 },\n",
      "    { combination: [Array], score: 43.515470144686994 },\n",
      "    { combination: [Array], score: 39.52426177357477 },\n",
      "    { combination: [Array], score: 37.93154972182708 },\n",
      "    { combination: [Array], score: 37.47943445159942 },\n",
      "    { combination: [Array], score: 35.53482818470322 },\n",
      "    { combination: [Array], score: 34.88274529886243 }\n",
      "  ]\n",
      "}\n",
      "[ 53.07550060845149 ]\n"
     ]
    }
   ],
   "source": [
    "// Berechnungsmodul\n",
    "var diversibute = require('../../index');\n",
    "\n",
    "// Konfiguration\n",
    "var groups = 4;\n",
    "var runs = 1;\n",
    "\n",
    "// Initialisiere Variablen\n",
    "var tasks = [];\n",
    "var scores = [];\n",
    "var results = {};\n",
    "\n",
    "var settings = {\n",
    "    populationStartSize: Object.keys(input).length * 2,\n",
    "    populationMaxSize: Object.keys(input).length * 3,\n",
    "    evolutions: 500,\n",
    "    results: 15\n",
    "}\n",
    "\n",
    "// Wir lassen den Algorithmus x mal rechnen\n",
    "for(let run = 0; run < runs; run++) {\n",
    "    tasks.push(diversibute.genetic(input, groups, settings).then(result => {\n",
    "        \n",
    "        console.log(result);\n",
    "        \n",
    "        // Collect result and score\n",
    "        results[run] = result.elements;\n",
    "        return scores.push(result.elements[0].score);\n",
    "    }));\n",
    "}\n",
    "\n",
    "var highscores = [];\n",
    "var winnerScore;\n",
    "\n",
    "// We must wait until all calculations are done\n",
    "Promise.all(tasks).then(values => {\n",
    "    \n",
    "    // Sort scores numerically\n",
    "    scores.sort((a, b) => {return parseInt(b) - parseInt(a);});\n",
    "    \n",
    "    console.log(scores);\n",
    "});"
   ]
  },
  {
   "cell_type": "code",
   "execution_count": 6,
   "metadata": {},
   "outputs": [
    {
     "name": "stdout",
     "output_type": "stream",
     "text": [
      "{\n",
      "  combination: [\n",
      "    2, 1, 3, 1, 4, 2, 4,\n",
      "    3, 3, 3, 4, 1, 3, 1,\n",
      "    4, 2, 2, 2, 1\n",
      "  ],\n",
      "  score: 53.07550060845149\n",
      "}\n"
     ]
    }
   ],
   "source": [
    "var winner = results[0][0];\n",
    "console.log(winner);"
   ]
  },
  {
   "cell_type": "code",
   "execution_count": 7,
   "metadata": {},
   "outputs": [
    {
     "name": "stdout",
     "output_type": "stream",
     "text": [
      "{\n",
      "  combination: [\n",
      "    3, 1, 3, 1, 4, 2, 4,\n",
      "    3, 3, 2, 4, 1, 3, 1,\n",
      "    4, 2, 2, 2, 1\n",
      "  ],\n",
      "  score: 49.88134426682585\n",
      "}\n"
     ]
    }
   ],
   "source": [
    "var second = results[0][1];\n",
    "console.log(second);"
   ]
  },
  {
   "cell_type": "code",
   "execution_count": 8,
   "metadata": {},
   "outputs": [
    {
     "name": "stdout",
     "output_type": "stream",
     "text": [
      "{\n",
      "  combination: [\n",
      "    2, 1, 3, 1, 1, 2, 4,\n",
      "    3, 3, 3, 4, 1, 3, 4,\n",
      "    4, 2, 2, 2, 1\n",
      "  ],\n",
      "  score: 49.56531252390596\n",
      "}\n"
     ]
    }
   ],
   "source": [
    "var next = results[0][2];\n",
    "console.log(next);"
   ]
  },
  {
   "cell_type": "markdown",
   "metadata": {},
   "source": [
    "## Ergebnis darstellen"
   ]
  },
  {
   "cell_type": "code",
   "execution_count": 12,
   "metadata": {},
   "outputs": [
    {
     "data": {
      "text/html": [
       "\n",
       "\t<div class=\"plotly-plot\">\n",
       "\t\t<div id=\"notebook-plot-1581247891098\"></div>\n",
       "\t\t<script>\n",
       "\t\tfunction plot1581247891098(){\n",
       "\t\t\tPlotly.plot('notebook-plot-1581247891098',[{\"x\":[8.6,6.6,8.7,9,6.4],\"y\":[1.3,3.6,4.1,2.9,1.3],\"z\":[6.2,0,8.3,0,0],\"mode\":\"markers\",\"marker\":{\"size\":12,\"line\":{\"color\":\"rgba(217, 217, 217, 0.14)\",\"width\":0.5},\"opacity\":0.8},\"type\":\"scatter3d\"},{\"x\":[1.6,1.2,1.5,8.1,9.2],\"y\":[0,4.1,1,0,0],\"z\":[2.4,1.4,1.2,2.6,0],\"mode\":\"markers\",\"marker\":{\"size\":12,\"line\":{\"color\":\"rgba(217, 217, 217, 0.14)\",\"width\":0.5},\"opacity\":0.8},\"type\":\"scatter3d\"},{\"x\":[6.6,2.7,1.6,1.2,3.2],\"y\":[1.2,3.6,7.8,3.7,7.4],\"z\":[2.3,5,5.8,0,5.5],\"mode\":\"markers\",\"marker\":{\"size\":12,\"line\":{\"color\":\"rgba(217, 217, 217, 0.14)\",\"width\":0.5},\"opacity\":0.8},\"type\":\"scatter3d\"},{\"x\":[0,7.9,7.3,1.4],\"y\":[1.2,0,1.2,7.8],\"z\":[1.5,1.6,8.7,7.7],\"mode\":\"markers\",\"marker\":{\"size\":12,\"line\":{\"color\":\"rgba(217, 217, 217, 0.14)\",\"width\":0.5},\"opacity\":0.8},\"type\":\"scatter3d\"}], {\"margin\":{\"l\":0,\"r\":0,\"b\":0,\"t\":0}});\n",
       "\t\t}if(window.Plotly){plot1581247891098();}else if(!window.require){\n",
       "\t\t\tvar head = document.head || document.getElementsByTagName('head')[0];\n",
       "\t\t\tvar s = document.createElement('script');\n",
       "\t\t\ts.src = 'https://cdn.plot.ly/plotly-latest.min.js';\n",
       "\t\t\ts.type = 'text/javascript';\n",
       "\t\t\ts.async = false;\n",
       "\t\t\ts.onreadystatechange = s.onload = plot1581247891098;\n",
       "\t\t\thead.appendChild(s);\n",
       "\t\t}else{\n",
       "\t\t\trequire(['https://cdn.plot.ly/plotly-latest.min.js'], function(Plotly){\n",
       "\t\t\t\twindow.Plotly = Plotly;\n",
       "\t\t\t\tplot1581247891098();\n",
       "\t\t\t});\n",
       "\t\t}\n",
       "\t\t</script>\n",
       "\t\t</div>\n",
       "\t"
      ]
     },
     "execution_count": 12,
     "metadata": {},
     "output_type": "execute_result"
    }
   ],
   "source": [
    "// Benutze dstools für die Darstellung mit plotly.js\n",
    "var ds = require('dstools');\n",
    "\n",
    "// Select one result\n",
    "var focus = next;\n",
    "\n",
    "// Gruppen als traces darstellen\n",
    "var traces = [];\n",
    "for(let i = 0; i < groups; i++) {\n",
    "    traces.push({x: [], y: [], z: [],\n",
    "        mode: 'markers',\n",
    "        marker: {\n",
    "            size: 12,\n",
    "            line: {\n",
    "                color: 'rgba(217, 217, 217, 0.14)',\n",
    "                width: 0.5\n",
    "            },\n",
    "            opacity: 0.8\n",
    "        },\n",
    "        type: 'scatter3d'\n",
    "    });\n",
    "}\n",
    "\n",
    "// Loop input data and build group traces\n",
    "Object.keys(input).forEach((member, index) => {\n",
    "    \n",
    "    // Retrieve member group \n",
    "    var group = focus.combination[index];\n",
    "    \n",
    "    traces[group-1].x.push(input[member][0]);\n",
    "    traces[group-1].y.push(input[member][1]);\n",
    "    traces[group-1].z.push(input[member][2]);    \n",
    "});\n",
    "\n",
    "// Print 3D Model with group traces and colors\n",
    "ds.Collection().plotly(traces,{margin: {l: 0, r: 0, b: 0, t: 0 }}).show();"
   ]
  },
  {
   "cell_type": "code",
   "execution_count": null,
   "metadata": {},
   "outputs": [],
   "source": []
  }
 ],
 "metadata": {
  "kernelspec": {
   "display_name": "Javascript (Node.js)",
   "language": "javascript",
   "name": "javascript"
  },
  "language_info": {
   "file_extension": ".js",
   "mimetype": "application/javascript",
   "name": "javascript",
   "version": "13.0.0"
  }
 },
 "nbformat": 4,
 "nbformat_minor": 2
}
