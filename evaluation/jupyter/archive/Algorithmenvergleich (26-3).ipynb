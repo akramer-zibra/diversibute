{
 "cells": [
  {
   "cell_type": "code",
   "execution_count": 2,
   "metadata": {},
   "outputs": [],
   "source": [
    "var ds = require('dstools');\n",
    "var input = require('../examples/data/3features/input-m.json'); \n",
    "var diversibute = require('../index');"
   ]
  },
  {
   "cell_type": "markdown",
   "metadata": {
    "scrolled": true
   },
   "source": [
    "#### Wie schneiden die beiden Algorithmen bei 100x Tests ab?  \n",
    "\n",
    "Gruppengröße: 26  \n",
    "Gruppenanzahl: 3"
   ]
  },
  {
   "cell_type": "code",
   "execution_count": 17,
   "metadata": {},
   "outputs": [],
   "source": [
    "var groups = 5;\n",
    "\n",
    "var tests = 50;"
   ]
  },
  {
   "cell_type": "code",
   "execution_count": 11,
   "metadata": {},
   "outputs": [
    {
     "name": "stdout",
     "output_type": "stream",
     "text": [
      "[\n",
      "  21.973638186555604,   26.1282288514046,  45.24326647573308,\n",
      "   37.59287231531427,  30.66717964323027, 36.082420549722684,\n",
      "   42.34404496023048, 26.855037532280036,  44.27576585485039,\n",
      "   32.06081368915922, 47.074441495648955, 22.197270250281946,\n",
      "   50.47745110383772, 43.128050337251224,  34.89423807392524,\n",
      "   35.71122253179824, 46.417508162425776,  36.97380077011019,\n",
      "  30.435639389603338,  44.87473951765567,  43.51626037123455,\n",
      "   21.18071380850232,  50.06500407651998, 47.031779775563365,\n",
      "   59.81901522829877,  37.67567151284936, 12.425120561704887,\n",
      "   41.96807963191284, 19.622204365574248,  37.68112099767312,\n",
      "   33.37862820017192,  23.96488986281304, 28.022036707030864,\n",
      "   36.45592709368607,  47.43087596331114, 53.833600823037486,\n",
      "   26.94505746266448,  32.71864140529544, 21.240370193266827,\n",
      "  40.216571642840606, 55.627472860294375, 25.806810377361415,\n",
      "   53.12856231131279,  37.25525124788406,  37.72642785390505,\n",
      "   51.99142453909873, 30.662270582115568,  32.32393055537494,\n",
      "   39.39188325075935, 36.426063489236384\n",
      "]\n",
      "59.81901522829877\n"
     ]
    }
   ],
   "source": [
    "// 50x runs of monte carlo\n",
    "var scoresMonteCarlo = [];\n",
    "var resultsMonteCarlo = {};\n",
    "\n",
    "// Initialize empty promise collection\n",
    "var runs = [];\n",
    "\n",
    "for(let run = 0; run < tests; run++) {\n",
    "    \n",
    "    // Calculate groups with monte carlo\n",
    "    runs.push(diversibute.monteCarlo(input, groups).then(result => {\n",
    "                \n",
    "        // Collect result and score\n",
    "        resultsMonteCarlo[result.score] = result;\n",
    "        scoresMonteCarlo.push(result.score);\n",
    "        \n",
    "        return;\n",
    "    }));\n",
    "}\n",
    "\n",
    "var highscoreMonteCarlo = undefined;\n",
    "\n",
    "// Run async tasks in a sequence\n",
    "runs.reduce((promiseChain, currentTask) => {    \n",
    "    return promiseChain.then(chainResults =>        \n",
    "             currentTask.then(currentResult =>            \n",
    "                  [ ...chainResults, currentResult ]        \n",
    "             )    \n",
    "        );\n",
    "    },Promise.resolve([])).then(arrayOfResults => {    \n",
    "\n",
    "        // Do something with all results\n",
    "        console.log(scoresMonteCarlo);\n",
    "\n",
    "        // Calculate highest score of this batch\n",
    "        highscoreMonteCarlo = Math.max(...scoresMonteCarlo);\n",
    "\n",
    "        console.log(highscoreMonteCarlo);\n",
    "    });"
   ]
  },
  {
   "cell_type": "code",
   "execution_count": 18,
   "metadata": {},
   "outputs": [
    {
     "name": "stdout",
     "output_type": "stream",
     "text": [
      "[\n",
      "  76.03633442867398, 72.21764200146241, 77.42219638582125,\n",
      "  79.77934933935803, 74.40877044180615, 75.63553322511322,\n",
      "  79.65113719150071, 75.59378407718438, 78.02520574355827,\n",
      "  78.88015268166293,  71.2656904293639, 76.57618425981819,\n",
      "  77.47780899554657, 74.70982868583367, 74.48078850959267,\n",
      "  80.56542348559819, 81.11276643773165, 75.92177391408381,\n",
      "  71.59546330708542, 80.60694065025496, 76.56367088673053,\n",
      "  79.57506573891317, 76.63535138322796, 77.34898642368425,\n",
      "  77.52307585021556, 80.27351403581085, 71.38001598817607,\n",
      "  75.66618935221962, 78.29226310060399, 77.69226887694226,\n",
      "  77.28701766426244, 76.66810066397544, 76.78956004272675,\n",
      "  78.41488472382756, 77.59297737131449, 81.59074658128068,\n",
      "  79.13954850063081,   79.132583245577, 77.24075145212866,\n",
      "  76.37610995005194, 74.71388701291468,  77.8479857295296,\n",
      "  79.41279200484308,  77.5560934068243, 77.34104631294024,\n",
      "  72.16533877373027, 79.07198961333305, 78.15073416125915,\n",
      "  79.92617064540798, 76.36162627988793\n",
      "]\n",
      "81.59074658128068\n"
     ]
    }
   ],
   "source": [
    "// 50x runs of genetic\n",
    "var scoresGenetic = [];\n",
    "var resultsGenetic = {};\n",
    "var runs = [];\n",
    "\n",
    "var settingsGenetic = {populationStartSize: (Object.keys(input).length * 2), \n",
    "                       populationMaxSize: (Object.keys(input).length * 3), \n",
    "                       evolutions: 1000};\n",
    "\n",
    "// Run algorithm x times\n",
    "for(let run = 0; run < tests; run++) {\n",
    "    runs.push(diversibute.genetic(input, groups, settingsGenetic).then(result => {\n",
    "        \n",
    "        // Collect result and score\n",
    "        resultsGenetic[result.score] = result;\n",
    "        return scoresGenetic.push(result.score);\n",
    "    }));\n",
    "}\n",
    "\n",
    "var highscoreGenetic = undefined;\n",
    "\n",
    "// We must wait until all calculations are done\n",
    "Promise.all(runs).then(values => {\n",
    "    \n",
    "    console.log(scoresGenetic);\n",
    "\n",
    "    // Calculate highest score of this batch\n",
    "    highscoreGenetic = Math.max(...scoresGenetic);\n",
    "\n",
    "    console.log(highscoreGenetic);\n",
    "});"
   ]
  },
  {
   "cell_type": "markdown",
   "metadata": {},
   "source": [
    "## Vergleich Algorithmen"
   ]
  },
  {
   "cell_type": "code",
   "execution_count": 19,
   "metadata": {},
   "outputs": [],
   "source": [
    "// Calculate overall hitrate\n",
    "\n",
    "// Highest score\n",
    "var highestScore = (highscoreMonteCarlo > highscoreGenetic) ? highscoreMonteCarlo : highscoreGenetic;\n",
    "\n",
    "var hitRateMonteCarlo = scoresMonteCarlo.map(v => v/highestScore);\n",
    "var hitRateGenetic = scoresGenetic.map(v => v/highestScore);"
   ]
  },
  {
   "cell_type": "code",
   "execution_count": 20,
   "metadata": {},
   "outputs": [
    {
     "data": {
      "text/html": [
       "\n",
       "\t<div class=\"plotly-plot\">\n",
       "\t\t<div id=\"notebook-plot-1581191039231\"></div>\n",
       "\t\t<script>\n",
       "\t\tfunction plot1581191039231(){\n",
       "\t\t\tPlotly.plot('notebook-plot-1581191039231',[{\"x\":[0.269315321985263,0.32023519757078905,0.5545146768654917,0.4607492134891088,0.37586590303692874,0.44223667586835214,0.5189809719175366,0.3291431768616929,0.5426567069188769,0.392946688595627,0.5769580922850535,0.27205622181884354,0.6186663711129557,0.5285899706075992,0.4276739647082847,0.4376871646372635,0.5689065256460751,0.4531616919729604,0.3730280781201501,0.5499979029233598,0.5333479860719703,0.2595970094157932,0.6136112999854124,0.5764352177940952,0.7331593070876864,0.4617640246166502,0.15228590351636243,0.5143730311390674,0.2404954628773572,0.46183081509292473,0.4090982078086531,0.2937206836186898,0.3434462593023992,0.4468144810682506,0.5813266571358127,0.6598003214667053,0.330246487398198,0.40100921705258746,0.2603281754764577,0.4929060380980442,0.6817865406450019,0.3162957989562294,0.6511591637219072,0.4566112311617395,0.46238610914439904,0.6372220713448784,0.37580573615133944,0.3961715256910151,0.4827984165032387,0.44644846401728594],\"type\":\"histogram\",\"opacity\":0.5,\"marker\":{\"color\":\"green\"},\"name\":\"Monte Carlo\"},{\"x\":[0.9319235037630965,0.8851204950002414,0.9489090323336271,0.9777989867990957,0.9119756045825632,0.9270111672500155,0.9762275812999488,0.9264994775097182,0.9562996909928945,0.9667781701578444,0.8734530987330658,0.938540060833161,0.9495906367073524,0.9156654622765065,0.9128582790377451,0.9874333409284217,0.9941417358759811,0.9305194166651063,0.8774948913570982,0.9879421874140389,0.9383866932809326,0.9752952273777824,0.9392652303638849,0.9480117496734658,0.9501454404879981,0.9838556135264971,0.8748543061444758,0.9273868976899357,0.9595728238938132,0.9522191195976525,0.9472522424742017,0.9396666151056565,0.9411552566960397,0.9610757102916158,0.951002173929324,1,0.9699574010122828,0.969872032813735,0.9466851902768342,0.9360878917067645,0.9157152023175168,0.954127630784423,0.9733063531381231,0.9505501132970139,0.9479144333590955,0.8844794513779718,0.9691293795744539,0.9578382039120749,0.979598471571596,0.9359103756185941],\"type\":\"histogram\",\"opacity\":0.6,\"marker\":{\"color\":\"red\"},\"name\":\"Genetic Algorithm\"}], {\"barmode\":\"overlay\",\"xaxis\":{\"title\":\"Trefferquote\"},\"yaxis\":{\"title\":\"Häufigkeit\"}});\n",
       "\t\t}if(window.Plotly){plot1581191039231();}else if(!window.require){\n",
       "\t\t\tvar head = document.head || document.getElementsByTagName('head')[0];\n",
       "\t\t\tvar s = document.createElement('script');\n",
       "\t\t\ts.src = 'https://cdn.plot.ly/plotly-latest.min.js';\n",
       "\t\t\ts.type = 'text/javascript';\n",
       "\t\t\ts.async = false;\n",
       "\t\t\ts.onreadystatechange = s.onload = plot1581191039231;\n",
       "\t\t\thead.appendChild(s);\n",
       "\t\t}else{\n",
       "\t\t\trequire(['https://cdn.plot.ly/plotly-latest.min.js'], function(Plotly){\n",
       "\t\t\t\twindow.Plotly = Plotly;\n",
       "\t\t\t\tplot1581191039231();\n",
       "\t\t\t});\n",
       "\t\t}\n",
       "\t\t</script>\n",
       "\t\t</div>\n",
       "\t"
      ]
     },
     "execution_count": 20,
     "metadata": {},
     "output_type": "execute_result"
    }
   ],
   "source": [
    "var trace1 = {\n",
    "  x: hitRateMonteCarlo,\n",
    "  type: \"histogram\",\n",
    "  opacity: 0.5,\n",
    "  marker: {\n",
    "     color: 'green',\n",
    "  },\n",
    "  name: 'Monte Carlo'\n",
    "};\n",
    "var trace2 = {\n",
    "  x: hitRateGenetic,\n",
    "  type: \"histogram\",\n",
    "  opacity: 0.6,\n",
    "  marker: {\n",
    "     color: 'red',\n",
    "  },\n",
    "  name: 'Genetic Algorithm'\n",
    "};\n",
    "\n",
    "var data = [trace1, trace2];\n",
    "var layout = {barmode: \"overlay\", xaxis: {title: 'Trefferquote'}, yaxis: {title: 'Häufigkeit'}};\n",
    "\n",
    "ds.Collection().plotly(data, layout).show();"
   ]
  },
  {
   "cell_type": "markdown",
   "metadata": {},
   "source": [
    "## Darstellung \"bestes\" Ergebnis"
   ]
  },
  {
   "cell_type": "code",
   "execution_count": 15,
   "metadata": {},
   "outputs": [
    {
     "data": {
      "text/html": [
       "\n",
       "\t<div class=\"plotly-plot\">\n",
       "\t\t<div id=\"notebook-plot-1581186898449\"></div>\n",
       "\t\t<script>\n",
       "\t\tfunction plot1581186898449(){\n",
       "\t\t\tPlotly.plot('notebook-plot-1581186898449',[{\"x\":[6.6,1.2,2.7,1.5,7.3,3.3],\"y\":[1.2,4.1,3.6,1,2.7,0],\"z\":[2.3,1.4,5,1.2,0,7.3],\"mode\":\"markers\",\"marker\":{\"size\":12,\"line\":{\"color\":\"rgba(217, 217, 217, 0.14)\",\"width\":0.5},\"opacity\":0.8},\"type\":\"scatter3d\"},{\"x\":[6.6,0,3.2,7.3,9.2],\"y\":[3.6,1.2,7.4,1.2,0],\"z\":[0,1.5,5.5,8.7,0],\"mode\":\"markers\",\"marker\":{\"size\":12,\"line\":{\"color\":\"rgba(217, 217, 217, 0.14)\",\"width\":0.5},\"opacity\":0.8},\"type\":\"scatter3d\"},{\"x\":[8.6,9,1.4,1.8,0],\"y\":[1.3,2.9,7.8,1.4,3],\"z\":[6.2,0,7.7,6.9,1.8],\"mode\":\"markers\",\"marker\":{\"size\":12,\"line\":{\"color\":\"rgba(217, 217, 217, 0.14)\",\"width\":0.5},\"opacity\":0.8},\"type\":\"scatter3d\"},{\"x\":[1.6,1.2,7.9,8.1,9.8],\"y\":[7.8,3.7,0,0,6.8],\"z\":[5.8,0,1.6,2.6,7.7],\"mode\":\"markers\",\"marker\":{\"size\":12,\"line\":{\"color\":\"rgba(217, 217, 217, 0.14)\",\"width\":0.5},\"opacity\":0.8},\"type\":\"scatter3d\"},{\"x\":[1.6,8.7,6.4,1.2,4.7],\"y\":[0,4.1,1.3,9.4,4.8],\"z\":[2.4,8.3,0,4.7,8.6],\"mode\":\"markers\",\"marker\":{\"size\":12,\"line\":{\"color\":\"rgba(217, 217, 217, 0.14)\",\"width\":0.5},\"opacity\":0.8},\"type\":\"scatter3d\"}], {\"margin\":{\"l\":0,\"r\":0,\"b\":0,\"t\":0}});\n",
       "\t\t}if(window.Plotly){plot1581186898449();}else if(!window.require){\n",
       "\t\t\tvar head = document.head || document.getElementsByTagName('head')[0];\n",
       "\t\t\tvar s = document.createElement('script');\n",
       "\t\t\ts.src = 'https://cdn.plot.ly/plotly-latest.min.js';\n",
       "\t\t\ts.type = 'text/javascript';\n",
       "\t\t\ts.async = false;\n",
       "\t\t\ts.onreadystatechange = s.onload = plot1581186898449;\n",
       "\t\t\thead.appendChild(s);\n",
       "\t\t}else{\n",
       "\t\t\trequire(['https://cdn.plot.ly/plotly-latest.min.js'], function(Plotly){\n",
       "\t\t\t\twindow.Plotly = Plotly;\n",
       "\t\t\t\tplot1581186898449();\n",
       "\t\t\t});\n",
       "\t\t}\n",
       "\t\t</script>\n",
       "\t\t</div>\n",
       "\t"
      ]
     },
     "execution_count": 15,
     "metadata": {},
     "output_type": "execute_result"
    }
   ],
   "source": [
    "// Retrieve winner combination\n",
    "var winnerSet = (highestScore == highscoreMonteCarlo) ? resultsMonteCarlo : resultsGenetic;\n",
    "var winner = winnerSet[highestScore];\n",
    "\n",
    "// Generate empty traces\n",
    "/*var traces = ['rgba(217, 217, 217, 0.14)', 'rgba(217, 217, 217, 0.14)', 'rgba(217, 217, 217, 0.14)'].map(c => {\n",
    "    return {x: [], y: [], z: [],\n",
    "        mode: 'markers',\n",
    "        marker: {\n",
    "            size: 12,\n",
    "            line: {\n",
    "            color: c,\n",
    "            width: 0.5},\n",
    "            opacity: 0.8},\n",
    "        type: 'scatter3d'};\n",
    "});\n",
    "*/\n",
    "var traces = [];\n",
    "for(let i = 0; i < groups; i++) {\n",
    "    traces.push({x: [], y: [], z: [],\n",
    "        mode: 'markers',\n",
    "        marker: {\n",
    "            size: 12,\n",
    "            line: {\n",
    "                color: 'rgba(217, 217, 217, 0.14)',\n",
    "                width: 0.5\n",
    "            },\n",
    "            opacity: 0.8\n",
    "        },\n",
    "        type: 'scatter3d'\n",
    "    });\n",
    "}\n",
    "\n",
    "// Loop input data and build group traces\n",
    "Object.keys(input).forEach((member, index) => {\n",
    "    \n",
    "    // Retrieve member group \n",
    "    var group = winner.combination[index];\n",
    "    \n",
    "    traces[group-1].x.push(input[member][0]);\n",
    "    traces[group-1].y.push(input[member][1]);\n",
    "    traces[group-1].z.push(input[member][2]);    \n",
    "});\n",
    "\n",
    "// Print 3D Model with group traces and colors\n",
    "ds.Collection().plotly(traces,{margin: {l: 0, r: 0, b: 0, t: 0 }}).show();"
   ]
  },
  {
   "cell_type": "code",
   "execution_count": null,
   "metadata": {},
   "outputs": [],
   "source": []
  }
 ],
 "metadata": {
  "kernelspec": {
   "display_name": "Javascript (Node.js)",
   "language": "javascript",
   "name": "javascript"
  },
  "language_info": {
   "file_extension": ".js",
   "mimetype": "application/javascript",
   "name": "javascript",
   "version": "13.0.0"
  }
 },
 "nbformat": 4,
 "nbformat_minor": 2
}
