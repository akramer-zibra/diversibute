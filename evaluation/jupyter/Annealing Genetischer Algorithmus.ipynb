{
 "cells": [
  {
   "cell_type": "markdown",
   "metadata": {},
   "source": [
    "# Annealing"
   ]
  },
  {
   "cell_type": "markdown",
   "metadata": {},
   "source": [
    "## Medium size 3 Features"
   ]
  },
  {
   "cell_type": "code",
   "execution_count": 1,
   "metadata": {},
   "outputs": [],
   "source": [
    "var dataM = require('../../examples/data/3features/input-m.json'); "
   ]
  },
  {
   "cell_type": "code",
   "execution_count": 2,
   "metadata": {},
   "outputs": [],
   "source": [
    "// Use genetic algorithm\n",
    "var diversibute = require('../../index');\n",
    "var ds = require('dstools');\n",
    "\n",
    "// Gruppengröße\n",
    "var groups = 5;"
   ]
  },
  {
   "cell_type": "markdown",
   "metadata": {},
   "source": [
    "### 1000 Evolutionen, 20 PopStart, 100 PopMax"
   ]
  },
  {
   "cell_type": "code",
   "execution_count": 3,
   "metadata": {},
   "outputs": [
    {
     "name": "stdout",
     "output_type": "stream",
     "text": [
      "{\n",
      "  input: {\n",
      "    data: {\n",
      "      A: [Array],\n",
      "      B: [Array],\n",
      "      C: [Array],\n",
      "      D: [Array],\n",
      "      E: [Array],\n",
      "      F: [Array],\n",
      "      G: [Array],\n",
      "      H: [Array],\n",
      "      I: [Array],\n",
      "      J: [Array],\n",
      "      K: [Array],\n",
      "      L: [Array],\n",
      "      M: [Array],\n",
      "      N: [Array],\n",
      "      O: [Array],\n",
      "      P: [Array],\n",
      "      Q: [Array],\n",
      "      R: [Array],\n",
      "      S: [Array],\n",
      "      T: [Array],\n",
      "      U: [Array],\n",
      "      V: [Array],\n",
      "      W: [Array],\n",
      "      X: [Array],\n",
      "      Y: [Array],\n",
      "      Z: [Array]\n",
      "    },\n",
      "    groups: 5\n",
      "  },\n",
      "  settings: {\n",
      "    populationStartSize: 20,\n",
      "    populationMaxSize: 100,\n",
      "    evolutions: 1000,\n",
      "    elitism: 1,\n",
      "    bunches: 100,\n",
      "    interceptor: [Function: interceptor],\n",
      "    results: 1\n",
      "  },\n",
      "  results: [ { groups: [Array], seq: [Array], score: 78.56533202402326 } ]\n",
      "}\n"
     ]
    }
   ],
   "source": [
    "// Variablen\n",
    "var scoreLogM = [];\n",
    "var winner;\n",
    "\n",
    "// Settings\n",
    "var settings = {populationStartSize: 20, populationMaxSize: 100, evolutions: 1000, bunches: 100, interceptor: (ga) => {\n",
    "    scoreLogM.push(ga.bestScore());\n",
    "}};\n",
    "\n",
    "// Berechnen\n",
    "diversibute.genetic(dataM, groups, settings).then(result => {\n",
    "    console.log(result);\n",
    "    winner = result;\n",
    "});"
   ]
  },
  {
   "cell_type": "markdown",
   "metadata": {},
   "source": [
    "### 1000 Evolutionen, 52 PopStart, 104 PopMax"
   ]
  },
  {
   "cell_type": "code",
   "execution_count": 4,
   "metadata": {},
   "outputs": [
    {
     "name": "stdout",
     "output_type": "stream",
     "text": [
      "{\n",
      "  input: {\n",
      "    data: {\n",
      "      A: [Array],\n",
      "      B: [Array],\n",
      "      C: [Array],\n",
      "      D: [Array],\n",
      "      E: [Array],\n",
      "      F: [Array],\n",
      "      G: [Array],\n",
      "      H: [Array],\n",
      "      I: [Array],\n",
      "      J: [Array],\n",
      "      K: [Array],\n",
      "      L: [Array],\n",
      "      M: [Array],\n",
      "      N: [Array],\n",
      "      O: [Array],\n",
      "      P: [Array],\n",
      "      Q: [Array],\n",
      "      R: [Array],\n",
      "      S: [Array],\n",
      "      T: [Array],\n",
      "      U: [Array],\n",
      "      V: [Array],\n",
      "      W: [Array],\n",
      "      X: [Array],\n",
      "      Y: [Array],\n",
      "      Z: [Array]\n",
      "    },\n",
      "    groups: 5\n",
      "  },\n",
      "  settings: {\n",
      "    populationStartSize: 52,\n",
      "    populationMaxSize: 104,\n",
      "    evolutions: 1000,\n",
      "    elitism: 1,\n",
      "    bunches: 100,\n",
      "    interceptor: [Function: interceptor],\n",
      "    results: 1\n",
      "  },\n",
      "  results: [ { groups: [Array], seq: [Array], score: 76.13182579146705 } ]\n",
      "}\n"
     ]
    }
   ],
   "source": [
    "// Variablen\n",
    "var scoreLogM_2 = [];\n",
    "var winner;\n",
    "\n",
    "// Settings\n",
    "var settings = {populationStartSize: 52, populationMaxSize: 104, evolutions: 1000, bunches: 100, interceptor: (ga) => {\n",
    "    scoreLogM_2.push(ga.bestScore());\n",
    "}};\n",
    "\n",
    "// Berechnen\n",
    "diversibute.genetic(dataM, 5, settings).then(result => {\n",
    "    console.log(result);\n",
    "    winner = result;\n",
    "});"
   ]
  },
  {
   "cell_type": "code",
   "execution_count": null,
   "metadata": {},
   "outputs": [],
   "source": [
    "// Variablen\n",
    "var scoreLogM_3 = [];\n",
    "var winner;\n",
    "\n",
    "// Settings\n",
    "var settings = {populationStartSize: (Object.keys(dataM).length * 2), \n",
    "                populationMaxSize: (Object.keys(dataM).length * 3), \n",
    "                evolutions: 1000, \n",
    "                bunches: 100, \n",
    "                interceptor: (ga) => {\n",
    "    scoreLogM_3.push(ga.bestScore());\n",
    "}};\n",
    "\n",
    "// Berechnen\n",
    "diversibute.genetic(dataM, 5, settings).then(result => {\n",
    "    console.log(result);\n",
    "    winner = result;\n",
    "});"
   ]
  },
  {
   "cell_type": "code",
   "execution_count": null,
   "metadata": {},
   "outputs": [],
   "source": [
    "var log = {\n",
    "  y: scoreLogM,\n",
    "  name: '1000, 20 pstart, 100pmax',\n",
    "  type: 'scatter'\n",
    "};\n",
    "var log2 = {\n",
    "  y: scoreLogM_2,\n",
    "  name: '1000, 52pstart, 104pmax',\n",
    "  type: 'scatter'\n",
    "};\n",
    "var log3 = {\n",
    "  y: scoreLogM_3,\n",
    "  name: '1000, 2n pstart, 3n pmax',\n",
    "  type: 'scatter'\n",
    "};\n",
    "\n",
    "ds.Collection().plotly([log, log2, log3],{}).show();"
   ]
  },
  {
   "cell_type": "markdown",
   "metadata": {},
   "source": [
    "## Large size 3 Features"
   ]
  },
  {
   "cell_type": "code",
   "execution_count": null,
   "metadata": {},
   "outputs": [],
   "source": [
    "var dataL = require('../../examples/data/3features/input-l.json'); \n",
    "\n",
    "// Gruppengröße\n",
    "var groupsL = 7;"
   ]
  },
  {
   "cell_type": "markdown",
   "metadata": {},
   "source": [
    "### 1000 Evolutionen, 20 PopStart, 100 PopMax"
   ]
  },
  {
   "cell_type": "code",
   "execution_count": null,
   "metadata": {},
   "outputs": [],
   "source": [
    "// Variablen\n",
    "var scoreLogL = [];\n",
    "var winnerL;\n",
    "\n",
    "// Settings\n",
    "var settings = {populationStartSize: 20, populationMaxSize: 100, evolutions: 1000, bunches: 100, interceptor: (ga) => {\n",
    "    scoreLogL.push(ga.bestScore());\n",
    "}};\n",
    "\n",
    "// Berechnen\n",
    "diversibute.genetic(dataL, groupsL, settings).then(result => {\n",
    "    console.log(result);\n",
    "    winnerL = result;\n",
    "});"
   ]
  },
  {
   "cell_type": "markdown",
   "metadata": {},
   "source": [
    "### 1000 Evolutionen, PopStart 2x Teilnehmer, PopMax 4x Teilnehmer"
   ]
  },
  {
   "cell_type": "code",
   "execution_count": null,
   "metadata": {},
   "outputs": [],
   "source": [
    "// Variablen\n",
    "var scoreLogL_2 = [];\n",
    "var winnerL_2;\n",
    "\n",
    "var n = Object.keys(dataL).length;\n",
    "\n",
    "// Settings\n",
    "var settings = {populationStartSize: (2 * n), \n",
    "                populationMaxSize: (4 * n), \n",
    "                evolutions: 1000, \n",
    "                bunches: 100, \n",
    "                interceptor: (ga) => {\n",
    "    scoreLogL_2.push(ga.bestScore());\n",
    "}};\n",
    "\n",
    "// Berechnen\n",
    "diversibute.genetic(dataL, 7, settings).then(result => {\n",
    "    console.log(result);\n",
    "    winnerL_2 = result;\n",
    "});"
   ]
  },
  {
   "cell_type": "code",
   "execution_count": null,
   "metadata": {},
   "outputs": [],
   "source": [
    "var log = {\n",
    "  y: scoreLogL,\n",
    "  name: '1000, 20 pstart, 100pmax',\n",
    "  type: 'scatter'\n",
    "};\n",
    "var log2 = {\n",
    "  y: scoreLogL_2,\n",
    "  name: '1000, 2n pstart, 4n pmax',\n",
    "  type: 'scatter'\n",
    "};\n",
    "\n",
    "ds.Collection().plotly([log, log2],{}).show();"
   ]
  },
  {
   "cell_type": "markdown",
   "metadata": {},
   "source": [
    "## Medium size mit 4 Features"
   ]
  },
  {
   "cell_type": "code",
   "execution_count": null,
   "metadata": {},
   "outputs": [],
   "source": [
    "var dataM4 = require('../examples/data/4features/input-m.json'); \n",
    "\n",
    "// Gruppengröße\n",
    "var groupsM4 = 7;"
   ]
  },
  {
   "cell_type": "markdown",
   "metadata": {},
   "source": [
    "### 1000 Evolutions, 20 PopStart, 100 PopMax"
   ]
  },
  {
   "cell_type": "code",
   "execution_count": null,
   "metadata": {},
   "outputs": [],
   "source": [
    "// Variablen\n",
    "var scoreLogM4 = [];\n",
    "var winnerM4;\n",
    "\n",
    "// Settings\n",
    "var settings = {populationStartSize: 20, \n",
    "                populationMaxSize: 100, \n",
    "                evolutions: 1000, \n",
    "                bunches: 100, \n",
    "                interceptor: (ga) => {\n",
    "    scoreLogM4.push(ga.bestScore());\n",
    "}};\n",
    "\n",
    "// Berechnen\n",
    "diversibute.genetic(dataM4, groupsM4, settings).then(result => {\n",
    "    console.log(result);\n",
    "    winnerM4 = result;\n",
    "});"
   ]
  },
  {
   "cell_type": "markdown",
   "metadata": {},
   "source": [
    "### 1000 Evolutions, PopStart 1x Teilnehmer, PopMax 3x Teilnehmer"
   ]
  },
  {
   "cell_type": "code",
   "execution_count": null,
   "metadata": {},
   "outputs": [],
   "source": [
    "// Variablen\n",
    "var scoreLogM4_3 = [];\n",
    "var winnerM4_3;\n",
    "\n",
    "// Settings\n",
    "var settings = {populationStartSize: (Object.keys(dataM4).length), \n",
    "                populationMaxSize: (Object.keys(dataM4).length * 3), \n",
    "                evolutions: 1000, \n",
    "                bunches: 100, \n",
    "                interceptor: (ga) => {\n",
    "    scoreLogM4_3.push(ga.bestScore());\n",
    "}};\n",
    "\n",
    "// Berechnen\n",
    "diversibute.genetic(dataM4, groupsM4, settings).then(result => {\n",
    "    console.log(result);\n",
    "    winnerM4_3 = result;\n",
    "});"
   ]
  },
  {
   "cell_type": "markdown",
   "metadata": {},
   "source": [
    "### 1000 Evolutions, PopStart 2x Teilnehmer, PopMax 4x Teilnehmer"
   ]
  },
  {
   "cell_type": "code",
   "execution_count": null,
   "metadata": {},
   "outputs": [],
   "source": [
    "// Variablen\n",
    "var scoreLogM4_2 = [];\n",
    "var winnerM4_2;\n",
    "\n",
    "// Settings\n",
    "var settings = {populationStartSize: (Object.keys(dataM4).length * 2), \n",
    "                populationMaxSize: (Object.keys(dataM4).length * 4), \n",
    "                evolutions: 1000, \n",
    "                bunches: 100, \n",
    "                interceptor: (ga) => {\n",
    "    scoreLogM4_2.push(ga.bestScore());\n",
    "}};\n",
    "\n",
    "// Berechnen\n",
    "diversibute.genetic(dataM4, groupsM4, settings).then(result => {\n",
    "    console.log(result);\n",
    "    winnerM4_2 = result;\n",
    "});"
   ]
  },
  {
   "cell_type": "markdown",
   "metadata": {},
   "source": [
    "### 1000 Evolutions, 2n pstart, 3n pmax"
   ]
  },
  {
   "cell_type": "code",
   "execution_count": null,
   "metadata": {},
   "outputs": [],
   "source": [
    "// Variablen\n",
    "var scoreLogM4_4 = [];\n",
    "var winnerM4_4;\n",
    "\n",
    "// Settings\n",
    "var settings = {populationStartSize: (Object.keys(dataM4).length * 2), \n",
    "                populationMaxSize: (Object.keys(dataM4).length * 3), \n",
    "                evolutions: 1000, \n",
    "                bunches: 100, \n",
    "                interceptor: (ga) => {\n",
    "    scoreLogM4_4.push(ga.bestScore());\n",
    "}};\n",
    "\n",
    "// Berechnen\n",
    "diversibute.genetic(dataM4, groupsM4, settings).then(result => {\n",
    "    console.log(result);\n",
    "    winnerM4_4 = result;\n",
    "});"
   ]
  },
  {
   "cell_type": "code",
   "execution_count": null,
   "metadata": {},
   "outputs": [],
   "source": [
    "var log = {\n",
    "  y: scoreLogM4,\n",
    "  name: '1000, 20pstart, 100pmax',\n",
    "  type: 'scatter'\n",
    "};\n",
    "var log2 = {\n",
    "  y: scoreLogM4_2,\n",
    "  name: '1000, 2n pstart, 4n pmax',\n",
    "  type: 'scatter'\n",
    "};\n",
    "var log3 = {\n",
    "  y: scoreLogM4_3,\n",
    "  name: '1000, 1n pstart, 3n pmax',\n",
    "  type: 'scatter'\n",
    "};\n",
    "var log4 = {\n",
    "  y: scoreLogM4_4,\n",
    "  name: '1000, 2n pstart, 3n pmax',\n",
    "  type: 'scatter'\n",
    "};\n",
    "\n",
    "ds.Collection().plotly([log, log2, log3, log4],{}).show();"
   ]
  },
  {
   "cell_type": "code",
   "execution_count": null,
   "metadata": {},
   "outputs": [],
   "source": []
  }
 ],
 "metadata": {
  "kernelspec": {
   "display_name": "Javascript (Node.js)",
   "language": "javascript",
   "name": "javascript"
  },
  "language_info": {
   "file_extension": ".js",
   "mimetype": "application/javascript",
   "name": "javascript",
   "version": "13.0.0"
  }
 },
 "nbformat": 4,
 "nbformat_minor": 2
}
