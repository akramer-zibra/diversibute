{
 "cells": [
  {
   "cell_type": "markdown",
   "metadata": {},
   "source": [
    "# Die Problemstellung\n",
    "\n",
    "Finde die k Gruppen aus der Menge S, die in sich möglichst heterogen, aber dennoch sehr ähnlich in der Gruppengröße sind.\n",
    "\n",
    "Die drei Eigenschaften bestehen aus einem Zahlenwert zwischen 0 und 10. Dabei repräsentiert 10 die stärkste Ausprägung und 0 die schwächste Ausprägung davon.\n",
    "  \n",
    "Beispiel:  \n",
    "x: Programmiererfahrung  \n",
    "y: Projekterfahrung  \n",
    "z: Lernmotivation"
   ]
  },
  {
   "cell_type": "code",
   "execution_count": 1,
   "metadata": {},
   "outputs": [
    {
     "name": "stdout",
     "output_type": "stream",
     "text": [
      "{\n",
      "  A: [ 1.6, 0, 2.4 ],\n",
      "  B: [ 8.6, 1.3, 6.2 ],\n",
      "  C: [ 6.6, 1.2, 2.3 ],\n",
      "  D: [ 6.6, 3.6, 0 ],\n",
      "  E: [ 8.7, 4.1, 8.3 ],\n",
      "  F: [ 1.2, 4.1, 1.4 ],\n",
      "  G: [ 0, 1.2, 1.5 ],\n",
      "  H: [ 2.7, 3.6, 5 ],\n",
      "  I: [ 1.6, 7.8, 5.8 ],\n",
      "  J: [ 1.2, 3.7, 0 ],\n",
      "  K: [ 7.9, 0, 1.6 ],\n",
      "  L: [ 9, 2.9, 0 ],\n",
      "  M: [ 3.2, 7.4, 5.5 ],\n",
      "  N: [ 7.3, 1.2, 8.7 ],\n",
      "  O: [ 1.4, 7.8, 7.7 ],\n",
      "  P: [ 1.5, 1, 1.2 ],\n",
      "  Q: [ 8.1, 0, 2.6 ],\n",
      "  R: [ 9.2, 0, 0 ],\n",
      "  S: [ 6.4, 1.3, 0 ],\n",
      "  T: [ 9.8, 6.8, 7.7 ],\n",
      "  U: [ 1.8, 1.4, 6.9 ],\n",
      "  V: [ 0, 3, 1.8 ],\n",
      "  W: [ 7.3, 2.7, 0 ],\n",
      "  X: [ 1.2, 9.4, 4.7 ],\n",
      "  Y: [ 4.7, 4.8, 8.6 ],\n",
      "  Z: [ 3.3, 0, 7.3 ]\n",
      "}\n"
     ]
    }
   ],
   "source": [
    "var ds = require('dstools');\n",
    "var data = require('../examples/data/3features/input-m.json'); \n",
    "\n",
    "// Get x, y, z points in separate arrays\n",
    "var x = Object.values(data).map(v => v[0]);\n",
    "var y = Object.values(data).map(v => v[1]);\n",
    "var z = Object.values(data).map(v => v[2]);\n",
    "\n",
    "// Data\n",
    "console.log(data);"
   ]
  },
  {
   "cell_type": "code",
   "execution_count": 2,
   "metadata": {},
   "outputs": [
    {
     "data": {
      "text/html": [
       "\n",
       "\t<div class=\"plotly-plot\">\n",
       "\t\t<div id=\"notebook-plot-1580058777199\"></div>\n",
       "\t\t<script>\n",
       "\t\tfunction plot1580058777199(){\n",
       "\t\t\tPlotly.plot('notebook-plot-1580058777199',[{\"x\":[1.6,8.6,6.6,6.6,8.7,1.2,0,2.7,1.6,1.2,7.9,9,3.2,7.3,1.4,1.5,8.1,9.2,6.4,9.8,1.8,0,7.3,1.2,4.7,3.3],\"y\":[0,1.3,1.2,3.6,4.1,4.1,1.2,3.6,7.8,3.7,0,2.9,7.4,1.2,7.8,1,0,0,1.3,6.8,1.4,3,2.7,9.4,4.8,0],\"z\":[2.4,6.2,2.3,0,8.3,1.4,1.5,5,5.8,0,1.6,0,5.5,8.7,7.7,1.2,2.6,0,0,7.7,6.9,1.8,0,4.7,8.6,7.3],\"mode\":\"markers\",\"marker\":{\"size\":12,\"line\":{\"color\":\"rgba(217, 217, 217, 0.14)\",\"width\":0.5},\"opacity\":0.8},\"type\":\"scatter3d\"}], {\"margin\":{\"l\":0,\"r\":0,\"b\":0,\"t\":0}});\n",
       "\t\t}if(window.Plotly){plot1580058777199();}else if(!window.require){\n",
       "\t\t\tvar head = document.head || document.getElementsByTagName('head')[0];\n",
       "\t\t\tvar s = document.createElement('script');\n",
       "\t\t\ts.src = 'https://cdn.plot.ly/plotly-latest.min.js';\n",
       "\t\t\ts.type = 'text/javascript';\n",
       "\t\t\ts.async = false;\n",
       "\t\t\ts.onreadystatechange = s.onload = plot1580058777199;\n",
       "\t\t\thead.appendChild(s);\n",
       "\t\t}else{\n",
       "\t\t\trequire(['https://cdn.plot.ly/plotly-latest.min.js'], function(Plotly){\n",
       "\t\t\t\twindow.Plotly = Plotly;\n",
       "\t\t\t\tplot1580058777199();\n",
       "\t\t\t});\n",
       "\t\t}\n",
       "\t\t</script>\n",
       "\t\t</div>\n",
       "\t"
      ]
     },
     "execution_count": 2,
     "metadata": {},
     "output_type": "execute_result"
    }
   ],
   "source": [
    "// Plot data in 3D scatter\n",
    "ds.Collection().plotly(\n",
    "    [{x: x, y: y, z: z,\n",
    "        mode: 'markers',\n",
    "        marker: {\n",
    "            size: 12,\n",
    "            line: {\n",
    "            color: 'rgba(217, 217, 217, 0.14)',\n",
    "            width: 0.5},\n",
    "            opacity: 0.8},\n",
    "        type: 'scatter3d'}]\n",
    "    ,{\n",
    "        margin: {l: 0, r: 0, b: 0, t: 0 }\n",
    "    }\n",
    ").show();"
   ]
  },
  {
   "cell_type": "code",
   "execution_count": 3,
   "metadata": {},
   "outputs": [
    {
     "data": {
      "text/html": [
       "\n",
       "\t<div class=\"plotly-plot\">\n",
       "\t\t<div id=\"notebook-plot-1580058790639\"></div>\n",
       "\t\t<script>\n",
       "\t\tfunction plot1580058790639(){\n",
       "\t\t\tPlotly.plot('notebook-plot-1580058790639',[{\"x\":[1.6,8.6,6.6,6.6,8.7,1.2,0,2.7,1.6,1.2,7.9,9,3.2,7.3,1.4,1.5,8.1,9.2,6.4,9.8,1.8,0,7.3,1.2,4.7,3.3],\"y\":[0,1.3,1.2,3.6,4.1,4.1,1.2,3.6,7.8,3.7,0,2.9,7.4,1.2,7.8,1,0,0,1.3,6.8,1.4,3,2.7,9.4,4.8,0],\"mode\":\"markers\",\"type\":\"scatter\",\"text\":[\"A\",\"B\",\"C\",\"D\",\"E\",\"F\",\"G\",\"H\",\"I\",\"J\",\"K\",\"L\",\"M\",\"N\",\"O\",\"P\",\"Q\",\"R\",\"S\",\"T\",\"U\",\"V\",\"W\",\"X\",\"Y\",\"Z\"],\"marker\":{\"size\":12}}], {\"xaxis\":{\"range\":[0,10]},\"yaxis\":{\"range\":[0,10]},\"title\":\"x- verknüpft mit y-Eigenschaft\"});\n",
       "\t\t}if(window.Plotly){plot1580058790639();}else if(!window.require){\n",
       "\t\t\tvar head = document.head || document.getElementsByTagName('head')[0];\n",
       "\t\t\tvar s = document.createElement('script');\n",
       "\t\t\ts.src = 'https://cdn.plot.ly/plotly-latest.min.js';\n",
       "\t\t\ts.type = 'text/javascript';\n",
       "\t\t\ts.async = false;\n",
       "\t\t\ts.onreadystatechange = s.onload = plot1580058790639;\n",
       "\t\t\thead.appendChild(s);\n",
       "\t\t}else{\n",
       "\t\t\trequire(['https://cdn.plot.ly/plotly-latest.min.js'], function(Plotly){\n",
       "\t\t\t\twindow.Plotly = Plotly;\n",
       "\t\t\t\tplot1580058790639();\n",
       "\t\t\t});\n",
       "\t\t}\n",
       "\t\t</script>\n",
       "\t\t</div>\n",
       "\t"
      ]
     },
     "execution_count": 3,
     "metadata": {},
     "output_type": "execute_result"
    }
   ],
   "source": [
    "var data = [ {\n",
    "  x: x,\n",
    "  y: y,\n",
    "  mode: 'markers',\n",
    "  type: 'scatter',\n",
    "  text: Object.keys(data),\n",
    "  marker: { size: 12 }\n",
    "}];\n",
    "\n",
    "var layout = {\n",
    "  xaxis: {\n",
    "    range: [ 0, 10 ]\n",
    "  },\n",
    "  yaxis: {\n",
    "    range: [0, 10]\n",
    "  },\n",
    "  title:'x- verknüpft mit y-Eigenschaft'\n",
    "};\n",
    "ds.Collection().plotly(data, layout).show();"
   ]
  },
  {
   "cell_type": "code",
   "execution_count": 4,
   "metadata": {},
   "outputs": [
    {
     "data": {
      "text/html": [
       "\n",
       "\t<div class=\"plotly-plot\">\n",
       "\t\t<div id=\"notebook-plot-1580058794929\"></div>\n",
       "\t\t<script>\n",
       "\t\tfunction plot1580058794929(){\n",
       "\t\t\tPlotly.plot('notebook-plot-1580058794929',[{\"x\":[0,1.3,1.2,3.6,4.1,4.1,1.2,3.6,7.8,3.7,0,2.9,7.4,1.2,7.8,1,0,0,1.3,6.8,1.4,3,2.7,9.4,4.8,0],\"y\":[2.4,6.2,2.3,0,8.3,1.4,1.5,5,5.8,0,1.6,0,5.5,8.7,7.7,1.2,2.6,0,0,7.7,6.9,1.8,0,4.7,8.6,7.3],\"mode\":\"markers\",\"type\":\"scatter\",\"text\":[\"0\"],\"marker\":{\"size\":12}}], {\"xaxis\":{\"range\":[0,10]},\"yaxis\":{\"range\":[0,10]},\"title\":\"y- verknüpft mit z-Eigenschaft\"});\n",
       "\t\t}if(window.Plotly){plot1580058794929();}else if(!window.require){\n",
       "\t\t\tvar head = document.head || document.getElementsByTagName('head')[0];\n",
       "\t\t\tvar s = document.createElement('script');\n",
       "\t\t\ts.src = 'https://cdn.plot.ly/plotly-latest.min.js';\n",
       "\t\t\ts.type = 'text/javascript';\n",
       "\t\t\ts.async = false;\n",
       "\t\t\ts.onreadystatechange = s.onload = plot1580058794929;\n",
       "\t\t\thead.appendChild(s);\n",
       "\t\t}else{\n",
       "\t\t\trequire(['https://cdn.plot.ly/plotly-latest.min.js'], function(Plotly){\n",
       "\t\t\t\twindow.Plotly = Plotly;\n",
       "\t\t\t\tplot1580058794929();\n",
       "\t\t\t});\n",
       "\t\t}\n",
       "\t\t</script>\n",
       "\t\t</div>\n",
       "\t"
      ]
     },
     "execution_count": 4,
     "metadata": {},
     "output_type": "execute_result"
    }
   ],
   "source": [
    "var data = [ {\n",
    "  x: y,\n",
    "  y: z,\n",
    "  mode: 'markers',\n",
    "  type: 'scatter',\n",
    "  text: Object.keys(data),\n",
    "  marker: { size: 12 }\n",
    "}];\n",
    "\n",
    "var layout = {\n",
    "  xaxis: {\n",
    "    range: [ 0, 10 ]\n",
    "  },\n",
    "  yaxis: {\n",
    "    range: [0, 10]\n",
    "  },\n",
    "  title:'y- verknüpft mit z-Eigenschaft'\n",
    "};\n",
    "ds.Collection().plotly(data, layout).show();"
   ]
  },
  {
   "cell_type": "markdown",
   "metadata": {},
   "source": [
    "### Wie kommt man auf eine \"Fitness\" function?\n",
    "Ziel: Das Ergebnis mit der großtmöglichen Heterogenität in den Gruppen und einem möglichst kleinen Unterschied zwischen den Gruppen.\n",
    "\n",
    "Fitness = Summe(Heterogenität pro Gruppe) - Summe(Differenz zwischen den Gruppenscores)"
   ]
  }
 ],
 "metadata": {
  "kernelspec": {
   "display_name": "Javascript (Node.js)",
   "language": "javascript",
   "name": "javascript"
  },
  "language_info": {
   "file_extension": ".js",
   "mimetype": "application/javascript",
   "name": "javascript",
   "version": "13.0.0"
  }
 },
 "nbformat": 4,
 "nbformat_minor": 2
}
