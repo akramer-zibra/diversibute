{
 "cells": [
  {
   "cell_type": "code",
   "execution_count": 1,
   "metadata": {},
   "outputs": [],
   "source": [
    "var ds = require('dstools');\n",
    "var input = require('../examples/data/3features/input-m.json'); \n",
    "var kreativesFeld = require('../index');"
   ]
  },
  {
   "cell_type": "markdown",
   "metadata": {
    "scrolled": true
   },
   "source": [
    "#### Wie schneiden die beiden Algorithmen bei 100x Tests ab?  \n",
    "\n",
    "Gruppengröße: 26  \n",
    "Gruppenanzahl: 3"
   ]
  },
  {
   "cell_type": "code",
   "execution_count": 2,
   "metadata": {},
   "outputs": [],
   "source": [
    "var groups = 3;"
   ]
  },
  {
   "cell_type": "code",
   "execution_count": 3,
   "metadata": {},
   "outputs": [
    {
     "name": "stdout",
     "output_type": "stream",
     "text": [
      "[\n",
      "  223.82383248580317, 223.11081212405517, 233.03395421382254, 227.03950286715343,\n",
      "   221.5397595232798, 223.29777003879605, 241.18566341964626, 230.57562580954408,\n",
      "   223.6613470239592, 214.57026081051063, 211.53713942763764,  221.7720685529746,\n",
      "  213.43863345289174, 215.38806897218657,  224.6163640911817,  221.8798001380449,\n",
      "  217.75772948582667, 226.40444855129576, 219.83846234502704,  219.8779249069148,\n",
      "  207.32987296250735,  206.7539959488565, 211.75586776121943, 221.74615151155737,\n",
      "  207.59317566012425, 223.61371629563524,  223.0416585798933, 227.84864962361925,\n",
      "  223.44256791230228, 226.47182272008587, 209.11649344797155, 219.12735940516222,\n",
      "  222.31131655143176, 225.70095333958966,  222.1079253581245, 218.44277999447442,\n",
      "  239.11339324146806, 216.29390302591833,  224.6351707394622, 218.05579719246708,\n",
      "  230.25788026912645, 222.61549229331652,  228.7776113236826, 223.42185641150118,\n",
      "  221.25785097077227, 218.02963771466588,   204.583079883606,  222.4516690144874,\n",
      "  218.80315434509174, 221.40815659799904,  221.2264744926422,  229.0026083853991,\n",
      "   231.3155828074869, 233.28709184882652, 239.90313164746664, 224.81049134295418,\n",
      "  219.81692215534758,  227.7649662884281, 225.39166402023193,  237.2759271546775,\n",
      "  234.50193658177304, 222.54674386496845, 213.54177324861558, 212.37300036261868,\n",
      "  219.09402076193524, 217.19999451746767, 215.42825405023711,  213.5931220655511,\n",
      "   211.6441864971068, 218.94318995969414, 221.97388717298045, 223.67430872579396,\n",
      "  221.17626184068092,  228.6481858206588, 227.20812205040957, 217.52741384526382,\n",
      "    210.768054520157, 220.21582312052152, 222.73892161825256,  214.8176070951406,\n",
      "  210.30261059829346, 235.55651098697427, 212.02337936637238,    219.83649749727,\n",
      "  228.89538329177685,  215.9949901391045, 230.48108856771373, 231.69923922359635,\n",
      "  214.18889460299903,  235.9498940496744, 230.57723765405692, 220.31799815395246,\n",
      "   212.0544091016853, 216.15230101652608, 225.71940309952936, 227.45799661442683,\n",
      "   195.3360312725826, 224.30385743529638, 216.74875848563713,  222.1812150689462\n",
      "]\n",
      "241.18566341964626\n"
     ]
    }
   ],
   "source": [
    "// 100x runs of monte carlo\n",
    "var scoresMonteCarlo = [];\n",
    "var resultsMonteCarlo = {};\n",
    "\n",
    "// Initialize empty promise collection\n",
    "var runs = [];\n",
    "\n",
    "for(let run = 0; run < 100; run++) {\n",
    "    \n",
    "    // Calculate groups with monte carlo\n",
    "    runs.push(kreativesFeld.monteCarlo(input, groups).then(result => {\n",
    "                \n",
    "        // Collect result and score\n",
    "        resultsMonteCarlo[result.score] = result;\n",
    "        scoresMonteCarlo.push(result.score);\n",
    "        \n",
    "        return;\n",
    "    }));\n",
    "}\n",
    "\n",
    "var highscoreMonteCarlo = undefined;\n",
    "\n",
    "// Run async tasks in a sequence\n",
    "runs.reduce((promiseChain, currentTask) => {    \n",
    "    return promiseChain.then(chainResults =>        \n",
    "             currentTask.then(currentResult =>            \n",
    "                  [ ...chainResults, currentResult ]        \n",
    "             )    \n",
    "        );\n",
    "    },Promise.resolve([])).then(arrayOfResults => {    \n",
    "\n",
    "        // Do something with all results\n",
    "        console.log(scoresMonteCarlo);\n",
    "\n",
    "        // Calculate highest score of this batch\n",
    "        highscoreMonteCarlo = Math.max(...scoresMonteCarlo);\n",
    "\n",
    "        console.log(highscoreMonteCarlo);\n",
    "    });"
   ]
  },
  {
   "cell_type": "code",
   "execution_count": 4,
   "metadata": {},
   "outputs": [
    {
     "name": "stdout",
     "output_type": "stream",
     "text": [
      "[\n",
      "  224.37477802131318,  196.0384930178766, 214.51150200267915, 216.51048032231884,\n",
      "    200.241102996707, 222.09728401190551,  234.5059535955467, 216.94394185777608,\n",
      "   216.4838850313254,  234.1265911775872,  216.3081852708379,  212.7914360331232,\n",
      "  202.54411660865443, 204.11368475045907,  226.0391090630756,  220.3062878856195,\n",
      "  227.34380674153599, 227.58126285168666, 226.68952795001138,  234.8151955103284,\n",
      "  220.51548870311277, 217.51970038313894, 210.99721759729795, 214.86944980767626,\n",
      "    205.522149589334, 218.84726148929397,  212.6251253996082, 193.30398140647006,\n",
      "  223.41356058201586, 204.03021758105646, 198.63971664790478,  220.8565351429036,\n",
      "  203.20721600242717, 230.01929728682902, 210.76988810050483,  206.1089710954402,\n",
      "  218.95070547710603, 228.93416304730772, 199.12657499808657, 230.46482211898092,\n",
      "   219.6504847731949,  198.1320326363681, 210.64456837998245,  199.3664806610932,\n",
      "  208.25960002506358, 217.56649814190985, 215.77277728794388, 216.62550837209142,\n",
      "   218.1340598978649, 213.66723953924574, 217.91285217758454, 215.73608775200248,\n",
      "  218.53517023366078, 216.66439223075363, 226.52528095680452, 206.84952969906567,\n",
      "  218.03616698222194, 215.27636515888105, 208.39821278657828, 226.92950698480436,\n",
      "  213.25025219865418,  221.3640590052572, 232.43937863853031,   227.496242178916,\n",
      "   235.2006453373504, 210.24242025282226, 219.01665915172362, 213.78202563366546,\n",
      "  208.75089132143802,  204.8117023326288, 203.21954085190197,  208.7654834300329,\n",
      "  201.29913548315992, 225.56625225430483, 215.49199041525085, 217.30304680480728,\n",
      "  223.04380092442682, 224.59916547624536, 217.89420249401374, 222.05308507172168,\n",
      "   223.8075159692647,  231.3352840503493, 207.52399051114224, 208.82628798973093,\n",
      "   211.1735648709814, 203.60844716148821, 224.33295479509152, 216.85769800524488,\n",
      "  213.10163911717427, 234.62575069807212, 208.39273922866067,  222.7321908867189,\n",
      "  233.34389062803143, 232.99571146538537, 226.57441305765872,  224.0334518908647,\n",
      "  220.05890495197647, 224.78592444323553, 228.98829594464772, 221.35004934978994\n",
      "]\n",
      "235.2006453373504\n"
     ]
    }
   ],
   "source": [
    "// 100x runs of genetic\n",
    "var scoresGenetic = [];\n",
    "var resultsGenetic = {};\n",
    "var runs = [];\n",
    "\n",
    "// Run algorithm x times\n",
    "for(let run = 0; run < 100; run++) {\n",
    "    runs.push(kreativesFeld.genetic(input, groups).then(result => {\n",
    "        \n",
    "        // Collect result and score\n",
    "        resultsGenetic[result.score] = result;\n",
    "        return scoresGenetic.push(result.score);\n",
    "    }));\n",
    "}\n",
    "\n",
    "var highscoreGenetic = undefined;\n",
    "\n",
    "// We must wait until all calculations are done\n",
    "Promise.all(runs).then(values => {\n",
    "    \n",
    "    console.log(scoresGenetic);\n",
    "\n",
    "    // Calculate highest score of this batch\n",
    "    highscoreGenetic = Math.max(...scoresGenetic);\n",
    "\n",
    "    console.log(highscoreGenetic);\n",
    "});"
   ]
  },
  {
   "cell_type": "markdown",
   "metadata": {},
   "source": [
    "## Vergleich Algorithmen"
   ]
  },
  {
   "cell_type": "code",
   "execution_count": 5,
   "metadata": {},
   "outputs": [],
   "source": [
    "// Calculate overall hitrate\n",
    "\n",
    "// Highest score\n",
    "var highestScore = (highscoreMonteCarlo > highscoreGenetic) ? highscoreMonteCarlo : highscoreGenetic;\n",
    "\n",
    "var hitRateMonteCarlo = scoresMonteCarlo.map(v => v/highestScore);\n",
    "var hitRateGenetic = scoresGenetic.map(v => v/highestScore);"
   ]
  },
  {
   "cell_type": "code",
   "execution_count": 10,
   "metadata": {},
   "outputs": [
    {
     "name": "stdout",
     "output_type": "stream",
     "text": [
      "{\n",
      "  Collection: [Function (anonymous)] { registerFunction: [Function (anonymous)] },\n",
      "  HTML: [Function: HTML],\n",
      "  Wrapper: [Function (anonymous)] { registerFunction: [Function (anonymous)] },\n",
      "  NOWRAP: [Function: NOWRAP],\n",
      "  ProgressReporter: [Function (anonymous)]\n",
      "}\n"
     ]
    }
   ],
   "source": [
    "console.log(ds);"
   ]
  },
  {
   "cell_type": "code",
   "execution_count": 11,
   "metadata": {},
   "outputs": [
    {
     "data": {
      "text/html": [
       "\n",
       "\t<div class=\"plotly-plot\">\n",
       "\t\t<div id=\"notebook-plot-1580907823066\"></div>\n",
       "\t\t<script>\n",
       "\t\tfunction plot1580907823066(){\n",
       "\t\t\tPlotly.plot('notebook-plot-1580907823066',[{\"x\":[0.9280146643557552,0.9250583511502418,0.9662015184060078,0.9413474235909308,0.9185444788972222,0.9258335129574989,1,0.9560088379231668,0.9273409698270665,0.8896476588543047,0.8770717812508522,0.919507674745603,0.884955724260954,0.8930384414990137,0.9313006457617047,0.9199543496579625,0.9028634886433667,0.9387143719125949,0.9114905887358795,0.9116542077558836,0.8596276827688875,0.8572399910400932,0.8779786690421104,0.9194002179380559,0.8607193840494847,0.9271434840907726,0.9247716278716631,0.944702294460921,0.9264338715005949,0.9389937175745006,0.8670353390123501,0.9085422255131967,0.9217434958587299,0.9357975517263052,0.9209001986642638,0.9057038337075582,0.9914079877352718,0.8967941956383286,0.9313786215750837,0.9040993320281445,0.9546914066301435,0.9230046642779968,0.9485539400641135,0.926347997819268,0.917375634329471,0.9039908700348805,0.8482389748334489,0.9223254229146987,0.9071980118668558,0.9179988290297515,0.9172455416959157,0.9494868191520592,0.9590768353631944,0.967251073472486,0.9946823880242496,0.9321055329553298,0.9114012791584608,0.9443553280036091,0.934515181476878,0.9837895163023597,0.9722880425680858,0.9227196206838904,0.8853833607724343,0.8805374140050126,0.9084039973832395,0.9005510171620558,0.8932050562035562,0.8855962623861019,0.877515618035972,0.9077786252110194,0.9203444517627125,0.9273947114203727,0.9170373508306322,0.9480173181887137,0.9420465496536718,0.9019085577519642,0.8738830141550962,0.9130551957284514,0.9235164248991962,0.8906732019198542,0.8719531982810337,0.976660501487281,0.8790878212253705,0.9114824421166767,0.9490422442461467,0.8955548479815247,0.9556168691780518,0.9606675452365334,0.8880664446058938,0.9782915398214944,0.9560155209261696,0.9134788321585039,0.8792164761996047,0.8962070877340504,0.935874047815161,0.9430825754293105,0.8098990151529509,0.9300049358448943,0.8986801098061512,0.9212040712484902],\"type\":\"histogram\",\"opacity\":0.5,\"marker\":{\"color\":\"green\"},\"name\":\"Monte Carlo\"},{\"x\":[0.9302989856031231,0.8128115503979325,0.8894040340592055,0.8976921648348795,0.8302363422335822,0.9208560776909518,0.9723046978440119,0.8994893758685346,0.8975818958801813,0.9707317916746288,0.8968534124454849,0.8822723250464557,0.8397850590988146,0.8462927765126548,0.9371996073820661,0.9134302792380403,0.9426091232710362,0.94359365985909,0.9398963633903371,0.9735868715453717,0.9142976642000117,0.9018765763231532,0.8748331663071427,0.8908881513152728,0.8521325300821871,0.9073808881770679,0.8815827706543871,0.8014737636794547,0.9263136017885599,0.8459467063183523,0.8235967006972778,0.9157117052958019,0.8425343908143527,0.9537021978234729,0.8738906165155427,0.8545655996841941,0.9078097859247424,0.9492030322257514,0.8256153047190877,0.9555494254979334,0.9107111992432915,0.8214917496635452,0.8733710179674965,0.8266099976025914,0.863482501705362,0.9020706084148927,0.8946335127412374,0.8981690922282479,0.9044238235600547,0.8859035670270319,0.9035066557767629,0.8944813911954489,0.9060869005858976,0.8983303118385303,0.9392153652295091,0.8576360914917314,0.9040179415757984,0.8925752969997854,0.8640572156396373,0.9408913604867252,0.8841746610270678,0.9178159923216461,0.9637362990108661,0.9432411485548723,0.9751850172293104,0.8717036380683004,0.9080832419572546,0.8863794912291267,0.8655194855351995,0.8491868854421529,0.8425854919009598,0.8655799870939903,0.8346231389919451,0.9352390563191779,0.893469318863741,0.9009782908477239,0.9247805104250585,0.9312293371495239,0.9034293307678616,0.9206728207777622,0.9279470130853309,0.9591585203298009,0.8604325297315245,0.8658320939515701,0.8755643344503198,0.8441979687956149,0.930125578835786,0.8991317930366681,0.8835584839319087,0.9728013986048568,0.864034521264524,0.9234885180516738,0.9674865716293812,0.966042956956314,0.9394190759317025,0.9288837848585639,0.9124045842189604,0.9320036740829146,0.9494274771474457,0.917757905720359],\"type\":\"histogram\",\"opacity\":0.6,\"marker\":{\"color\":\"red\"},\"name\":\"Genetic Algorithm\"}], {\"barmode\":\"overlay\",\"xaxis\":{\"title\":\"Trefferquote\"},\"yaxis\":{\"title\":\"Häufigkeit\"}});\n",
       "\t\t}if(window.Plotly){plot1580907823066();}else if(!window.require){\n",
       "\t\t\tvar head = document.head || document.getElementsByTagName('head')[0];\n",
       "\t\t\tvar s = document.createElement('script');\n",
       "\t\t\ts.src = 'https://cdn.plot.ly/plotly-latest.min.js';\n",
       "\t\t\ts.type = 'text/javascript';\n",
       "\t\t\ts.async = false;\n",
       "\t\t\ts.onreadystatechange = s.onload = plot1580907823066;\n",
       "\t\t\thead.appendChild(s);\n",
       "\t\t}else{\n",
       "\t\t\trequire(['https://cdn.plot.ly/plotly-latest.min.js'], function(Plotly){\n",
       "\t\t\t\twindow.Plotly = Plotly;\n",
       "\t\t\t\tplot1580907823066();\n",
       "\t\t\t});\n",
       "\t\t}\n",
       "\t\t</script>\n",
       "\t\t</div>\n",
       "\t"
      ]
     },
     "execution_count": 11,
     "metadata": {},
     "output_type": "execute_result"
    }
   ],
   "source": [
    "var trace1 = {\n",
    "  x: hitRateMonteCarlo,\n",
    "  type: \"histogram\",\n",
    "  opacity: 0.5,\n",
    "  marker: {\n",
    "     color: 'green',\n",
    "  },\n",
    "  name: 'Monte Carlo'\n",
    "};\n",
    "var trace2 = {\n",
    "  x: hitRateGenetic,\n",
    "  type: \"histogram\",\n",
    "  opacity: 0.6,\n",
    "  marker: {\n",
    "     color: 'red',\n",
    "  },\n",
    "  name: 'Genetic Algorithm'\n",
    "};\n",
    "\n",
    "var data = [trace1, trace2];\n",
    "var layout = {barmode: \"overlay\", xaxis: {title: 'Trefferquote'}, yaxis: {title: 'Häufigkeit'}};\n",
    "\n",
    "ds.Collection().plotly(data, layout).show();"
   ]
  },
  {
   "cell_type": "markdown",
   "metadata": {},
   "source": [
    "## Darstellung \"bestes\" Ergebnis"
   ]
  },
  {
   "cell_type": "code",
   "execution_count": 12,
   "metadata": {},
   "outputs": [
    {
     "data": {
      "text/html": [
       "\n",
       "\t<div class=\"plotly-plot\">\n",
       "\t\t<div id=\"notebook-plot-1580909250317\"></div>\n",
       "\t\t<script>\n",
       "\t\tfunction plot1580909250317(){\n",
       "\t\t\tPlotly.plot('notebook-plot-1580909250317',[{\"x\":[8.6,2.7,3.2,1.4,1.5,8.1,6.4,1.8,0],\"y\":[1.3,3.6,7.4,7.8,1,0,1.3,1.4,3],\"z\":[6.2,5,5.5,7.7,1.2,2.6,0,6.9,1.8],\"mode\":\"markers\",\"marker\":{\"size\":12,\"line\":{\"color\":\"rgba(217, 217, 217, 0.14)\",\"width\":0.5},\"opacity\":0.8},\"type\":\"scatter3d\"},{\"x\":[1.6,6.6,6.6,8.7,1.2,0,7.9,9,4.7],\"y\":[0,1.2,3.6,4.1,4.1,1.2,0,2.9,4.8],\"z\":[2.4,2.3,0,8.3,1.4,1.5,1.6,0,8.6],\"mode\":\"markers\",\"marker\":{\"size\":12,\"line\":{\"color\":\"rgba(217, 217, 217, 0.14)\",\"width\":0.5},\"opacity\":0.8},\"type\":\"scatter3d\"},{\"x\":[1.6,1.2,7.3,9.2,9.8,7.3,1.2,3.3],\"y\":[7.8,3.7,1.2,0,6.8,2.7,9.4,0],\"z\":[5.8,0,8.7,0,7.7,0,4.7,7.3],\"mode\":\"markers\",\"marker\":{\"size\":12,\"line\":{\"color\":\"rgba(217, 217, 217, 0.14)\",\"width\":0.5},\"opacity\":0.8},\"type\":\"scatter3d\"}], {\"margin\":{\"l\":0,\"r\":0,\"b\":0,\"t\":0}});\n",
       "\t\t}if(window.Plotly){plot1580909250317();}else if(!window.require){\n",
       "\t\t\tvar head = document.head || document.getElementsByTagName('head')[0];\n",
       "\t\t\tvar s = document.createElement('script');\n",
       "\t\t\ts.src = 'https://cdn.plot.ly/plotly-latest.min.js';\n",
       "\t\t\ts.type = 'text/javascript';\n",
       "\t\t\ts.async = false;\n",
       "\t\t\ts.onreadystatechange = s.onload = plot1580909250317;\n",
       "\t\t\thead.appendChild(s);\n",
       "\t\t}else{\n",
       "\t\t\trequire(['https://cdn.plot.ly/plotly-latest.min.js'], function(Plotly){\n",
       "\t\t\t\twindow.Plotly = Plotly;\n",
       "\t\t\t\tplot1580909250317();\n",
       "\t\t\t});\n",
       "\t\t}\n",
       "\t\t</script>\n",
       "\t\t</div>\n",
       "\t"
      ]
     },
     "execution_count": 12,
     "metadata": {},
     "output_type": "execute_result"
    }
   ],
   "source": [
    "// Retrieve winner combination\n",
    "var winnerSet = (highestScore == highscoreMonteCarlo) ? resultsMonteCarlo : resultsGenetic;\n",
    "var winner = winnerSet[highestScore];\n",
    "\n",
    "// Generate empty traces\n",
    "/*var traces = ['rgba(217, 217, 217, 0.14)', 'rgba(217, 217, 217, 0.14)', 'rgba(217, 217, 217, 0.14)'].map(c => {\n",
    "    return {x: [], y: [], z: [],\n",
    "        mode: 'markers',\n",
    "        marker: {\n",
    "            size: 12,\n",
    "            line: {\n",
    "            color: c,\n",
    "            width: 0.5},\n",
    "            opacity: 0.8},\n",
    "        type: 'scatter3d'};\n",
    "});\n",
    "*/\n",
    "var traces = [];\n",
    "for(let i = 0; i < groups; i++) {\n",
    "    traces.push({x: [], y: [], z: [],\n",
    "        mode: 'markers',\n",
    "        marker: {\n",
    "            size: 12,\n",
    "            line: {\n",
    "                color: 'rgba(217, 217, 217, 0.14)',\n",
    "                width: 0.5\n",
    "            },\n",
    "            opacity: 0.8\n",
    "        },\n",
    "        type: 'scatter3d'\n",
    "    });\n",
    "}\n",
    "\n",
    "// Loop input data and build group traces\n",
    "Object.keys(input).forEach((member, index) => {\n",
    "    \n",
    "    // Retrieve member group \n",
    "    var group = winner.combination[index];\n",
    "    \n",
    "    traces[group-1].x.push(input[member][0]);\n",
    "    traces[group-1].y.push(input[member][1]);\n",
    "    traces[group-1].z.push(input[member][2]);    \n",
    "});\n",
    "\n",
    "// Print 3D Model with group traces and colors\n",
    "ds.Collection().plotly(traces,{margin: {l: 0, r: 0, b: 0, t: 0 }}).show();"
   ]
  },
  {
   "cell_type": "code",
   "execution_count": null,
   "metadata": {},
   "outputs": [],
   "source": []
  }
 ],
 "metadata": {
  "kernelspec": {
   "display_name": "Javascript (Node.js)",
   "language": "javascript",
   "name": "javascript"
  },
  "language_info": {
   "file_extension": ".js",
   "mimetype": "application/javascript",
   "name": "javascript",
   "version": "13.0.0"
  }
 },
 "nbformat": 4,
 "nbformat_minor": 2
}
