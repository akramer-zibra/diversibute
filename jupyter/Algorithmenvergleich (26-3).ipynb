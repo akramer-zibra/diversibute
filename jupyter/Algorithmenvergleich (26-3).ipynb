{
 "cells": [
  {
   "cell_type": "code",
   "execution_count": 1,
   "metadata": {},
   "outputs": [],
   "source": [
    "var ds = require('dstools');\n",
    "var input = require('../examples/data/3features/input-m.json'); \n",
    "var diversibute = require('../index');"
   ]
  },
  {
   "cell_type": "markdown",
   "metadata": {
    "scrolled": true
   },
   "source": [
    "#### Wie schneiden die beiden Algorithmen bei 100x Tests ab?  \n",
    "\n",
    "Gruppengröße: 26  \n",
    "Gruppenanzahl: 3"
   ]
  },
  {
   "cell_type": "code",
   "execution_count": 2,
   "metadata": {},
   "outputs": [],
   "source": [
    "var groups = 3;"
   ]
  },
  {
   "cell_type": "code",
   "execution_count": null,
   "metadata": {},
   "outputs": [],
   "source": [
    "// 100x runs of monte carlo\n",
    "var scoresMonteCarlo = [];\n",
    "var resultsMonteCarlo = {};\n",
    "\n",
    "// Initialize empty promise collection\n",
    "var runs = [];\n",
    "\n",
    "for(let run = 0; run < 100; run++) {\n",
    "    \n",
    "    // Calculate groups with monte carlo\n",
    "    runs.push(diversibute.monteCarlo(input, groups).then(result => {\n",
    "                \n",
    "        // Collect result and score\n",
    "        resultsMonteCarlo[result.score] = result;\n",
    "        scoresMonteCarlo.push(result.score);\n",
    "        \n",
    "        return;\n",
    "    }));\n",
    "}\n",
    "\n",
    "var highscoreMonteCarlo = undefined;\n",
    "\n",
    "// Run async tasks in a sequence\n",
    "runs.reduce((promiseChain, currentTask) => {    \n",
    "    return promiseChain.then(chainResults =>        \n",
    "             currentTask.then(currentResult =>            \n",
    "                  [ ...chainResults, currentResult ]        \n",
    "             )    \n",
    "        );\n",
    "    },Promise.resolve([])).then(arrayOfResults => {    \n",
    "\n",
    "        // Do something with all results\n",
    "        console.log(scoresMonteCarlo);\n",
    "\n",
    "        // Calculate highest score of this batch\n",
    "        highscoreMonteCarlo = Math.max(...scoresMonteCarlo);\n",
    "\n",
    "        console.log(highscoreMonteCarlo);\n",
    "    });"
   ]
  },
  {
   "cell_type": "code",
   "execution_count": 5,
   "metadata": {},
   "outputs": [
    {
     "name": "stdout",
     "output_type": "stream",
     "text": [
      "217.2464129550104\n",
      "217.2464129550104\n",
      "217.2464129550104\n",
      "217.2464129550104\n",
      "217.2464129550104\n",
      "217.2464129550104\n",
      "217.2464129550104\n",
      "217.2464129550104\n",
      "217.2464129550104\n",
      "217.2464129550104\n",
      "[ 217.2464129550104 ]\n",
      "217.2464129550104\n"
     ]
    }
   ],
   "source": [
    "// 100x runs of genetic\n",
    "var scoresGenetic = [];\n",
    "var resultsGenetic = {};\n",
    "var runs = [];\n",
    "\n",
    "// Run algorithm x times\n",
    "for(let run = 0; run < 100; run++) {\n",
    "    runs.push(diversibute.genetic(input, groups).then(result => {\n",
    "        \n",
    "        // Collect result and score\n",
    "        resultsGenetic[result.score] = result;\n",
    "        return scoresGenetic.push(result.score);\n",
    "    }));\n",
    "}\n",
    "\n",
    "var highscoreGenetic = undefined;\n",
    "\n",
    "// We must wait until all calculations are done\n",
    "Promise.all(runs).then(values => {\n",
    "    \n",
    "    console.log(scoresGenetic);\n",
    "\n",
    "    // Calculate highest score of this batch\n",
    "    highscoreGenetic = Math.max(...scoresGenetic);\n",
    "\n",
    "    console.log(highscoreGenetic);\n",
    "});"
   ]
  },
  {
   "cell_type": "markdown",
   "metadata": {},
   "source": [
    "## Vergleich Algorithmen"
   ]
  },
  {
   "cell_type": "code",
   "execution_count": null,
   "metadata": {},
   "outputs": [],
   "source": [
    "// Calculate overall hitrate\n",
    "\n",
    "// Highest score\n",
    "var highestScore = (highscoreMonteCarlo > highscoreGenetic) ? highscoreMonteCarlo : highscoreGenetic;\n",
    "\n",
    "var hitRateMonteCarlo = scoresMonteCarlo.map(v => v/highestScore);\n",
    "var hitRateGenetic = scoresGenetic.map(v => v/highestScore);"
   ]
  },
  {
   "cell_type": "code",
   "execution_count": null,
   "metadata": {},
   "outputs": [],
   "source": [
    "var trace1 = {\n",
    "  x: hitRateMonteCarlo,\n",
    "  type: \"histogram\",\n",
    "  opacity: 0.5,\n",
    "  marker: {\n",
    "     color: 'green',\n",
    "  },\n",
    "  name: 'Monte Carlo'\n",
    "};\n",
    "var trace2 = {\n",
    "  x: hitRateGenetic,\n",
    "  type: \"histogram\",\n",
    "  opacity: 0.6,\n",
    "  marker: {\n",
    "     color: 'red',\n",
    "  },\n",
    "  name: 'Genetic Algorithm'\n",
    "};\n",
    "\n",
    "var data = [trace1, trace2];\n",
    "var layout = {barmode: \"overlay\", xaxis: {title: 'Trefferquote'}, yaxis: {title: 'Häufigkeit'}};\n",
    "\n",
    "ds.Collection().plotly(data, layout).show();"
   ]
  },
  {
   "cell_type": "markdown",
   "metadata": {},
   "source": [
    "## Darstellung \"bestes\" Ergebnis"
   ]
  },
  {
   "cell_type": "code",
   "execution_count": null,
   "metadata": {},
   "outputs": [],
   "source": [
    "// Retrieve winner combination\n",
    "var winnerSet = (highestScore == highscoreMonteCarlo) ? resultsMonteCarlo : resultsGenetic;\n",
    "var winner = winnerSet[highestScore];\n",
    "\n",
    "// Generate empty traces\n",
    "/*var traces = ['rgba(217, 217, 217, 0.14)', 'rgba(217, 217, 217, 0.14)', 'rgba(217, 217, 217, 0.14)'].map(c => {\n",
    "    return {x: [], y: [], z: [],\n",
    "        mode: 'markers',\n",
    "        marker: {\n",
    "            size: 12,\n",
    "            line: {\n",
    "            color: c,\n",
    "            width: 0.5},\n",
    "            opacity: 0.8},\n",
    "        type: 'scatter3d'};\n",
    "});\n",
    "*/\n",
    "var traces = [];\n",
    "for(let i = 0; i < groups; i++) {\n",
    "    traces.push({x: [], y: [], z: [],\n",
    "        mode: 'markers',\n",
    "        marker: {\n",
    "            size: 12,\n",
    "            line: {\n",
    "                color: 'rgba(217, 217, 217, 0.14)',\n",
    "                width: 0.5\n",
    "            },\n",
    "            opacity: 0.8\n",
    "        },\n",
    "        type: 'scatter3d'\n",
    "    });\n",
    "}\n",
    "\n",
    "// Loop input data and build group traces\n",
    "Object.keys(input).forEach((member, index) => {\n",
    "    \n",
    "    // Retrieve member group \n",
    "    var group = winner.combination[index];\n",
    "    \n",
    "    traces[group-1].x.push(input[member][0]);\n",
    "    traces[group-1].y.push(input[member][1]);\n",
    "    traces[group-1].z.push(input[member][2]);    \n",
    "});\n",
    "\n",
    "// Print 3D Model with group traces and colors\n",
    "ds.Collection().plotly(traces,{margin: {l: 0, r: 0, b: 0, t: 0 }}).show();"
   ]
  },
  {
   "cell_type": "code",
   "execution_count": null,
   "metadata": {},
   "outputs": [],
   "source": []
  }
 ],
 "metadata": {
  "kernelspec": {
   "display_name": "Javascript (Node.js)",
   "language": "javascript",
   "name": "javascript"
  },
  "language_info": {
   "file_extension": ".js",
   "mimetype": "application/javascript",
   "name": "javascript",
   "version": "13.0.0"
  }
 },
 "nbformat": 4,
 "nbformat_minor": 2
}
