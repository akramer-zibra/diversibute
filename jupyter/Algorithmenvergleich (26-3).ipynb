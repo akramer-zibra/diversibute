{
 "cells": [
  {
   "cell_type": "code",
   "execution_count": 2,
   "metadata": {},
   "outputs": [],
   "source": [
    "var ds = require('dstools');\n",
    "var input = require('../examples/data/3features/input-m.json'); \n",
    "var diversibute = require('../index');"
   ]
  },
  {
   "cell_type": "markdown",
   "metadata": {
    "scrolled": true
   },
   "source": [
    "#### Wie schneiden die beiden Algorithmen bei 100x Tests ab?  \n",
    "\n",
    "Gruppengröße: 26  \n",
    "Gruppenanzahl: 3"
   ]
  },
  {
   "cell_type": "code",
   "execution_count": 10,
   "metadata": {},
   "outputs": [],
   "source": [
    "var groups = 5;"
   ]
  },
  {
   "cell_type": "code",
   "execution_count": 11,
   "metadata": {},
   "outputs": [
    {
     "name": "stdout",
     "output_type": "stream",
     "text": [
      "[\n",
      "  21.973638186555604,   26.1282288514046,  45.24326647573308,\n",
      "   37.59287231531427,  30.66717964323027, 36.082420549722684,\n",
      "   42.34404496023048, 26.855037532280036,  44.27576585485039,\n",
      "   32.06081368915922, 47.074441495648955, 22.197270250281946,\n",
      "   50.47745110383772, 43.128050337251224,  34.89423807392524,\n",
      "   35.71122253179824, 46.417508162425776,  36.97380077011019,\n",
      "  30.435639389603338,  44.87473951765567,  43.51626037123455,\n",
      "   21.18071380850232,  50.06500407651998, 47.031779775563365,\n",
      "   59.81901522829877,  37.67567151284936, 12.425120561704887,\n",
      "   41.96807963191284, 19.622204365574248,  37.68112099767312,\n",
      "   33.37862820017192,  23.96488986281304, 28.022036707030864,\n",
      "   36.45592709368607,  47.43087596331114, 53.833600823037486,\n",
      "   26.94505746266448,  32.71864140529544, 21.240370193266827,\n",
      "  40.216571642840606, 55.627472860294375, 25.806810377361415,\n",
      "   53.12856231131279,  37.25525124788406,  37.72642785390505,\n",
      "   51.99142453909873, 30.662270582115568,  32.32393055537494,\n",
      "   39.39188325075935, 36.426063489236384\n",
      "]\n",
      "59.81901522829877\n"
     ]
    }
   ],
   "source": [
    "// 100x runs of monte carlo\n",
    "var scoresMonteCarlo = [];\n",
    "var resultsMonteCarlo = {};\n",
    "\n",
    "// Initialize empty promise collection\n",
    "var runs = [];\n",
    "\n",
    "for(let run = 0; run < 50; run++) {\n",
    "    \n",
    "    // Calculate groups with monte carlo\n",
    "    runs.push(diversibute.monteCarlo(input, groups).then(result => {\n",
    "                \n",
    "        // Collect result and score\n",
    "        resultsMonteCarlo[result.score] = result;\n",
    "        scoresMonteCarlo.push(result.score);\n",
    "        \n",
    "        return;\n",
    "    }));\n",
    "}\n",
    "\n",
    "var highscoreMonteCarlo = undefined;\n",
    "\n",
    "// Run async tasks in a sequence\n",
    "runs.reduce((promiseChain, currentTask) => {    \n",
    "    return promiseChain.then(chainResults =>        \n",
    "             currentTask.then(currentResult =>            \n",
    "                  [ ...chainResults, currentResult ]        \n",
    "             )    \n",
    "        );\n",
    "    },Promise.resolve([])).then(arrayOfResults => {    \n",
    "\n",
    "        // Do something with all results\n",
    "        console.log(scoresMonteCarlo);\n",
    "\n",
    "        // Calculate highest score of this batch\n",
    "        highscoreMonteCarlo = Math.max(...scoresMonteCarlo);\n",
    "\n",
    "        console.log(highscoreMonteCarlo);\n",
    "    });"
   ]
  },
  {
   "cell_type": "code",
   "execution_count": 12,
   "metadata": {},
   "outputs": [
    {
     "name": "stdout",
     "output_type": "stream",
     "text": [
      "[\n",
      "  79.60652258851074, 74.07697448758226, 73.97089936566469,\n",
      "  75.17844345854284,  73.8235332655006, 80.32534331132936,\n",
      "  79.90157687026816, 80.78200431797002, 69.85506609461359,\n",
      "  79.70249591248891, 72.06576545849227, 82.78752482673403,\n",
      "  81.23458800837787, 79.69889343534464,  81.1102385490328,\n",
      "  77.24056873318624,  77.9835795162515, 79.16834522172468,\n",
      "   77.2413705183193, 78.96165550563032, 75.28894133091093,\n",
      "   78.9649501608937, 74.04447359555463,  76.4455367860298,\n",
      "  72.13607625058513, 80.24434783760405, 78.77377681379285,\n",
      "  73.97726858893746, 77.08063641426776, 77.58908146958036,\n",
      "   76.9906182907458, 76.47223777817068, 77.21538557476057,\n",
      "  77.19972932474762, 81.81884431933915,   78.859219378982,\n",
      "  78.36438830890731, 76.63899147577918, 75.32709296888954,\n",
      "  80.63910126636364, 78.71560816117929,  78.3179448337145,\n",
      "  75.83287036733742, 77.60081961566061, 77.13292967781476,\n",
      "  79.28011428616847, 71.17373441801607, 78.90471474078092,\n",
      "  76.30343200379812, 77.21733401412543\n",
      "]\n",
      "82.78752482673403\n"
     ]
    }
   ],
   "source": [
    "// 100x runs of genetic\n",
    "var scoresGenetic = [];\n",
    "var resultsGenetic = {};\n",
    "var runs = [];\n",
    "\n",
    "// Run algorithm x times\n",
    "for(let run = 0; run < 50; run++) {\n",
    "    runs.push(diversibute.genetic(input, groups, {populationStartSize: 20, populationMaxSize: 100, evolutions: 1000}).then(result => {\n",
    "        \n",
    "        // Collect result and score\n",
    "        resultsGenetic[result.score] = result;\n",
    "        return scoresGenetic.push(result.score);\n",
    "    }));\n",
    "}\n",
    "\n",
    "var highscoreGenetic = undefined;\n",
    "\n",
    "// We must wait until all calculations are done\n",
    "Promise.all(runs).then(values => {\n",
    "    \n",
    "    console.log(scoresGenetic);\n",
    "\n",
    "    // Calculate highest score of this batch\n",
    "    highscoreGenetic = Math.max(...scoresGenetic);\n",
    "\n",
    "    console.log(highscoreGenetic);\n",
    "});"
   ]
  },
  {
   "cell_type": "markdown",
   "metadata": {},
   "source": [
    "## Vergleich Algorithmen"
   ]
  },
  {
   "cell_type": "code",
   "execution_count": 13,
   "metadata": {},
   "outputs": [],
   "source": [
    "// Calculate overall hitrate\n",
    "\n",
    "// Highest score\n",
    "var highestScore = (highscoreMonteCarlo > highscoreGenetic) ? highscoreMonteCarlo : highscoreGenetic;\n",
    "\n",
    "var hitRateMonteCarlo = scoresMonteCarlo.map(v => v/highestScore);\n",
    "var hitRateGenetic = scoresGenetic.map(v => v/highestScore);"
   ]
  },
  {
   "cell_type": "code",
   "execution_count": 14,
   "metadata": {},
   "outputs": [
    {
     "data": {
      "text/html": [
       "\n",
       "\t<div class=\"plotly-plot\">\n",
       "\t\t<div id=\"notebook-plot-1581186878262\"></div>\n",
       "\t\t<script>\n",
       "\t\tfunction plot1581186878262(){\n",
       "\t\t\tPlotly.plot('notebook-plot-1581186878262',[{\"x\":[0.26542209387880866,0.3156058706440174,0.5464986007302753,0.4540886129159239,0.37043237743142576,0.43584369293851416,0.5114785717878667,0.32438507599405747,0.5348120498531044,0.38726624278548344,0.5686175736522022,0.2681233712052462,0.609722916701302,0.5209486625855031,0.4214915006452406,0.4313599495399608,0.5606824006343101,0.44661077677455197,0.36763557617288445,0.5420471213697232,0.5256378960756432,0.2558442694455647,0.6047409217910671,0.5681022578461689,0.7225607403228198,0.4550887539119059,0.15008445520879402,0.5069372435007305,0.23701885527610048,0.45515457886361405,0.4031842752882156,0.28947465107779397,0.33848139276633976,0.4403553212876537,0.572922986435205,0.6502622337810655,0.32547243704963735,0.3952122191570804,0.2565648657538776,0.48578057777436695,0.6719306197004571,0.3117234200608422,0.6417459927991027,0.4500104493503769,0.455701845572297,0.6280103753302392,0.37037308031963295,0.39044446156622853,0.4758190721754588,0.4399945953870764],\"type\":\"histogram\",\"opacity\":0.5,\"marker\":{\"color\":\"green\"},\"name\":\"Monte Carlo\"},{\"x\":[0.9615763094152071,0.8947842642066897,0.8935029706526237,0.9080890341374956,0.8917229186402884,0.9702590273044427,0.9651403038983728,0.9757750879379308,0.8437873488887755,0.9627355821942766,0.8704906398556869,1,0.981241898201374,0.9626920674599998,0.9797398668312451,0.9329976816536427,0.9419725940528273,0.9562835147857853,0.9330073665081512,0.9537868860180218,0.9094237506011096,0.9538266825365223,0.89439168220722,0.9233943996516701,0.8713399319711357,0.9692806736950695,0.9515174777680387,0.8935799052304614,0.931065840844859,0.9372074069368123,0.9299785016145782,0.9237169239957275,0.9326934913969782,0.9325043777588339,0.9882991971384308,0.9525495483048494,0.9465724271007752,0.9257311610194517,0.9098845886085082,0.9740489456005984,0.9508148519468742,0.9460114310414051,0.9159939317674735,0.9373491933485308,0.9316974971681571,0.9576335861241628,0.8597156946892125,0.953099091993879,0.921677899701598,0.9327170268193614],\"type\":\"histogram\",\"opacity\":0.6,\"marker\":{\"color\":\"red\"},\"name\":\"Genetic Algorithm\"}], {\"barmode\":\"overlay\",\"xaxis\":{\"title\":\"Trefferquote\"},\"yaxis\":{\"title\":\"Häufigkeit\"}});\n",
       "\t\t}if(window.Plotly){plot1581186878262();}else if(!window.require){\n",
       "\t\t\tvar head = document.head || document.getElementsByTagName('head')[0];\n",
       "\t\t\tvar s = document.createElement('script');\n",
       "\t\t\ts.src = 'https://cdn.plot.ly/plotly-latest.min.js';\n",
       "\t\t\ts.type = 'text/javascript';\n",
       "\t\t\ts.async = false;\n",
       "\t\t\ts.onreadystatechange = s.onload = plot1581186878262;\n",
       "\t\t\thead.appendChild(s);\n",
       "\t\t}else{\n",
       "\t\t\trequire(['https://cdn.plot.ly/plotly-latest.min.js'], function(Plotly){\n",
       "\t\t\t\twindow.Plotly = Plotly;\n",
       "\t\t\t\tplot1581186878262();\n",
       "\t\t\t});\n",
       "\t\t}\n",
       "\t\t</script>\n",
       "\t\t</div>\n",
       "\t"
      ]
     },
     "execution_count": 14,
     "metadata": {},
     "output_type": "execute_result"
    }
   ],
   "source": [
    "var trace1 = {\n",
    "  x: hitRateMonteCarlo,\n",
    "  type: \"histogram\",\n",
    "  opacity: 0.5,\n",
    "  marker: {\n",
    "     color: 'green',\n",
    "  },\n",
    "  name: 'Monte Carlo'\n",
    "};\n",
    "var trace2 = {\n",
    "  x: hitRateGenetic,\n",
    "  type: \"histogram\",\n",
    "  opacity: 0.6,\n",
    "  marker: {\n",
    "     color: 'red',\n",
    "  },\n",
    "  name: 'Genetic Algorithm'\n",
    "};\n",
    "\n",
    "var data = [trace1, trace2];\n",
    "var layout = {barmode: \"overlay\", xaxis: {title: 'Trefferquote'}, yaxis: {title: 'Häufigkeit'}};\n",
    "\n",
    "ds.Collection().plotly(data, layout).show();"
   ]
  },
  {
   "cell_type": "markdown",
   "metadata": {},
   "source": [
    "## Darstellung \"bestes\" Ergebnis"
   ]
  },
  {
   "cell_type": "code",
   "execution_count": 15,
   "metadata": {},
   "outputs": [
    {
     "data": {
      "text/html": [
       "\n",
       "\t<div class=\"plotly-plot\">\n",
       "\t\t<div id=\"notebook-plot-1581186898449\"></div>\n",
       "\t\t<script>\n",
       "\t\tfunction plot1581186898449(){\n",
       "\t\t\tPlotly.plot('notebook-plot-1581186898449',[{\"x\":[6.6,1.2,2.7,1.5,7.3,3.3],\"y\":[1.2,4.1,3.6,1,2.7,0],\"z\":[2.3,1.4,5,1.2,0,7.3],\"mode\":\"markers\",\"marker\":{\"size\":12,\"line\":{\"color\":\"rgba(217, 217, 217, 0.14)\",\"width\":0.5},\"opacity\":0.8},\"type\":\"scatter3d\"},{\"x\":[6.6,0,3.2,7.3,9.2],\"y\":[3.6,1.2,7.4,1.2,0],\"z\":[0,1.5,5.5,8.7,0],\"mode\":\"markers\",\"marker\":{\"size\":12,\"line\":{\"color\":\"rgba(217, 217, 217, 0.14)\",\"width\":0.5},\"opacity\":0.8},\"type\":\"scatter3d\"},{\"x\":[8.6,9,1.4,1.8,0],\"y\":[1.3,2.9,7.8,1.4,3],\"z\":[6.2,0,7.7,6.9,1.8],\"mode\":\"markers\",\"marker\":{\"size\":12,\"line\":{\"color\":\"rgba(217, 217, 217, 0.14)\",\"width\":0.5},\"opacity\":0.8},\"type\":\"scatter3d\"},{\"x\":[1.6,1.2,7.9,8.1,9.8],\"y\":[7.8,3.7,0,0,6.8],\"z\":[5.8,0,1.6,2.6,7.7],\"mode\":\"markers\",\"marker\":{\"size\":12,\"line\":{\"color\":\"rgba(217, 217, 217, 0.14)\",\"width\":0.5},\"opacity\":0.8},\"type\":\"scatter3d\"},{\"x\":[1.6,8.7,6.4,1.2,4.7],\"y\":[0,4.1,1.3,9.4,4.8],\"z\":[2.4,8.3,0,4.7,8.6],\"mode\":\"markers\",\"marker\":{\"size\":12,\"line\":{\"color\":\"rgba(217, 217, 217, 0.14)\",\"width\":0.5},\"opacity\":0.8},\"type\":\"scatter3d\"}], {\"margin\":{\"l\":0,\"r\":0,\"b\":0,\"t\":0}});\n",
       "\t\t}if(window.Plotly){plot1581186898449();}else if(!window.require){\n",
       "\t\t\tvar head = document.head || document.getElementsByTagName('head')[0];\n",
       "\t\t\tvar s = document.createElement('script');\n",
       "\t\t\ts.src = 'https://cdn.plot.ly/plotly-latest.min.js';\n",
       "\t\t\ts.type = 'text/javascript';\n",
       "\t\t\ts.async = false;\n",
       "\t\t\ts.onreadystatechange = s.onload = plot1581186898449;\n",
       "\t\t\thead.appendChild(s);\n",
       "\t\t}else{\n",
       "\t\t\trequire(['https://cdn.plot.ly/plotly-latest.min.js'], function(Plotly){\n",
       "\t\t\t\twindow.Plotly = Plotly;\n",
       "\t\t\t\tplot1581186898449();\n",
       "\t\t\t});\n",
       "\t\t}\n",
       "\t\t</script>\n",
       "\t\t</div>\n",
       "\t"
      ]
     },
     "execution_count": 15,
     "metadata": {},
     "output_type": "execute_result"
    }
   ],
   "source": [
    "// Retrieve winner combination\n",
    "var winnerSet = (highestScore == highscoreMonteCarlo) ? resultsMonteCarlo : resultsGenetic;\n",
    "var winner = winnerSet[highestScore];\n",
    "\n",
    "// Generate empty traces\n",
    "/*var traces = ['rgba(217, 217, 217, 0.14)', 'rgba(217, 217, 217, 0.14)', 'rgba(217, 217, 217, 0.14)'].map(c => {\n",
    "    return {x: [], y: [], z: [],\n",
    "        mode: 'markers',\n",
    "        marker: {\n",
    "            size: 12,\n",
    "            line: {\n",
    "            color: c,\n",
    "            width: 0.5},\n",
    "            opacity: 0.8},\n",
    "        type: 'scatter3d'};\n",
    "});\n",
    "*/\n",
    "var traces = [];\n",
    "for(let i = 0; i < groups; i++) {\n",
    "    traces.push({x: [], y: [], z: [],\n",
    "        mode: 'markers',\n",
    "        marker: {\n",
    "            size: 12,\n",
    "            line: {\n",
    "                color: 'rgba(217, 217, 217, 0.14)',\n",
    "                width: 0.5\n",
    "            },\n",
    "            opacity: 0.8\n",
    "        },\n",
    "        type: 'scatter3d'\n",
    "    });\n",
    "}\n",
    "\n",
    "// Loop input data and build group traces\n",
    "Object.keys(input).forEach((member, index) => {\n",
    "    \n",
    "    // Retrieve member group \n",
    "    var group = winner.combination[index];\n",
    "    \n",
    "    traces[group-1].x.push(input[member][0]);\n",
    "    traces[group-1].y.push(input[member][1]);\n",
    "    traces[group-1].z.push(input[member][2]);    \n",
    "});\n",
    "\n",
    "// Print 3D Model with group traces and colors\n",
    "ds.Collection().plotly(traces,{margin: {l: 0, r: 0, b: 0, t: 0 }}).show();"
   ]
  },
  {
   "cell_type": "code",
   "execution_count": null,
   "metadata": {},
   "outputs": [],
   "source": []
  }
 ],
 "metadata": {
  "kernelspec": {
   "display_name": "Javascript (Node.js)",
   "language": "javascript",
   "name": "javascript"
  },
  "language_info": {
   "file_extension": ".js",
   "mimetype": "application/javascript",
   "name": "javascript",
   "version": "13.0.0"
  }
 },
 "nbformat": 4,
 "nbformat_minor": 2
}
