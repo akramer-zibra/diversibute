{
 "cells": [
  {
   "cell_type": "code",
   "execution_count": 1,
   "metadata": {},
   "outputs": [],
   "source": [
    "var ds = require('dstools');\n",
    "var input = require('../examples/data/3features/input-m.json'); \n",
    "var kreativesFeld = require('../index');"
   ]
  },
  {
   "cell_type": "markdown",
   "metadata": {
    "scrolled": true
   },
   "source": [
    "#### Wie schneiden die beiden Algorithmen bei 100x Tests ab?  \n",
    "\n",
    "Gruppengröße: 26  \n",
    "Gruppenanzahl: 3"
   ]
  },
  {
   "cell_type": "code",
   "execution_count": 2,
   "metadata": {},
   "outputs": [],
   "source": [
    "var groups = 3;"
   ]
  },
  {
   "cell_type": "code",
   "execution_count": 16,
   "metadata": {},
   "outputs": [
    {
     "name": "stdout",
     "output_type": "stream",
     "text": [
      "{\n",
      "  combination: [\n",
      "    3, 8, 6, 7, 8, 2, 3, 2,\n",
      "    4, 2, 1, 7, 4, 5, 4, 3,\n",
      "    1, 1, 7, 8, 5, 2, 7, 4,\n",
      "    5, 5\n",
      "  ],\n",
      "  score: -Infinity\n",
      "}\n"
     ]
    }
   ],
   "source": [
    "console.log(kreativesFeld.kmeans(input, groups));"
   ]
  }
 ],
 "metadata": {
  "kernelspec": {
   "display_name": "Javascript (Node.js)",
   "language": "javascript",
   "name": "javascript"
  },
  "language_info": {
   "file_extension": ".js",
   "mimetype": "application/javascript",
   "name": "javascript",
   "version": "13.0.0"
  }
 },
 "nbformat": 4,
 "nbformat_minor": 2
}
