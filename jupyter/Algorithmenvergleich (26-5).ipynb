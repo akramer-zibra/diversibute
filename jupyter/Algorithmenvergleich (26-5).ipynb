{
 "cells": [
  {
   "cell_type": "code",
   "execution_count": 1,
   "metadata": {},
   "outputs": [],
   "source": [
    "var ds = require('dstools');\n",
    "var input = require('../examples/data/3features/input-m.json'); \n",
    "var kreativesFeld = require('../index');"
   ]
  },
  {
   "cell_type": "markdown",
   "metadata": {
    "scrolled": true
   },
   "source": [
    "#### Wie schneiden die beiden Algorithmen bei 100x Tests ab?  \n",
    "\n",
    "Gruppengröße: 26  \n",
    "Gruppenanzahl: 5"
   ]
  },
  {
   "cell_type": "code",
   "execution_count": 2,
   "metadata": {},
   "outputs": [],
   "source": [
    "var groups = 5;"
   ]
  },
  {
   "cell_type": "code",
   "execution_count": 5,
   "metadata": {},
   "outputs": [
    {
     "name": "stdout",
     "output_type": "stream",
     "text": [
      "[\n",
      "    35.4741877565865, 16.700402491362027, 49.989476981764994,  35.21243541232937,\n",
      "  50.066924721417834, 36.019664540978354,  53.01492615213546, 28.566635468039095,\n",
      "   26.97938700589222, 1.4537387084258313, 27.615126456268555,  23.36006539187278,\n",
      "   40.54570398518234,  39.71415232114636, 33.820209857981254,  32.84755687030099,\n",
      "  10.084540814943722, 21.406968766768728, 15.146104188727378, 20.454143628221004,\n",
      "   55.96564447126114,  25.59539192222752,  45.32327349922939, 31.216138083187005,\n",
      "   59.27548085518988, 17.697284846714822,  25.94322316534904,  37.33434843449868,\n",
      "   35.02339583124758, 10.463788913028665, 34.233304765695095,  32.03377096877078,\n",
      "  41.745231973013915, 26.203977945135378, 27.739094996332668,  19.90350123238713,\n",
      "  19.235988939420167,  40.73402236190613, 40.226363818019095,  42.18100830137344,\n",
      "   23.75691027806333,  38.73261445524189,  42.67088784075841,  34.37669852016698,\n",
      "   59.90036448275124,  37.12726303724277, 41.020745583162466,  14.63184556401535,\n",
      "   42.80410925419979,  58.35588198841555, 2.9869465730457136, 38.457023108654454,\n",
      "   6.745964253639045,  29.19611897419935,   40.0232345152686, 44.827266399751565,\n",
      "   36.37063872459211,  39.93816646634377, 31.984112846625038, 14.217876044813835,\n",
      "   24.97874857899029, 45.825381111955295,  23.28890963474926,   15.9633552163791,\n",
      "   21.32066508230966, 22.343067415159737,   9.59533431518149, 35.754873637707874,\n",
      "   35.03287534582019, 49.413855593308185, 57.688508159644655,  34.91033473735273,\n",
      "  27.499710065967676,  48.93453937870976, 19.999018075594634, 28.622554449086593,\n",
      "   39.80425930742459,  42.17055639296491,  29.50005634060291,  34.82267233244721,\n",
      "  40.636059156568436, 28.499530799223933,  44.03034223897393,   46.7514525282579,\n",
      "  12.332887647386173,  33.75976854667496,  49.81043394356348, 31.762184609053932,\n",
      "   49.77629372383525,   47.3082216862568, 50.221954320865166,  40.97299644778681,\n",
      "   52.52494592492722,  33.71274298382994,  37.54103569055171,  58.16924768028504,\n",
      "   57.88388977263665,  45.39949209764009, 30.997963762157383,  47.13655984427079\n",
      "]\n",
      "59.90036448275124\n"
     ]
    }
   ],
   "source": [
    "// 100x runs of monte carlo\n",
    "var scoresMonteCarlo = [];\n",
    "var resultsMonteCarlo = {};\n",
    "\n",
    "// Initialize empty promise collection\n",
    "var runs = [];\n",
    "\n",
    "for(let run = 0; run < 100; run++) {\n",
    "    \n",
    "    // Calculate groups with monte carlo\n",
    "    runs.push(kreativesFeld.monteCarlo(input, groups).then(result => {\n",
    "                \n",
    "        // Collect result and score\n",
    "        resultsMonteCarlo[result.score] = result;\n",
    "        scoresMonteCarlo.push(result.score);\n",
    "        \n",
    "        return;\n",
    "    }));\n",
    "}\n",
    "\n",
    "// Run async tasks in a sequence\n",
    "runs.reduce((promiseChain, currentTask) => {    \n",
    "    return promiseChain.then(chainResults =>        \n",
    "             currentTask.then(currentResult =>            \n",
    "                  [ ...chainResults, currentResult ]        \n",
    "             )    \n",
    "        );\n",
    "    },Promise.resolve([])).then(arrayOfResults => {    \n",
    "\n",
    "        // Do something with all results\n",
    "        console.log(scoresMonteCarlo);\n",
    "\n",
    "        // Calculate highest score of this batch\n",
    "        var highscoreMonteCarlo = Math.max(...scoresMonteCarlo);\n",
    "\n",
    "        console.log(highscoreMonteCarlo);\n",
    "    });"
   ]
  },
  {
   "cell_type": "code",
   "execution_count": 6,
   "metadata": {},
   "outputs": [
    {
     "name": "stdout",
     "output_type": "stream",
     "text": [
      "[\n",
      "   12.719520243471749,  36.08651921029107, 29.931463874836325,\n",
      "    44.53570947218742, 24.360158401970423, 12.303508916191447,\n",
      "   12.470665008084055, 60.650426400547374, 36.358625713443914,\n",
      "    39.53163344635523,  43.13770889084569, 1.3369385952599657,\n",
      "    35.10955688739223, 19.722907370769818,   5.41237913130837,\n",
      "    6.713029438234997,  37.40425982037047, 15.454294272558428,\n",
      "    32.22639371733955,  38.94231922651336,  45.77950460067113,\n",
      "   25.527918133505565, 37.357655897282555,  6.749132343631061,\n",
      "   22.293927682179586,  31.70144371307859,  49.72837136801763,\n",
      "    50.61005989542048,  39.98524669310207,  52.76205708917065,\n",
      "   28.399510456278662,  36.69469706282494, 37.505360363540674,\n",
      "   13.941720409820036,   33.8863966482393,  8.068285358697523,\n",
      "   16.011720959976728, 24.197484584677937,  24.03774849438092,\n",
      "    23.80529812654015, 43.279882205004924, 36.510122055111395,\n",
      "    44.13856277824863, 33.770235121395885,  29.97696752340204,\n",
      "   26.139096247176894,  53.91864805661302, 43.778102588191985,\n",
      "   19.062662551297933,  49.97040399224727, 30.485597884766335,\n",
      "   28.075246245389422, 15.144105462726571, 5.4092512531619406,\n",
      "  0.09593806260882332, 22.286511947039784, 27.361640097268975,\n",
      "    23.49744175890376,  52.11408628718415, 16.584419651959266,\n",
      "   22.078298724857518,  43.00758271776634, -4.919099580683863,\n",
      "   11.281205299819959,  40.81972217938055, 18.595127275312237,\n",
      "    33.10271722542193,  23.38352048937641, 17.706258043685295,\n",
      "   14.641027272953892, 30.773860240234896,  38.83991328008706,\n",
      "    20.26286571009669,  28.86976466391556,   5.39985577970144,\n",
      "  -19.735468320765136, 33.075339427527524,  25.47003460975843,\n",
      "   26.969109306270596,  31.43775916486284,  23.76076482648631,\n",
      "   36.559638887898174, 10.584405939482892, 47.879647037293026,\n",
      "    36.63180120996434,  22.32397226293388,  9.565949290415702,\n",
      "    44.87202537747987, 46.967764649033725, 29.169184755942354,\n",
      "    62.18840047773136, 23.136246352301256, 38.272295131282576,\n",
      "   17.979716377076898,  45.16241083003629, 59.089443729622204,\n",
      "   43.699044641802274, 15.746721987576933,  38.03680474426655,\n",
      "    20.32563192703168\n",
      "]\n",
      "62.18840047773136\n"
     ]
    }
   ],
   "source": [
    "// 100x runs of genetic\n",
    "var scoresGenetic = [];\n",
    "var resultsGenetic = {};\n",
    "var runs = [];\n",
    "\n",
    "// Run algorithm x times\n",
    "for(let run = 0; run < 100; run++) {\n",
    "    runs.push(kreativesFeld.genetic(input, groups).then(result => {\n",
    "        \n",
    "        // Collect result and score\n",
    "        resultsGenetic[result.score] = result;\n",
    "        return scoresGenetic.push(result.score);\n",
    "    }));\n",
    "}\n",
    "\n",
    "var highscoreGenetic = undefined;\n",
    "\n",
    "// We must wait until all calculations are done\n",
    "Promise.all(runs).then(values => {\n",
    "    \n",
    "    console.log(scoresGenetic);\n",
    "\n",
    "    // Calculate highest score of this batch\n",
    "    highscoreGenetic = Math.max(...scoresGenetic);\n",
    "\n",
    "    console.log(highscoreGenetic);\n",
    "});"
   ]
  },
  {
   "cell_type": "markdown",
   "metadata": {},
   "source": [
    "## Vergleich Algorithmen"
   ]
  },
  {
   "cell_type": "code",
   "execution_count": 7,
   "metadata": {},
   "outputs": [],
   "source": [
    "// Calculate overall hitrate\n",
    "\n",
    "// Highest score\n",
    "var highestScore = (highscoreMonteCarlo > highscoreGenetic) ? highscoreMonteCarlo : highscoreGenetic;\n",
    "\n",
    "var hitRateMonteCarlo = scoresMonteCarlo.map(v => v/highestScore);\n",
    "var hitRateGenetic = scoresGenetic.map(v => v/highestScore);"
   ]
  },
  {
   "cell_type": "code",
   "execution_count": 8,
   "metadata": {},
   "outputs": [
    {
     "data": {
      "text/html": [
       "\n",
       "\t<div class=\"plotly-plot\">\n",
       "\t\t<div id=\"notebook-plot-1580057698530\"></div>\n",
       "\t\t<script>\n",
       "\t\tfunction plot1580057698530(){\n",
       "\t\t\tPlotly.plot('notebook-plot-1580057698530',[{\"x\":[0.5704309402408447,0.2685452972430472,0.8038392465113393,0.5662219182649401,0.8050846192666745,0.5792022992113521,0.8524889809815775,0.45935633090078165,0.4338331071170273,0.02337636435827596,0.44405590502616443,0.3756338032884064,0.6519817791374307,0.638610287707389,0.5438346958303215,0.5281942712461813,0.1621611222908817,0.3442276791543177,0.2435519175983783,0.3289060897384761,0.8999370307216941,0.41157823204333427,0.728805905137549,0.5019607811647284,0.9531597596953061,0.2845753341582073,0.41717141727481605,0.6003426386222539,0.5631821298216036,0.16825949586491737,0.5504773318290036,0.5151084562826398,0.6712703921041061,0.4213643982452739,0.4460493401219666,0.32005166686212233,0.309317956269164,0.6550099704926855,0.6468467352271504,0.6782777491837527,0.38201513619200234,0.6228269927783622,0.6861550950492472,0.5527831276586171,0.9632079941371152,0.597012670402054,0.659620528395023,0.2352825519166516,0.6882973179142504,0.9383724543504189,0.04803060619182977,0.618395437303863,0.1084762464031321,0.46947853216861557,0.6435803816758441,0.7208300270691713,0.5848460234576356,0.6422124730582992,0.5143099452779465,0.2286258520172909,0.4016625027674537,0.7368798804909704,0.37448960667654785,0.2566934523761439,0.3428399013083515,0.35928030377884407,0.154294599016378,0.5749444166924843,0.5633345620195663,0.7945831572079501,0.9276409702851572,0.5613640883053993,0.4421999899453093,0.7868756713920051,0.3215875938593396,0.4602555175757552,0.6400592232900062,0.6781096807284099,0.47436589643701144,0.5599544620048016,0.6534347055785674,0.45827727647423805,0.7080153517494064,0.7517712655272235,0.1983149197060049,0.5428627893197506,0.8009602041686178,0.5107413016745372,0.8004112236599383,0.7607242077756461,0.8075775214519115,0.6588527142205332,0.8446100160388518,0.542106610313959,0.6036662046645586,0.9353713431030355,0.9307827396744818,0.7300315130937786,0.4984525011743507,0.7579638563167357],\"type\":\"histogram\",\"opacity\":0.5,\"marker\":{\"color\":\"green\"},\"name\":\"Monte Carlo\"},{\"x\":[0.20453203725711513,0.5802773336036043,0.4813030025680478,0.7161417423516934,0.3917154680750053,0.197842504738438,0.20053040297361552,0.9752691166621223,0.5846528522061495,0.6356753533243045,0.6936616565060648,0.02149819877966955,0.5645676141801457,0.3171476870165243,0.0870319720354675,0.10794664899990188,0.6014668255338761,0.24850766628243406,0.5182058626653259,0.626199080975848,0.7361421784286607,0.410493242106246,0.600717426566707,0.10852718982614472,0.3584901285596286,0.5097645777918078,0.7996406240714382,0.8138183247459967,0.6429695310690636,0.8484228036716248,0.4566689324393873,0.5900569363568807,0.6030925393710798,0.22418522268975763,0.5448989906143905,0.1297393934675429,0.25747118171515376,0.38909964557365734,0.38653106221936745,0.3827932209812091,0.6959478274489908,0.5870889390085706,0.7097555563284493,0.5430310936118777,0.4820347089347682,0.4203210895661623,0.8670209820868507,0.7039592954938308,0.30653083862679437,0.8035325496133454,0.4902135711897386,0.45145470907299995,0.24351977774616385,0.08698167522573448,0.0015427002764474887,0.3583708822840719,0.4399798014915454,0.3778428385100177,0.8380033235594369,0.26668027356480845,0.3550227784482637,0.6915692056297,-0.07909995341406652,0.18140368964562084,0.6563880380553833,0.29901279229670563,0.5322972929216191,0.37601096522412825,0.2847196246834747,0.23543019534963922,0.4948488786305817,0.6245523760334533,0.32583030845683975,0.4642306996503849,0.08683059442307153,-0.317349669217366,0.5318570533000162,0.4095624652523235,0.4336678399684486,0.5055244856493806,0.382077117982712,0.5878851780564701,0.17019903805490208,0.7699128240874749,0.5890455604028854,0.3589732505007541,0.15382208284712373,0.7215497590028513,0.7552496010224946,0.4690454253826219,1,0.37203475526896634,0.6154249801775694,0.28911688094494625,0.7262192062040285,0.9501682512445573,0.7026880303417705,0.2532099534094879,0.6116382549167975,0.3268395998432208],\"type\":\"histogram\",\"opacity\":0.6,\"marker\":{\"color\":\"red\"},\"name\":\"Genetic Algorithm\"}], {\"barmode\":\"overlay\",\"xaxis\":{\"title\":\"Trefferquote\"},\"yaxis\":{\"title\":\"Häufigkeit\"}});\n",
       "\t\t}if(window.Plotly){plot1580057698530();}else if(!window.require){\n",
       "\t\t\tvar head = document.head || document.getElementsByTagName('head')[0];\n",
       "\t\t\tvar s = document.createElement('script');\n",
       "\t\t\ts.src = 'https://cdn.plot.ly/plotly-latest.min.js';\n",
       "\t\t\ts.type = 'text/javascript';\n",
       "\t\t\ts.async = false;\n",
       "\t\t\ts.onreadystatechange = s.onload = plot1580057698530;\n",
       "\t\t\thead.appendChild(s);\n",
       "\t\t}else{\n",
       "\t\t\trequire(['https://cdn.plot.ly/plotly-latest.min.js'], function(Plotly){\n",
       "\t\t\t\twindow.Plotly = Plotly;\n",
       "\t\t\t\tplot1580057698530();\n",
       "\t\t\t});\n",
       "\t\t}\n",
       "\t\t</script>\n",
       "\t\t</div>\n",
       "\t"
      ]
     },
     "execution_count": 8,
     "metadata": {},
     "output_type": "execute_result"
    }
   ],
   "source": [
    "var trace1 = {\n",
    "  x: hitRateMonteCarlo,\n",
    "  type: \"histogram\",\n",
    "  opacity: 0.5,\n",
    "  marker: {\n",
    "     color: 'green',\n",
    "  },\n",
    "  name: 'Monte Carlo'\n",
    "};\n",
    "var trace2 = {\n",
    "  x: hitRateGenetic,\n",
    "  type: \"histogram\",\n",
    "  opacity: 0.6,\n",
    "  marker: {\n",
    "     color: 'red',\n",
    "  },\n",
    "  name: 'Genetic Algorithm'\n",
    "};\n",
    "\n",
    "var data = [trace1, trace2];\n",
    "var layout = {barmode: \"overlay\", xaxis: {title: 'Trefferquote'}, yaxis: {title: 'Häufigkeit'}};\n",
    "\n",
    "ds.Collection().plotly(data, layout).show();"
   ]
  },
  {
   "cell_type": "markdown",
   "metadata": {},
   "source": [
    "## Darstellung \"bestes\" Ergebnis"
   ]
  },
  {
   "cell_type": "code",
   "execution_count": 9,
   "metadata": {},
   "outputs": [
    {
     "data": {
      "text/html": [
       "\n",
       "\t<div class=\"plotly-plot\">\n",
       "\t\t<div id=\"notebook-plot-1580057708245\"></div>\n",
       "\t\t<script>\n",
       "\t\tfunction plot1580057708245(){\n",
       "\t\t\tPlotly.plot('notebook-plot-1580057708245',[{\"x\":[1.2,2.7,7.9,1.5,8.1,7.3],\"y\":[4.1,3.6,0,1,0,2.7],\"z\":[1.4,5,1.6,1.2,2.6,0],\"mode\":\"markers\",\"marker\":{\"size\":12,\"line\":{\"color\":\"rgba(217, 217, 217, 0.14)\",\"width\":0.5},\"opacity\":0.8},\"type\":\"scatter3d\"},{\"x\":[8.6,1.2,9.8,1.8,0],\"y\":[1.3,3.7,6.8,1.4,3],\"z\":[6.2,0,7.7,6.9,1.8],\"mode\":\"markers\",\"marker\":{\"size\":12,\"line\":{\"color\":\"rgba(217, 217, 217, 0.14)\",\"width\":0.5},\"opacity\":0.8},\"type\":\"scatter3d\"},{\"x\":[6.6,0,6.4,1.2,4.7],\"y\":[3.6,1.2,1.3,9.4,4.8],\"z\":[0,1.5,0,4.7,8.6],\"mode\":\"markers\",\"marker\":{\"size\":12,\"line\":{\"color\":\"rgba(217, 217, 217, 0.14)\",\"width\":0.5},\"opacity\":0.8},\"type\":\"scatter3d\"},{\"x\":[1.6,8.7,1.6,9,3.3],\"y\":[0,4.1,7.8,2.9,0],\"z\":[2.4,8.3,5.8,0,7.3],\"mode\":\"markers\",\"marker\":{\"size\":12,\"line\":{\"color\":\"rgba(217, 217, 217, 0.14)\",\"width\":0.5},\"opacity\":0.8},\"type\":\"scatter3d\"},{\"x\":[6.6,3.2,7.3,1.4,9.2],\"y\":[1.2,7.4,1.2,7.8,0],\"z\":[2.3,5.5,8.7,7.7,0],\"mode\":\"markers\",\"marker\":{\"size\":12,\"line\":{\"color\":\"rgba(217, 217, 217, 0.14)\",\"width\":0.5},\"opacity\":0.8},\"type\":\"scatter3d\"}], {\"margin\":{\"l\":0,\"r\":0,\"b\":0,\"t\":0}});\n",
       "\t\t}if(window.Plotly){plot1580057708245();}else if(!window.require){\n",
       "\t\t\tvar head = document.head || document.getElementsByTagName('head')[0];\n",
       "\t\t\tvar s = document.createElement('script');\n",
       "\t\t\ts.src = 'https://cdn.plot.ly/plotly-latest.min.js';\n",
       "\t\t\ts.type = 'text/javascript';\n",
       "\t\t\ts.async = false;\n",
       "\t\t\ts.onreadystatechange = s.onload = plot1580057708245;\n",
       "\t\t\thead.appendChild(s);\n",
       "\t\t}else{\n",
       "\t\t\trequire(['https://cdn.plot.ly/plotly-latest.min.js'], function(Plotly){\n",
       "\t\t\t\twindow.Plotly = Plotly;\n",
       "\t\t\t\tplot1580057708245();\n",
       "\t\t\t});\n",
       "\t\t}\n",
       "\t\t</script>\n",
       "\t\t</div>\n",
       "\t"
      ]
     },
     "execution_count": 9,
     "metadata": {},
     "output_type": "execute_result"
    }
   ],
   "source": [
    "// Retrieve winner combination\n",
    "var winnerSet = (highestScore == highscoreMonteCarlo) ? resultsMonteCarlo : resultsGenetic;\n",
    "var winner = winnerSet[highestScore];\n",
    "\n",
    "// Generate empty traces\n",
    "/*var traces = ['rgba(217, 217, 217, 0.14)', 'rgba(217, 217, 217, 0.14)', 'rgba(217, 217, 217, 0.14)'].map(c => {\n",
    "    return {x: [], y: [], z: [],\n",
    "        mode: 'markers',\n",
    "        marker: {\n",
    "            size: 12,\n",
    "            line: {\n",
    "            color: c,\n",
    "            width: 0.5},\n",
    "            opacity: 0.8},\n",
    "        type: 'scatter3d'};\n",
    "});\n",
    "*/\n",
    "var traces = [];\n",
    "for(let i = 0; i < groups; i++) {\n",
    "    traces.push({x: [], y: [], z: [],\n",
    "        mode: 'markers',\n",
    "        marker: {\n",
    "            size: 12,\n",
    "            line: {\n",
    "                color: 'rgba(217, 217, 217, 0.14)',\n",
    "                width: 0.5\n",
    "            },\n",
    "            opacity: 0.8\n",
    "        },\n",
    "        type: 'scatter3d'\n",
    "    });\n",
    "}\n",
    "\n",
    "// Loop input data and build group traces\n",
    "Object.keys(input).forEach((member, index) => {\n",
    "    \n",
    "    // Retrieve member group \n",
    "    var group = winner.combination[index];\n",
    "    \n",
    "    traces[group-1].x.push(input[member][0]);\n",
    "    traces[group-1].y.push(input[member][1]);\n",
    "    traces[group-1].z.push(input[member][2]);    \n",
    "});\n",
    "\n",
    "// Print 3D Model with group traces and colors\n",
    "ds.Collection().plotly(traces,{margin: {l: 0, r: 0, b: 0, t: 0 }}).show();"
   ]
  },
  {
   "cell_type": "markdown",
   "metadata": {},
   "source": [
    "## Darstellung 2. Bestes Ergebnis"
   ]
  },
  {
   "cell_type": "code",
   "execution_count": 10,
   "metadata": {},
   "outputs": [
    {
     "name": "stdout",
     "output_type": "stream",
     "text": [
      "[\n",
      "  4, 2, 5, 3, 4, 1, 3, 1,\n",
      "  4, 2, 1, 4, 5, 5, 5, 1,\n",
      "  1, 5, 3, 2, 2, 2, 1, 3,\n",
      "  3, 4\n",
      "]\n"
     ]
    }
   ],
   "source": [
    "console.log(winner.combination);"
   ]
  },
  {
   "cell_type": "code",
   "execution_count": null,
   "metadata": {},
   "outputs": [],
   "source": []
  }
 ],
 "metadata": {
  "kernelspec": {
   "display_name": "Javascript (Node.js)",
   "language": "javascript",
   "name": "javascript"
  },
  "language_info": {
   "file_extension": ".js",
   "mimetype": "application/javascript",
   "name": "javascript",
   "version": "13.0.0"
  }
 },
 "nbformat": 4,
 "nbformat_minor": 2
}
