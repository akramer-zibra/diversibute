{
 "cells": [
  {
   "cell_type": "markdown",
   "metadata": {},
   "source": [
    "# Annealing"
   ]
  },
  {
   "cell_type": "markdown",
   "metadata": {},
   "source": [
    "## Medium size 3 Features"
   ]
  },
  {
   "cell_type": "code",
   "execution_count": 1,
   "metadata": {},
   "outputs": [],
   "source": [
    "var dataM = require('../examples/data/3features/input-m.json'); "
   ]
  },
  {
   "cell_type": "code",
   "execution_count": 4,
   "metadata": {},
   "outputs": [],
   "source": [
    "// Use genetic algorithm\n",
    "var diversibute = require('../index');\n",
    "var ds = require('dstools');\n",
    "\n",
    "// Gruppengröße\n",
    "var groups = 5;"
   ]
  },
  {
   "cell_type": "markdown",
   "metadata": {},
   "source": [
    "### 1000 Evolutionen, 20 PopStart, 100 PopMax"
   ]
  },
  {
   "cell_type": "code",
   "execution_count": 3,
   "metadata": {},
   "outputs": [
    {
     "name": "stdout",
     "output_type": "stream",
     "text": [
      "{\n",
      "  combination: [\n",
      "    1, 3, 3, 5, 4, 1, 1, 1,\n",
      "    4, 1, 3, 1, 2, 2, 3, 5,\n",
      "    5, 2, 4, 5, 5, 4, 2, 3,\n",
      "    4, 2\n",
      "  ],\n",
      "  score: 76.51725926841432,\n",
      "  settings: {\n",
      "    populationStartSize: 20,\n",
      "    populationMaxSize: 100,\n",
      "    evolutions: 1000,\n",
      "    elitism: 1,\n",
      "    steps: 100,\n",
      "    interceptor: [Function: interceptor]\n",
      "  }\n",
      "}\n"
     ]
    }
   ],
   "source": [
    "// Variablen\n",
    "var scoreLogM = [];\n",
    "var winner;\n",
    "\n",
    "// Settings\n",
    "var settings = {populationStartSize: 20, populationMaxSize: 100, evolutions: 1000, steps: 100, interceptor: (ga) => {\n",
    "    scoreLogM.push(ga.bestScore());\n",
    "}};\n",
    "\n",
    "// Berechnen\n",
    "diversibute.genetic(dataM, groups, settings).then(result => {\n",
    "    console.log(result);\n",
    "    winner = result;\n",
    "});"
   ]
  },
  {
   "cell_type": "code",
   "execution_count": 5,
   "metadata": {},
   "outputs": [
    {
     "data": {
      "text/html": [
       "\n",
       "\t<div class=\"plotly-plot\">\n",
       "\t\t<div id=\"notebook-plot-1581187454343\"></div>\n",
       "\t\t<script>\n",
       "\t\tfunction plot1581187454343(){\n",
       "\t\t\tPlotly.plot('notebook-plot-1581187454343',[{\"y\":[2.7007675828873516,38.25708275798226,38.25708275798226,48.58001427007164,48.58001427007164,54.54019509688726,63.88451111775353,66.14588338171403,66.14588338171403,66.46055574948825,68.30645252877288,68.7638711510099,68.7638711510099,69.0591955432664,70.25171233145326,73.43263344524479,73.43263344524479,73.43263344524479,73.43263344524479,73.43263344524479,73.43263344524479,73.63106251239363,73.63106251239363,73.63106251239363,73.63106251239363,73.63106251239363,73.63106251239363,74.00167677098516,74.00167677098516,74.00167677098516,74.00167677098516,74.00167677098516,74.00167677098516,74.84144103129479,74.84144103129479,74.84144103129479,74.84144103129479,74.84144103129479,76.51725926841432,76.51725926841432,76.51725926841432,76.51725926841432,76.51725926841432,76.51725926841432,76.51725926841432,76.51725926841432,76.51725926841432,76.51725926841432,76.51725926841432,76.51725926841432,76.51725926841432,76.51725926841432,76.51725926841432,76.51725926841432,76.51725926841432,76.51725926841432,76.51725926841432,76.51725926841432,76.51725926841432,76.51725926841432,76.51725926841432,76.51725926841432,76.51725926841432,76.51725926841432,76.51725926841432,76.51725926841432,76.51725926841432,76.51725926841432,76.51725926841432,76.51725926841432,76.51725926841432,76.51725926841432,76.51725926841432,76.51725926841432,76.51725926841432,76.51725926841432,76.51725926841432,76.51725926841432,76.51725926841432,76.51725926841432,76.51725926841432,76.51725926841432,76.51725926841432,76.51725926841432,76.51725926841432,76.51725926841432,76.51725926841432,76.51725926841432,76.51725926841432,76.51725926841432,76.51725926841432,76.51725926841432,76.51725926841432,76.51725926841432,76.51725926841432,76.51725926841432,76.51725926841432,76.51725926841432,76.51725926841432,76.51725926841432],\"type\":\"scatter\"}], {});\n",
       "\t\t}if(window.Plotly){plot1581187454343();}else if(!window.require){\n",
       "\t\t\tvar head = document.head || document.getElementsByTagName('head')[0];\n",
       "\t\t\tvar s = document.createElement('script');\n",
       "\t\t\ts.src = 'https://cdn.plot.ly/plotly-latest.min.js';\n",
       "\t\t\ts.type = 'text/javascript';\n",
       "\t\t\ts.async = false;\n",
       "\t\t\ts.onreadystatechange = s.onload = plot1581187454343;\n",
       "\t\t\thead.appendChild(s);\n",
       "\t\t}else{\n",
       "\t\t\trequire(['https://cdn.plot.ly/plotly-latest.min.js'], function(Plotly){\n",
       "\t\t\t\twindow.Plotly = Plotly;\n",
       "\t\t\t\tplot1581187454343();\n",
       "\t\t\t});\n",
       "\t\t}\n",
       "\t\t</script>\n",
       "\t\t</div>\n",
       "\t"
      ]
     },
     "execution_count": 5,
     "metadata": {},
     "output_type": "execute_result"
    }
   ],
   "source": [
    "var log = {\n",
    "  y: scoreLogM,\n",
    "  type: 'scatter'\n",
    "};\n",
    "\n",
    "ds.Collection().plotly([log],{}).show();"
   ]
  },
  {
   "cell_type": "markdown",
   "metadata": {},
   "source": [
    "### 1000 Evolutionen, 52 PopStart, 104 PopMax"
   ]
  },
  {
   "cell_type": "code",
   "execution_count": 24,
   "metadata": {},
   "outputs": [
    {
     "name": "stdout",
     "output_type": "stream",
     "text": [
      "{\n",
      "  combination: [\n",
      "    2, 4, 5, 1, 5, 3, 1, 1,\n",
      "    4, 4, 1, 2, 3, 3, 4, 1,\n",
      "    2, 3, 4, 2, 2, 1, 5, 5,\n",
      "    3, 5\n",
      "  ],\n",
      "  score: 78.80986316579823,\n",
      "  settings: {\n",
      "    populationStartSize: 52,\n",
      "    populationMaxSize: 104,\n",
      "    evolutions: 1000,\n",
      "    elitism: 1,\n",
      "    steps: 100,\n",
      "    interceptor: [Function: interceptor]\n",
      "  }\n",
      "}\n"
     ]
    }
   ],
   "source": [
    "// Variablen\n",
    "var scoreLogM_2 = [];\n",
    "var winner;\n",
    "\n",
    "// Settings\n",
    "var settings = {populationStartSize: 52, populationMaxSize: 104, evolutions: 1000, steps: 100, interceptor: (ga) => {\n",
    "    scoreLogM_2.push(ga.bestScore());\n",
    "}};\n",
    "\n",
    "// Berechnen\n",
    "diversibute.genetic(dataM, 5, settings).then(result => {\n",
    "    console.log(result);\n",
    "    winner = result;\n",
    "});"
   ]
  },
  {
   "cell_type": "code",
   "execution_count": 25,
   "metadata": {},
   "outputs": [
    {
     "data": {
      "text/html": [
       "\n",
       "\t<div class=\"plotly-plot\">\n",
       "\t\t<div id=\"notebook-plot-1581188190602\"></div>\n",
       "\t\t<script>\n",
       "\t\tfunction plot1581188190602(){\n",
       "\t\t\tPlotly.plot('notebook-plot-1581188190602',[{\"y\":[10.403462003153933,29.546288123237744,57.893527384337716,66.12358757405077,66.12358757405077,66.70529133715597,69.75712599854747,69.75712599854747,69.75712599854747,73.24480269448276,73.24480269448276,73.24480269448276,73.24480269448276,73.77670223528095,73.77670223528095,73.77670223528095,73.77670223528095,73.77670223528095,74.32356143262247,76.16961618888097,76.16961618888097,76.16961618888097,76.16961618888097,77.52844387538008,77.52844387538008,78.64883735102752,78.64883735102752,78.64883735102752,78.64883735102752,78.64883735102752,78.64883735102752,78.64883735102752,78.64883735102752,78.80986316579823,78.80986316579823,78.80986316579823,78.80986316579823,78.80986316579823,78.80986316579823,78.80986316579823,78.80986316579823,78.80986316579823,78.80986316579823,78.80986316579823,78.80986316579823,78.80986316579823,78.80986316579823,78.80986316579823,78.80986316579823,78.80986316579823,78.80986316579823,78.80986316579823,78.80986316579823,78.80986316579823,78.80986316579823,78.80986316579823,78.80986316579823,78.80986316579823,78.80986316579823,78.80986316579823,78.80986316579823,78.80986316579823,78.80986316579823,78.80986316579823,78.80986316579823,78.80986316579823,78.80986316579823,78.80986316579823,78.80986316579823,78.80986316579823,78.80986316579823,78.80986316579823,78.80986316579823,78.80986316579823,78.80986316579823,78.80986316579823,78.80986316579823,78.80986316579823,78.80986316579823,78.80986316579823,78.80986316579823,78.80986316579823,78.80986316579823,78.80986316579823,78.80986316579823,78.80986316579823,78.80986316579823,78.80986316579823,78.80986316579823,78.80986316579823,78.80986316579823,78.80986316579823,78.80986316579823,78.80986316579823,78.80986316579823,78.80986316579823,78.80986316579823,78.80986316579823,78.80986316579823,78.80986316579823],\"type\":\"scatter\"}], {});\n",
       "\t\t}if(window.Plotly){plot1581188190602();}else if(!window.require){\n",
       "\t\t\tvar head = document.head || document.getElementsByTagName('head')[0];\n",
       "\t\t\tvar s = document.createElement('script');\n",
       "\t\t\ts.src = 'https://cdn.plot.ly/plotly-latest.min.js';\n",
       "\t\t\ts.type = 'text/javascript';\n",
       "\t\t\ts.async = false;\n",
       "\t\t\ts.onreadystatechange = s.onload = plot1581188190602;\n",
       "\t\t\thead.appendChild(s);\n",
       "\t\t}else{\n",
       "\t\t\trequire(['https://cdn.plot.ly/plotly-latest.min.js'], function(Plotly){\n",
       "\t\t\t\twindow.Plotly = Plotly;\n",
       "\t\t\t\tplot1581188190602();\n",
       "\t\t\t});\n",
       "\t\t}\n",
       "\t\t</script>\n",
       "\t\t</div>\n",
       "\t"
      ]
     },
     "execution_count": 25,
     "metadata": {},
     "output_type": "execute_result"
    }
   ],
   "source": [
    "var log = {\n",
    "  y: scoreLogM_2,\n",
    "  type: 'scatter'\n",
    "};\n",
    "\n",
    "ds.Collection().plotly([log],{}).show();"
   ]
  },
  {
   "cell_type": "markdown",
   "metadata": {},
   "source": [
    "## Large size 3 Features"
   ]
  },
  {
   "cell_type": "code",
   "execution_count": 10,
   "metadata": {},
   "outputs": [],
   "source": [
    "var dataL = require('../examples/data/3features/input-l.json'); \n",
    "\n",
    "// Gruppengröße\n",
    "var groupsL = 7;"
   ]
  },
  {
   "cell_type": "markdown",
   "metadata": {},
   "source": [
    "### 1000 Evolutionen, 20 PopStart, 100 PopMax"
   ]
  },
  {
   "cell_type": "code",
   "execution_count": 11,
   "metadata": {},
   "outputs": [
    {
     "name": "stdout",
     "output_type": "stream",
     "text": [
      "{\n",
      "  combination: [\n",
      "    4, 1, 4, 4, 1, 1, 3, 3, 6, 7,\n",
      "    2, 3, 2, 3, 6, 6, 3, 5, 7, 2,\n",
      "    5, 5, 7, 1, 2, 2, 5, 7, 1, 3,\n",
      "    5, 1, 4, 6, 2, 7, 6, 5, 6, 4,\n",
      "    4, 1, 7\n",
      "  ],\n",
      "  score: 97.86160114421654,\n",
      "  settings: {\n",
      "    populationStartSize: 20,\n",
      "    populationMaxSize: 100,\n",
      "    evolutions: 1000,\n",
      "    elitism: 1,\n",
      "    steps: 100,\n",
      "    interceptor: [Function: interceptor]\n",
      "  }\n",
      "}\n"
     ]
    }
   ],
   "source": [
    "// Variablen\n",
    "var scoreLogL = [];\n",
    "var winnerL;\n",
    "\n",
    "// Settings\n",
    "var settings = {populationStartSize: 20, populationMaxSize: 100, evolutions: 1000, steps: 100, interceptor: (ga) => {\n",
    "    scoreLogL.push(ga.bestScore());\n",
    "}};\n",
    "\n",
    "// Berechnen\n",
    "diversibute.genetic(dataL, groupsL, settings).then(result => {\n",
    "    console.log(result);\n",
    "    winnerL = result;\n",
    "});"
   ]
  },
  {
   "cell_type": "code",
   "execution_count": 12,
   "metadata": {},
   "outputs": [
    {
     "data": {
      "text/html": [
       "\n",
       "\t<div class=\"plotly-plot\">\n",
       "\t\t<div id=\"notebook-plot-1581187636383\"></div>\n",
       "\t\t<script>\n",
       "\t\tfunction plot1581187636383(){\n",
       "\t\t\tPlotly.plot('notebook-plot-1581187636383',[{\"y\":[-37.6169918541857,-24.57643291108309,16.992821521740368,20.386147756815618,20.386147756815618,43.956538002080634,45.90969663996931,65.48159590717317,65.48159590717317,65.48159590717317,75.39782507027861,75.42424439997576,75.42424439997576,75.42424439997576,79.93026314000079,84.8547462318956,84.8547462318956,84.8547462318956,84.8547462318956,88.69355434517904,88.69355434517904,88.69355434517904,88.69355434517904,88.69355434517904,88.69355434517904,90.46023801378203,90.46023801378203,90.46023801378203,90.46023801378203,90.46023801378203,92.64167102666391,92.64167102666391,92.64167102666391,92.64167102666391,94.77447276518524,94.77447276518524,94.77447276518524,94.77447276518524,94.77447276518524,95.06155407901575,95.06155407901575,95.06155407901575,95.06155407901575,95.06155407901575,96.22075980405725,96.22075980405725,96.22075980405725,96.22075980405725,96.22075980405725,96.22075980405725,96.22075980405725,96.22075980405725,96.22075980405725,96.22075980405725,96.35285874160212,96.35285874160212,96.35285874160212,96.35285874160212,96.35285874160212,96.35285874160212,96.35285874160212,96.35285874160212,96.35285874160212,96.35285874160212,96.35285874160212,96.35285874160212,96.35285874160212,96.35285874160212,96.35285874160212,96.35285874160212,96.35285874160212,97.86160114421654,97.86160114421654,97.86160114421654,97.86160114421654,97.86160114421654,97.86160114421654,97.86160114421654,97.86160114421654,97.86160114421654,97.86160114421654,97.86160114421654,97.86160114421654,97.86160114421654,97.86160114421654,97.86160114421654,97.86160114421654,97.86160114421654,97.86160114421654,97.86160114421654,97.86160114421654,97.86160114421654,97.86160114421654,97.86160114421654,97.86160114421654,97.86160114421654,97.86160114421654,97.86160114421654,97.86160114421654,97.86160114421654],\"type\":\"scatter\"}], {});\n",
       "\t\t}if(window.Plotly){plot1581187636383();}else if(!window.require){\n",
       "\t\t\tvar head = document.head || document.getElementsByTagName('head')[0];\n",
       "\t\t\tvar s = document.createElement('script');\n",
       "\t\t\ts.src = 'https://cdn.plot.ly/plotly-latest.min.js';\n",
       "\t\t\ts.type = 'text/javascript';\n",
       "\t\t\ts.async = false;\n",
       "\t\t\ts.onreadystatechange = s.onload = plot1581187636383;\n",
       "\t\t\thead.appendChild(s);\n",
       "\t\t}else{\n",
       "\t\t\trequire(['https://cdn.plot.ly/plotly-latest.min.js'], function(Plotly){\n",
       "\t\t\t\twindow.Plotly = Plotly;\n",
       "\t\t\t\tplot1581187636383();\n",
       "\t\t\t});\n",
       "\t\t}\n",
       "\t\t</script>\n",
       "\t\t</div>\n",
       "\t"
      ]
     },
     "execution_count": 12,
     "metadata": {},
     "output_type": "execute_result"
    }
   ],
   "source": [
    "var log = {\n",
    "  y: scoreLogL,\n",
    "  type: 'scatter'\n",
    "};\n",
    "\n",
    "ds.Collection().plotly([log],{}).show();"
   ]
  },
  {
   "cell_type": "markdown",
   "metadata": {},
   "source": [
    "### 1000 Evolutionen, PopStart 2x Teilnehmer, PopMax 4x Teilnehmer"
   ]
  },
  {
   "cell_type": "code",
   "execution_count": 26,
   "metadata": {},
   "outputs": [
    {
     "name": "stdout",
     "output_type": "stream",
     "text": [
      "{\n",
      "  combination: [\n",
      "    1, 7, 5, 1, 1, 1, 3, 2, 4, 5,\n",
      "    5, 5, 4, 7, 5, 6, 4, 6, 1, 3,\n",
      "    4, 5, 7, 6, 3, 4, 1, 2, 2, 6,\n",
      "    6, 3, 4, 6, 1, 2, 3, 7, 2, 7,\n",
      "    2, 3, 7\n",
      "  ],\n",
      "  score: 101.31516350269852,\n",
      "  settings: {\n",
      "    populationStartSize: 86,\n",
      "    populationMaxSize: 172,\n",
      "    evolutions: 1000,\n",
      "    elitism: 1,\n",
      "    steps: 100,\n",
      "    interceptor: [Function: interceptor]\n",
      "  }\n",
      "}\n"
     ]
    }
   ],
   "source": [
    "// Variablen\n",
    "var scoreLogL_2 = [];\n",
    "var winnerL_2;\n",
    "\n",
    "var n = Object.keys(dataL).length;\n",
    "\n",
    "// Settings\n",
    "var settings = {populationStartSize: (2 * n), populationMaxSize: (4 * n), evolutions: 1000, steps: 100, interceptor: (ga) => {\n",
    "    scoreLogL_2.push(ga.bestScore());\n",
    "}};\n",
    "\n",
    "// Berechnen\n",
    "diversibute.genetic(dataL, 7, settings).then(result => {\n",
    "    console.log(result);\n",
    "    winnerL_2 = result;\n",
    "});"
   ]
  },
  {
   "cell_type": "code",
   "execution_count": 27,
   "metadata": {},
   "outputs": [
    {
     "data": {
      "text/html": [
       "\n",
       "\t<div class=\"plotly-plot\">\n",
       "\t\t<div id=\"notebook-plot-1581188445736\"></div>\n",
       "\t\t<script>\n",
       "\t\tfunction plot1581188445736(){\n",
       "\t\t\tPlotly.plot('notebook-plot-1581188445736',[{\"y\":[-26.592239774742183,34.96626041379652,34.96626041379652,53.66918064127728,53.66918064127728,53.66918064127728,76.41955264493966,76.41955264493966,76.41955264493966,76.41955264493966,77.25822344118644,82.8909877515431,85.01951035228913,86.17473081855161,86.17473081855161,86.17473081855161,93.84508064445264,93.84508064445264,93.84508064445264,93.84508064445264,93.84508064445264,93.84508064445264,93.84508064445264,93.84508064445264,95.88943060531868,95.88943060531868,95.88943060531868,95.88943060531868,95.88943060531868,95.88943060531868,95.88943060531868,95.88943060531868,95.88943060531868,95.88943060531868,95.88943060531868,95.88943060531868,95.88943060531868,95.88943060531868,95.88943060531868,95.88943060531868,95.88943060531868,95.88943060531868,97.06620873559812,97.06620873559812,97.06620873559812,97.06620873559812,97.06620873559812,97.06620873559812,97.06620873559812,97.90434887276146,97.90434887276146,97.90434887276146,97.90434887276146,97.90434887276146,97.90434887276146,97.90434887276146,97.90434887276146,97.90434887276146,97.90434887276146,99.4329131722935,99.4329131722935,99.4329131722935,99.4329131722935,99.4329131722935,99.4329131722935,99.4329131722935,99.4329131722935,99.4329131722935,99.82639776945341,99.82639776945341,99.82639776945341,100.74784466805411,101.31516350269852,101.31516350269852,101.31516350269852,101.31516350269852,101.31516350269852,101.31516350269852,101.31516350269852,101.31516350269852,101.31516350269852,101.31516350269852,101.31516350269852,101.31516350269852,101.31516350269852,101.31516350269852,101.31516350269852,101.31516350269852,101.31516350269852,101.31516350269852,101.31516350269852,101.31516350269852,101.31516350269852,101.31516350269852,101.31516350269852,101.31516350269852,101.31516350269852,101.31516350269852,101.31516350269852,101.31516350269852],\"type\":\"scatter\"}], {});\n",
       "\t\t}if(window.Plotly){plot1581188445736();}else if(!window.require){\n",
       "\t\t\tvar head = document.head || document.getElementsByTagName('head')[0];\n",
       "\t\t\tvar s = document.createElement('script');\n",
       "\t\t\ts.src = 'https://cdn.plot.ly/plotly-latest.min.js';\n",
       "\t\t\ts.type = 'text/javascript';\n",
       "\t\t\ts.async = false;\n",
       "\t\t\ts.onreadystatechange = s.onload = plot1581188445736;\n",
       "\t\t\thead.appendChild(s);\n",
       "\t\t}else{\n",
       "\t\t\trequire(['https://cdn.plot.ly/plotly-latest.min.js'], function(Plotly){\n",
       "\t\t\t\twindow.Plotly = Plotly;\n",
       "\t\t\t\tplot1581188445736();\n",
       "\t\t\t});\n",
       "\t\t}\n",
       "\t\t</script>\n",
       "\t\t</div>\n",
       "\t"
      ]
     },
     "execution_count": 27,
     "metadata": {},
     "output_type": "execute_result"
    }
   ],
   "source": [
    "var log = {\n",
    "  y: scoreLogL_2,\n",
    "  type: 'scatter'\n",
    "};\n",
    "\n",
    "ds.Collection().plotly([log],{}).show();"
   ]
  },
  {
   "cell_type": "markdown",
   "metadata": {},
   "source": [
    "## Medium size mit 4 Features"
   ]
  },
  {
   "cell_type": "code",
   "execution_count": 17,
   "metadata": {},
   "outputs": [],
   "source": [
    "var dataM4 = require('../examples/data/4features/input-m.json'); \n",
    "\n",
    "// Gruppengröße\n",
    "var groupsM4 = 7;"
   ]
  },
  {
   "cell_type": "markdown",
   "metadata": {},
   "source": [
    "### 1000 Evolutions, 20 PopStart, 100 PopMax"
   ]
  },
  {
   "cell_type": "code",
   "execution_count": 18,
   "metadata": {},
   "outputs": [
    {
     "name": "stdout",
     "output_type": "stream",
     "text": [
      "{\n",
      "  combination: [\n",
      "    1, 4, 1, 4, 4, 2, 6, 3,\n",
      "    2, 1, 4, 7, 3, 7, 6, 2,\n",
      "    5, 6, 5, 5, 2, 1, 5, 7,\n",
      "    3, 3\n",
      "  ],\n",
      "  score: 4.595168288273555,\n",
      "  settings: {\n",
      "    populationStartSize: 20,\n",
      "    populationMaxSize: 100,\n",
      "    evolutions: 1000,\n",
      "    elitism: 1,\n",
      "    steps: 100,\n",
      "    interceptor: [Function: interceptor]\n",
      "  }\n",
      "}\n"
     ]
    }
   ],
   "source": [
    "// Variablen\n",
    "var scoreLogM4 = [];\n",
    "var winnerM4;\n",
    "\n",
    "// Settings\n",
    "var settings = {populationStartSize: 20, populationMaxSize: 100, evolutions: 1000, steps: 100, interceptor: (ga) => {\n",
    "    scoreLogM4.push(ga.bestScore());\n",
    "}};\n",
    "\n",
    "// Berechnen\n",
    "diversibute.genetic(dataM4, groupsM4, settings).then(result => {\n",
    "    console.log(result);\n",
    "    winnerM4 = result;\n",
    "});"
   ]
  },
  {
   "cell_type": "code",
   "execution_count": 19,
   "metadata": {},
   "outputs": [
    {
     "data": {
      "text/html": [
       "\n",
       "\t<div class=\"plotly-plot\">\n",
       "\t\t<div id=\"notebook-plot-1581187796196\"></div>\n",
       "\t\t<script>\n",
       "\t\tfunction plot1581187796196(){\n",
       "\t\t\tPlotly.plot('notebook-plot-1581187796196',[{\"y\":[-169.83379693044594,-109.62933740491829,-106.78005453480415,-77.28500454548796,-63.160922675734874,-29.215738340842606,-29.215738340842606,-22.241524689419577,-18.970641394709006,-18.970641394709006,-18.970641394709006,-18.970641394709006,-18.970641394709006,-9.673735738891281,-9.673735738891281,-0.8898917230885814,-0.8898917230885814,-0.8898917230885814,-0.8898917230885814,-0.8898917230885814,-0.8898917230885814,-0.8898917230885814,-0.8898917230885814,-0.8898917230885814,-0.8898917230885814,1.0880882801389617,1.0880882801389617,1.0880882801389617,1.0880882801389617,1.0880882801389617,1.0880882801389617,1.0880882801389617,1.4481363657865387,1.4481363657865387,3.5357023459992973,3.5357023459992973,3.5357023459992973,4.595168288273555,4.595168288273555,4.595168288273555,4.595168288273555,4.595168288273555,4.595168288273555,4.595168288273555,4.595168288273555,4.595168288273555,4.595168288273555,4.595168288273555,4.595168288273555,4.595168288273555,4.595168288273555,4.595168288273555,4.595168288273555,4.595168288273555,4.595168288273555,4.595168288273555,4.595168288273555,4.595168288273555,4.595168288273555,4.595168288273555,4.595168288273555,4.595168288273555,4.595168288273555,4.595168288273555,4.595168288273555,4.595168288273555,4.595168288273555,4.595168288273555,4.595168288273555,4.595168288273555,4.595168288273555,4.595168288273555,4.595168288273555,4.595168288273555,4.595168288273555,4.595168288273555,4.595168288273555,4.595168288273555,4.595168288273555,4.595168288273555,4.595168288273555,4.595168288273555,4.595168288273555,4.595168288273555,4.595168288273555,4.595168288273555,4.595168288273555,4.595168288273555,4.595168288273555,4.595168288273555,4.595168288273555,4.595168288273555,4.595168288273555,4.595168288273555,4.595168288273555,4.595168288273555,4.595168288273555,4.595168288273555,4.595168288273555,4.595168288273555],\"type\":\"scatter\"}], {});\n",
       "\t\t}if(window.Plotly){plot1581187796196();}else if(!window.require){\n",
       "\t\t\tvar head = document.head || document.getElementsByTagName('head')[0];\n",
       "\t\t\tvar s = document.createElement('script');\n",
       "\t\t\ts.src = 'https://cdn.plot.ly/plotly-latest.min.js';\n",
       "\t\t\ts.type = 'text/javascript';\n",
       "\t\t\ts.async = false;\n",
       "\t\t\ts.onreadystatechange = s.onload = plot1581187796196;\n",
       "\t\t\thead.appendChild(s);\n",
       "\t\t}else{\n",
       "\t\t\trequire(['https://cdn.plot.ly/plotly-latest.min.js'], function(Plotly){\n",
       "\t\t\t\twindow.Plotly = Plotly;\n",
       "\t\t\t\tplot1581187796196();\n",
       "\t\t\t});\n",
       "\t\t}\n",
       "\t\t</script>\n",
       "\t\t</div>\n",
       "\t"
      ]
     },
     "execution_count": 19,
     "metadata": {},
     "output_type": "execute_result"
    }
   ],
   "source": [
    "var log = {\n",
    "  y: scoreLogM4,\n",
    "  type: 'scatter'\n",
    "};\n",
    "\n",
    "ds.Collection().plotly([log],{}).show();"
   ]
  },
  {
   "cell_type": "code",
   "execution_count": null,
   "metadata": {},
   "outputs": [],
   "source": []
  }
 ],
 "metadata": {
  "kernelspec": {
   "display_name": "Javascript (Node.js)",
   "language": "javascript",
   "name": "javascript"
  },
  "language_info": {
   "file_extension": ".js",
   "mimetype": "application/javascript",
   "name": "javascript",
   "version": "13.0.0"
  }
 },
 "nbformat": 4,
 "nbformat_minor": 2
}
