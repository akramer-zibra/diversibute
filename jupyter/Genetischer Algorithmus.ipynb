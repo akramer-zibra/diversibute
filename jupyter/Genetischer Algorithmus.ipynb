{
 "cells": [
  {
   "cell_type": "code",
   "execution_count": 1,
   "metadata": {},
   "outputs": [
    {
     "name": "stdout",
     "output_type": "stream",
     "text": [
      "{\n",
      "  A: [ 1.6, 0, 2.4 ],\n",
      "  B: [ 8.6, 1.3, 6.2 ],\n",
      "  C: [ 6.6, 1.2, 2.3 ],\n",
      "  D: [ 6.6, 3.6, 0 ],\n",
      "  E: [ 8.7, 4.1, 8.3 ],\n",
      "  F: [ 1.2, 4.1, 1.4 ],\n",
      "  G: [ 0, 1.2, 1.5 ],\n",
      "  H: [ 2.7, 3.6, 5 ],\n",
      "  I: [ 1.6, 7.8, 5.8 ],\n",
      "  J: [ 1.2, 3.7, 0 ],\n",
      "  K: [ 7.9, 0, 1.6 ],\n",
      "  L: [ 9, 2.9, 0 ],\n",
      "  M: [ 3.2, 7.4, 5.5 ],\n",
      "  N: [ 7.3, 1.2, 8.7 ],\n",
      "  O: [ 1.4, 7.8, 7.7 ],\n",
      "  P: [ 1.5, 1, 1.2 ],\n",
      "  Q: [ 8.1, 0, 2.6 ],\n",
      "  R: [ 9.2, 0, 0 ],\n",
      "  S: [ 6.4, 1.3, 0 ],\n",
      "  T: [ 9.8, 6.8, 7.7 ],\n",
      "  U: [ 1.8, 1.4, 6.9 ],\n",
      "  V: [ 0, 3, 1.8 ],\n",
      "  W: [ 7.3, 2.7, 0 ],\n",
      "  X: [ 1.2, 9.4, 4.7 ],\n",
      "  Y: [ 4.7, 4.8, 8.6 ],\n",
      "  Z: [ 3.3, 0, 7.3 ]\n",
      "}\n"
     ]
    }
   ],
   "source": [
    "var ds = require('dstools');\n",
    "var data = require('../examples/data/3features/input-m.json'); \n",
    "\n",
    "// Data\n",
    "console.log(data);"
   ]
  },
  {
   "cell_type": "code",
   "execution_count": 16,
   "metadata": {},
   "outputs": [
    {
     "name": "stdout",
     "output_type": "stream",
     "text": [
      "-8.462455093553672\n",
      "73.18677688175615\n",
      "78.69805824140639\n",
      "78.69805824140639\n",
      "78.71025653292637\n",
      "79.05988818810835\n",
      "79.79843640780933\n",
      "79.80217857253812\n",
      "79.80217857253812\n",
      "79.80217857253812\n",
      "{\n",
      "  combination: [\n",
      "    2, 2, 4, 3, 1, 4, 3, 4,\n",
      "    1, 3, 1, 5, 4, 2, 5, 5,\n",
      "    5, 1, 4, 3, 1, 4, 2, 2,\n",
      "    5, 3\n",
      "  ],\n",
      "  score: 79.80217857253812,\n",
      "  settings: {\n",
      "    populationStartSize: 20,\n",
      "    populationMaxSize: 100,\n",
      "    evolutions: 1000,\n",
      "    elitism: 1,\n",
      "    steps: 10,\n",
      "    interceptor: [Function: interceptor]\n",
      "  }\n",
      "}\n"
     ]
    }
   ],
   "source": [
    "// Use genetic algorithm\n",
    "var diversibute = require('../index');\n",
    "\n",
    "var groups = 5;\n",
    "var winner;\n",
    "\n",
    "// Intercept algorithm\n",
    "diversibute.genetic(data, groups, {populationStartSize: 20, populationMaxSize: 100, evolutions: 1000, steps: 10, interceptor: (ga) => {\n",
    "    console.log(ga.bestScore());\n",
    "}}).then(result => {\n",
    "    console.log(result);\n",
    "    winner = result;\n",
    "});"
   ]
  },
  {
   "cell_type": "code",
   "execution_count": 17,
   "metadata": {},
   "outputs": [
    {
     "data": {
      "text/html": [
       "\n",
       "\t<div class=\"plotly-plot\">\n",
       "\t\t<div id=\"notebook-plot-1581159522680\"></div>\n",
       "\t\t<script>\n",
       "\t\tfunction plot1581159522680(){\n",
       "\t\t\tPlotly.plot('notebook-plot-1581159522680',[{\"x\":[8.7,1.6,7.9,9.2,1.8],\"y\":[4.1,7.8,0,0,1.4],\"z\":[8.3,5.8,1.6,0,6.9],\"mode\":\"markers\",\"marker\":{\"size\":12,\"line\":{\"color\":\"rgba(217, 217, 217, 0.14)\",\"width\":0.5},\"opacity\":0.8},\"type\":\"scatter3d\"},{\"x\":[1.6,8.6,7.3,7.3,1.2],\"y\":[0,1.3,1.2,2.7,9.4],\"z\":[2.4,6.2,8.7,0,4.7],\"mode\":\"markers\",\"marker\":{\"size\":12,\"line\":{\"color\":\"rgba(217, 217, 217, 0.14)\",\"width\":0.5},\"opacity\":0.8},\"type\":\"scatter3d\"},{\"x\":[6.6,0,1.2,9.8,3.3],\"y\":[3.6,1.2,3.7,6.8,0],\"z\":[0,1.5,0,7.7,7.3],\"mode\":\"markers\",\"marker\":{\"size\":12,\"line\":{\"color\":\"rgba(217, 217, 217, 0.14)\",\"width\":0.5},\"opacity\":0.8},\"type\":\"scatter3d\"},{\"x\":[6.6,1.2,2.7,3.2,6.4,0],\"y\":[1.2,4.1,3.6,7.4,1.3,3],\"z\":[2.3,1.4,5,5.5,0,1.8],\"mode\":\"markers\",\"marker\":{\"size\":12,\"line\":{\"color\":\"rgba(217, 217, 217, 0.14)\",\"width\":0.5},\"opacity\":0.8},\"type\":\"scatter3d\"},{\"x\":[9,1.4,1.5,8.1,4.7],\"y\":[2.9,7.8,1,0,4.8],\"z\":[0,7.7,1.2,2.6,8.6],\"mode\":\"markers\",\"marker\":{\"size\":12,\"line\":{\"color\":\"rgba(217, 217, 217, 0.14)\",\"width\":0.5},\"opacity\":0.8},\"type\":\"scatter3d\"}], {\"margin\":{\"l\":0,\"r\":0,\"b\":0,\"t\":0}});\n",
       "\t\t}if(window.Plotly){plot1581159522680();}else if(!window.require){\n",
       "\t\t\tvar head = document.head || document.getElementsByTagName('head')[0];\n",
       "\t\t\tvar s = document.createElement('script');\n",
       "\t\t\ts.src = 'https://cdn.plot.ly/plotly-latest.min.js';\n",
       "\t\t\ts.type = 'text/javascript';\n",
       "\t\t\ts.async = false;\n",
       "\t\t\ts.onreadystatechange = s.onload = plot1581159522680;\n",
       "\t\t\thead.appendChild(s);\n",
       "\t\t}else{\n",
       "\t\t\trequire(['https://cdn.plot.ly/plotly-latest.min.js'], function(Plotly){\n",
       "\t\t\t\twindow.Plotly = Plotly;\n",
       "\t\t\t\tplot1581159522680();\n",
       "\t\t\t});\n",
       "\t\t}\n",
       "\t\t</script>\n",
       "\t\t</div>\n",
       "\t"
      ]
     },
     "execution_count": 17,
     "metadata": {},
     "output_type": "execute_result"
    }
   ],
   "source": [
    "// Benutze dstools für die Darstellung mit plotly.js\n",
    "var ds = require('dstools');\n",
    "\n",
    "// Gruppen als traces darstellen\n",
    "var traces = [];\n",
    "for(let i = 0; i < groups; i++) {\n",
    "    traces.push({x: [], y: [], z: [],\n",
    "        mode: 'markers',\n",
    "        marker: {\n",
    "            size: 12,\n",
    "            line: {\n",
    "                color: 'rgba(217, 217, 217, 0.14)',\n",
    "                width: 0.5\n",
    "            },\n",
    "            opacity: 0.8\n",
    "        },\n",
    "        type: 'scatter3d'\n",
    "    });\n",
    "}\n",
    "\n",
    "// Loop input data and build group traces\n",
    "Object.keys(data).forEach((member, index) => {\n",
    "    \n",
    "    // Retrieve member group \n",
    "    var group = winner.combination[index];\n",
    "    \n",
    "    traces[group-1].x.push(data[member][0]);\n",
    "    traces[group-1].y.push(data[member][1]);\n",
    "    traces[group-1].z.push(data[member][2]);    \n",
    "});\n",
    "\n",
    "// Print 3D Model with group traces and colors\n",
    "ds.Collection().plotly(traces,{margin: {l: 0, r: 0, b: 0, t: 0 }}).show();"
   ]
  },
  {
   "cell_type": "code",
   "execution_count": null,
   "metadata": {},
   "outputs": [],
   "source": []
  }
 ],
 "metadata": {
  "kernelspec": {
   "display_name": "Javascript (Node.js)",
   "language": "javascript",
   "name": "javascript"
  },
  "language_info": {
   "file_extension": ".js",
   "mimetype": "application/javascript",
   "name": "javascript",
   "version": "13.0.0"
  }
 },
 "nbformat": 4,
 "nbformat_minor": 2
}
