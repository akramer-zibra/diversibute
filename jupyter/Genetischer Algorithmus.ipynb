{
 "cells": [
  {
   "cell_type": "code",
   "execution_count": 1,
   "metadata": {},
   "outputs": [
    {
     "name": "stdout",
     "output_type": "stream",
     "text": [
      "{\n",
      "  A: [ 1.6, 0, 2.4 ],\n",
      "  B: [ 8.6, 1.3, 6.2 ],\n",
      "  C: [ 6.6, 1.2, 2.3 ],\n",
      "  D: [ 6.6, 3.6, 0 ],\n",
      "  E: [ 8.7, 4.1, 8.3 ],\n",
      "  F: [ 1.2, 4.1, 1.4 ],\n",
      "  G: [ 0, 1.2, 1.5 ],\n",
      "  H: [ 2.7, 3.6, 5 ],\n",
      "  I: [ 1.6, 7.8, 5.8 ],\n",
      "  J: [ 1.2, 3.7, 0 ],\n",
      "  K: [ 7.9, 0, 1.6 ],\n",
      "  L: [ 9, 2.9, 0 ],\n",
      "  M: [ 3.2, 7.4, 5.5 ],\n",
      "  N: [ 7.3, 1.2, 8.7 ],\n",
      "  O: [ 1.4, 7.8, 7.7 ],\n",
      "  P: [ 1.5, 1, 1.2 ],\n",
      "  Q: [ 8.1, 0, 2.6 ],\n",
      "  R: [ 9.2, 0, 0 ],\n",
      "  S: [ 6.4, 1.3, 0 ],\n",
      "  T: [ 9.8, 6.8, 7.7 ],\n",
      "  U: [ 1.8, 1.4, 6.9 ],\n",
      "  V: [ 0, 3, 1.8 ],\n",
      "  W: [ 7.3, 2.7, 0 ],\n",
      "  X: [ 1.2, 9.4, 4.7 ],\n",
      "  Y: [ 4.7, 4.8, 8.6 ],\n",
      "  Z: [ 3.3, 0, 7.3 ]\n",
      "}\n"
     ]
    }
   ],
   "source": [
    "var ds = require('dstools');\n",
    "var data = require('../examples/data/3features/input-m.json'); \n",
    "\n",
    "// Data\n",
    "console.log(data);"
   ]
  },
  {
   "cell_type": "code",
   "execution_count": null,
   "metadata": {},
   "outputs": [],
   "source": [
    "// Use genetic algorithm\n",
    "var genetic = require('../index').genetic;\n",
    "\n",
    "// Intercept logging"
   ]
  }
 ],
 "metadata": {
  "kernelspec": {
   "display_name": "Javascript (Node.js)",
   "language": "javascript",
   "name": "javascript"
  },
  "language_info": {
   "file_extension": ".js",
   "mimetype": "application/javascript",
   "name": "javascript",
   "version": "13.0.0"
  }
 },
 "nbformat": 4,
 "nbformat_minor": 2
}
