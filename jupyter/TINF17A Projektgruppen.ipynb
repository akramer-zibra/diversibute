{
 "cells": [
  {
   "cell_type": "markdown",
   "metadata": {},
   "source": [
    "# Projektgruppen für TINF17A"
   ]
  },
  {
   "cell_type": "code",
   "execution_count": 1,
   "metadata": {},
   "outputs": [],
   "source": [
    "// Eingabewerte\n",
    "var input = {\n",
    "    \"A\": [1.6, 0, 2.4],\n",
    "    \"B\": [8.6, 1.3, 6.2],\n",
    "    \"C\": [6.6, 1.2, 2.3],\n",
    "    \"D\": [6.6, 3.6, 0],\n",
    "    \"E\": [8.7, 4.1, 8.3],\n",
    "    \"F\": [1.2, 4.1, 1.4],\n",
    "    \"G\": [0, 1.2, 1.5],\n",
    "    \"H\": [2.7, 3.6, 5],\n",
    "    \"I\": [1.6, 7.8, 5.8],\n",
    "    \"J\": [1.2, 3.7, 0],\n",
    "    \"K\": [7.9, 0, 1.6],\n",
    "    \"L\": [9, 2.9, 0],\n",
    "    \"M\": [3.2, 7.4, 5.5],\n",
    "    \"N\": [7.3, 1.2, 8.7],\n",
    "    \"O\": [1.4, 7.8, 7.7],\n",
    "    \"P\": [1.5, 1, 1.2],\n",
    "    \"Q\": [8.1, 0, 2.6],\n",
    "    \"R\": [9.2, 0, 0],\n",
    "    \"S\": [6.4, 1.3, 0]\n",
    "}"
   ]
  },
  {
   "cell_type": "markdown",
   "metadata": {},
   "source": [
    "## Berechnung"
   ]
  },
  {
   "cell_type": "code",
   "execution_count": 11,
   "metadata": {},
   "outputs": [],
   "source": [
    "// Berechnungsmodul\n",
    "var diversibute = require('../index');\n",
    "\n",
    "// Konfiguration\n",
    "var groups = 4;\n",
    "\n",
    "// Definiere Variable für bestes Ergebnis\n",
    "var winner = undefined;\n",
    "\n",
    "// Algorithmus\n",
    "diversibute.genetic(input, groups, {evolutions: 100}).then(result => { \n",
    "    winner = result;\n",
    "});"
   ]
  },
  {
   "cell_type": "code",
   "execution_count": 12,
   "metadata": {},
   "outputs": [
    {
     "name": "stdout",
     "output_type": "stream",
     "text": [
      "{\n",
      "  combination: [\n",
      "    4, 4, 2, 3, 2, 1, 3,\n",
      "    3, 1, 1, 3, 2, 4, 2,\n",
      "    1, 3, 2, 4, 1\n",
      "  ],\n",
      "  score: 18.178672368659974,\n",
      "  settings: { populationStartSize: 40, populationMaxSize: 100, evolutions: 100 }\n",
      "}\n"
     ]
    }
   ],
   "source": [
    "console.log(winner);"
   ]
  },
  {
   "cell_type": "markdown",
   "metadata": {},
   "source": [
    "## Ergebnis darstellen"
   ]
  },
  {
   "cell_type": "code",
   "execution_count": 13,
   "metadata": {},
   "outputs": [
    {
     "data": {
      "text/html": [
       "\n",
       "\t<div class=\"plotly-plot\">\n",
       "\t\t<div id=\"notebook-plot-1580922912713\"></div>\n",
       "\t\t<script>\n",
       "\t\tfunction plot1580922912713(){\n",
       "\t\t\tPlotly.plot('notebook-plot-1580922912713',[{\"x\":[1.2,1.6,1.2,1.4,6.4],\"y\":[4.1,7.8,3.7,7.8,1.3],\"z\":[1.4,5.8,0,7.7,0],\"mode\":\"markers\",\"marker\":{\"size\":12,\"line\":{\"color\":\"rgba(217, 217, 217, 0.14)\",\"width\":0.5},\"opacity\":0.8},\"type\":\"scatter3d\"},{\"x\":[6.6,8.7,9,7.3,8.1],\"y\":[1.2,4.1,2.9,1.2,0],\"z\":[2.3,8.3,0,8.7,2.6],\"mode\":\"markers\",\"marker\":{\"size\":12,\"line\":{\"color\":\"rgba(217, 217, 217, 0.14)\",\"width\":0.5},\"opacity\":0.8},\"type\":\"scatter3d\"},{\"x\":[6.6,0,2.7,7.9,1.5],\"y\":[3.6,1.2,3.6,0,1],\"z\":[0,1.5,5,1.6,1.2],\"mode\":\"markers\",\"marker\":{\"size\":12,\"line\":{\"color\":\"rgba(217, 217, 217, 0.14)\",\"width\":0.5},\"opacity\":0.8},\"type\":\"scatter3d\"},{\"x\":[1.6,8.6,3.2,9.2],\"y\":[0,1.3,7.4,0],\"z\":[2.4,6.2,5.5,0],\"mode\":\"markers\",\"marker\":{\"size\":12,\"line\":{\"color\":\"rgba(217, 217, 217, 0.14)\",\"width\":0.5},\"opacity\":0.8},\"type\":\"scatter3d\"}], {\"margin\":{\"l\":0,\"r\":0,\"b\":0,\"t\":0}});\n",
       "\t\t}if(window.Plotly){plot1580922912713();}else if(!window.require){\n",
       "\t\t\tvar head = document.head || document.getElementsByTagName('head')[0];\n",
       "\t\t\tvar s = document.createElement('script');\n",
       "\t\t\ts.src = 'https://cdn.plot.ly/plotly-latest.min.js';\n",
       "\t\t\ts.type = 'text/javascript';\n",
       "\t\t\ts.async = false;\n",
       "\t\t\ts.onreadystatechange = s.onload = plot1580922912713;\n",
       "\t\t\thead.appendChild(s);\n",
       "\t\t}else{\n",
       "\t\t\trequire(['https://cdn.plot.ly/plotly-latest.min.js'], function(Plotly){\n",
       "\t\t\t\twindow.Plotly = Plotly;\n",
       "\t\t\t\tplot1580922912713();\n",
       "\t\t\t});\n",
       "\t\t}\n",
       "\t\t</script>\n",
       "\t\t</div>\n",
       "\t"
      ]
     },
     "execution_count": 13,
     "metadata": {},
     "output_type": "execute_result"
    }
   ],
   "source": [
    "// Benutze dstools für die Darstellung mit plotly.js\n",
    "var ds = require('dstools');\n",
    "\n",
    "// Gruppen als traces darstellen\n",
    "var traces = [];\n",
    "for(let i = 0; i < groups; i++) {\n",
    "    traces.push({x: [], y: [], z: [],\n",
    "        mode: 'markers',\n",
    "        marker: {\n",
    "            size: 12,\n",
    "            line: {\n",
    "                color: 'rgba(217, 217, 217, 0.14)',\n",
    "                width: 0.5\n",
    "            },\n",
    "            opacity: 0.8\n",
    "        },\n",
    "        type: 'scatter3d'\n",
    "    });\n",
    "}\n",
    "\n",
    "// Loop input data and build group traces\n",
    "Object.keys(input).forEach((member, index) => {\n",
    "    \n",
    "    // Retrieve member group \n",
    "    var group = winner.combination[index];\n",
    "    \n",
    "    traces[group-1].x.push(input[member][0]);\n",
    "    traces[group-1].y.push(input[member][1]);\n",
    "    traces[group-1].z.push(input[member][2]);    \n",
    "});\n",
    "\n",
    "// Print 3D Model with group traces and colors\n",
    "ds.Collection().plotly(traces,{margin: {l: 0, r: 0, b: 0, t: 0 }}).show();"
   ]
  },
  {
   "cell_type": "code",
   "execution_count": null,
   "metadata": {},
   "outputs": [],
   "source": []
  }
 ],
 "metadata": {
  "kernelspec": {
   "display_name": "Javascript (Node.js)",
   "language": "javascript",
   "name": "javascript"
  },
  "language_info": {
   "file_extension": ".js",
   "mimetype": "application/javascript",
   "name": "javascript",
   "version": "13.0.0"
  }
 },
 "nbformat": 4,
 "nbformat_minor": 2
}
