{
 "cells": [
  {
   "cell_type": "markdown",
   "metadata": {},
   "source": [
    "# Projektgruppen für TINF17A"
   ]
  },
  {
   "cell_type": "code",
   "execution_count": null,
   "metadata": {},
   "outputs": [],
   "source": [
    "// Eingabewerte\n",
    "var input = {\n",
    "    \"A\": [1.6, 0, 2.4],\n",
    "    \"B\": [8.6, 1.3, 6.2],\n",
    "    \"C\": [6.6, 1.2, 2.3],\n",
    "    \"D\": [6.6, 3.6, 0],\n",
    "    \"E\": [8.7, 4.1, 8.3],\n",
    "    \"F\": [1.2, 4.1, 1.4],\n",
    "    \"G\": [0, 1.2, 1.5],\n",
    "    \"H\": [2.7, 3.6, 5],\n",
    "    \"I\": [1.6, 7.8, 5.8],\n",
    "    \"J\": [1.2, 3.7, 0],\n",
    "    \"K\": [7.9, 0, 1.6],\n",
    "    \"L\": [9, 2.9, 0],\n",
    "    \"M\": [3.2, 7.4, 5.5],\n",
    "    \"N\": [7.3, 1.2, 8.7],\n",
    "    \"O\": [1.4, 7.8, 7.7],\n",
    "    \"P\": [1.5, 1, 1.2],\n",
    "    \"Q\": [8.1, 0, 2.6],\n",
    "    \"R\": [9.2, 0, 0],\n",
    "    \"S\": [6.4, 1.3, 0]\n",
    "}"
   ]
  },
  {
   "cell_type": "markdown",
   "metadata": {},
   "source": [
    "## Berechnung"
   ]
  },
  {
   "cell_type": "code",
   "execution_count": null,
   "metadata": {},
   "outputs": [],
   "source": [
    "// Berechnungsmodul\n",
    "var diversibute = require('../index');\n",
    "\n",
    "// Konfiguration\n",
    "var groups = 4;\n",
    "\n",
    "// Definiere Variable für bestes Ergebnis\n",
    "var winner = undefined;\n",
    "\n",
    "// Algorithmus\n",
    "diversibute.genetic(input, groups).then(result => { \n",
    "    winner = result;\n",
    "});"
   ]
  },
  {
   "cell_type": "code",
   "execution_count": null,
   "metadata": {},
   "outputs": [],
   "source": [
    "console.log(winner);"
   ]
  },
  {
   "cell_type": "markdown",
   "metadata": {},
   "source": [
    "## Ergebnis darstellen"
   ]
  },
  {
   "cell_type": "code",
   "execution_count": null,
   "metadata": {},
   "outputs": [],
   "source": [
    "// Benutze dstools für die Darstellung mit plotly.js\n",
    "var ds = require('dstools');\n",
    "\n",
    "// Gruppen als traces darstellen\n",
    "var traces = [];\n",
    "for(let i = 0; i < groups; i++) {\n",
    "    traces.push({x: [], y: [], z: [],\n",
    "        mode: 'markers',\n",
    "        marker: {\n",
    "            size: 12,\n",
    "            line: {\n",
    "                color: 'rgba(217, 217, 217, 0.14)',\n",
    "                width: 0.5\n",
    "            },\n",
    "            opacity: 0.8\n",
    "        },\n",
    "        type: 'scatter3d'\n",
    "    });\n",
    "}\n",
    "\n",
    "// Loop input data and build group traces\n",
    "Object.keys(input).forEach((member, index) => {\n",
    "    \n",
    "    // Retrieve member group \n",
    "    var group = winner.combination[index];\n",
    "    \n",
    "    traces[group-1].x.push(input[member][0]);\n",
    "    traces[group-1].y.push(input[member][1]);\n",
    "    traces[group-1].z.push(input[member][2]);    \n",
    "});\n",
    "\n",
    "// Print 3D Model with group traces and colors\n",
    "ds.Collection().plotly(traces,{margin: {l: 0, r: 0, b: 0, t: 0 }}).show();"
   ]
  },
  {
   "cell_type": "code",
   "execution_count": null,
   "metadata": {},
   "outputs": [],
   "source": []
  }
 ],
 "metadata": {
  "kernelspec": {
   "display_name": "Javascript (Node.js)",
   "language": "javascript",
   "name": "javascript"
  },
  "language_info": {
   "file_extension": ".js",
   "mimetype": "application/javascript",
   "name": "javascript",
   "version": "13.0.0"
  }
 },
 "nbformat": 4,
 "nbformat_minor": 2
}
